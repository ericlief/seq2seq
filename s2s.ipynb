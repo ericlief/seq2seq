{
 "cells": [
  {
   "cell_type": "code",
   "execution_count": 635,
   "metadata": {
    "collapsed": false,
    "jupyter": {
     "outputs_hidden": false
    },
    "pycharm": {
     "name": "#%%\n"
    }
   },
   "outputs": [
    {
     "name": "stdout",
     "output_type": "stream",
     "text": [
      "cuda\n"
     ]
    }
   ],
   "source": [
    "import torch\n",
    "\n",
    "device = torch.device(\"cuda\" if torch.cuda.is_available() else \"cpu\")\n",
    "print(device)"
   ]
  },
  {
   "cell_type": "code",
   "execution_count": 636,
   "metadata": {
    "collapsed": false,
    "jupyter": {
     "outputs_hidden": false
    },
    "pycharm": {
     "name": "#%%\n"
    }
   },
   "outputs": [],
   "source": [
    "# !pip install --upgrade torchtext\n",
    "# !pip install --upgrade torch\n",
    "\n",
    "from torch.nn.utils.rnn import pack_padded_sequence\n",
    "from torch.nn.utils.rnn import pad_packed_sequence\n",
    "from torch import optim\n",
    "import torch.nn as nn\n",
    "\n",
    "import pandas as pd\n",
    "from tqdm import tqdm"
   ]
  },
  {
   "cell_type": "code",
   "execution_count": 637,
   "metadata": {
    "collapsed": false,
    "jupyter": {
     "outputs_hidden": false
    },
    "pycharm": {
     "name": "#%%\n"
    }
   },
   "outputs": [
    {
     "data": {
      "text/plain": [
       "True"
      ]
     },
     "execution_count": 637,
     "metadata": {},
     "output_type": "execute_result"
    }
   ],
   "source": [
    "torch.cuda.is_available()"
   ]
  },
  {
   "cell_type": "code",
   "execution_count": 638,
   "metadata": {
    "collapsed": false,
    "jupyter": {
     "outputs_hidden": false
    },
    "pycharm": {
     "name": "#%%\n"
    }
   },
   "outputs": [
    {
     "name": "stderr",
     "output_type": "stream",
     "text": [
      "<ipython-input-638-d057213c6eb1>:5: FutureWarning: Passing a negative integer is deprecated in version 1.0 and will not be supported in future version. Instead, use None to not limit the column width.\n",
      "  pd.set_option(\"display.max_colwidth\", -1)\n"
     ]
    }
   ],
   "source": [
    "# from google.colab import drive\n",
    "# drive.mount(\"/content/gdrive\")\n",
    "\n",
    "\n",
    "pd.set_option(\"display.max_colwidth\", -1)\n",
    "# path = \"/content/gdrive/My Drive/data/amazon/amazon-reviews-max50-37k.csv\"\n",
    "path = \"data/amazon-reviews-max50-half.csv\"\n",
    "df = pd.read_csv(path)"
   ]
  },
  {
   "cell_type": "code",
   "execution_count": 639,
   "metadata": {
    "collapsed": false,
    "jupyter": {
     "outputs_hidden": false
    },
    "pycharm": {
     "name": "#%%\n"
    }
   },
   "outputs": [
    {
     "data": {
      "text/html": [
       "<div>\n",
       "<style scoped>\n",
       "    .dataframe tbody tr th:only-of-type {\n",
       "        vertical-align: middle;\n",
       "    }\n",
       "\n",
       "    .dataframe tbody tr th {\n",
       "        vertical-align: top;\n",
       "    }\n",
       "\n",
       "    .dataframe thead th {\n",
       "        text-align: right;\n",
       "    }\n",
       "</style>\n",
       "<table border=\"1\" class=\"dataframe\">\n",
       "  <thead>\n",
       "    <tr style=\"text-align: right;\">\n",
       "      <th></th>\n",
       "      <th>source</th>\n",
       "      <th>target</th>\n",
       "    </tr>\n",
       "  </thead>\n",
       "  <tbody>\n",
       "    <tr>\n",
       "      <th>0</th>\n",
       "      <td>Since my first trip to Jamaica, I fell in love with the coffee.  The delivery date was right on and we had Blue Mountain coffee on Christmas morning!  For a treat, try drinking it with sweetened condensed milk!</td>\n",
       "      <td>Jamaican all the way!</td>\n",
       "    </tr>\n",
       "    <tr>\n",
       "      <th>1</th>\n",
       "      <td>this lavish oatmeal in dark chocolate tastes great. the oatmeal is very convenient and quick to make. it tastes great, like cocoa, not exactly like a rich dark chocolate, but still yummy.</td>\n",
       "      <td>yum</td>\n",
       "    </tr>\n",
       "    <tr>\n",
       "      <th>2</th>\n",
       "      <td>I was truly expecting better from Mrs. Dash, but this is nothing more than vinegary glycerin with some unrecognized flavoring. There is absolutely NO oriental flavor whatsoever. Do yourself a favor and go buy some Balsamic vinegar, it tastes the same.</td>\n",
       "      <td>Don't waste your time</td>\n",
       "    </tr>\n",
       "    <tr>\n",
       "      <th>3</th>\n",
       "      <td>These are my favorite cookies, I have one almost every day. It's hard to believe that they are vegan, they taste much better than most non-vegan cookies!</td>\n",
       "      <td>I love these cookies!</td>\n",
       "    </tr>\n",
       "    <tr>\n",
       "      <th>4</th>\n",
       "      <td>Two of the most yummy, sinful flavors in one healthy package, who knew?  Love it for the late afternoon pick me up when in fade mode! Thank you ZICO!</td>\n",
       "      <td>decadence made healthful</td>\n",
       "    </tr>\n",
       "  </tbody>\n",
       "</table>\n",
       "</div>"
      ],
      "text/plain": [
       "                                                                                                                                                                                                                                                        source  \\\n",
       "0  Since my first trip to Jamaica, I fell in love with the coffee.  The delivery date was right on and we had Blue Mountain coffee on Christmas morning!  For a treat, try drinking it with sweetened condensed milk!                                            \n",
       "1  this lavish oatmeal in dark chocolate tastes great. the oatmeal is very convenient and quick to make. it tastes great, like cocoa, not exactly like a rich dark chocolate, but still yummy.                                                                   \n",
       "2  I was truly expecting better from Mrs. Dash, but this is nothing more than vinegary glycerin with some unrecognized flavoring. There is absolutely NO oriental flavor whatsoever. Do yourself a favor and go buy some Balsamic vinegar, it tastes the same.   \n",
       "3  These are my favorite cookies, I have one almost every day. It's hard to believe that they are vegan, they taste much better than most non-vegan cookies!                                                                                                     \n",
       "4  Two of the most yummy, sinful flavors in one healthy package, who knew?  Love it for the late afternoon pick me up when in fade mode! Thank you ZICO!                                                                                                         \n",
       "\n",
       "                     target  \n",
       "0  Jamaican all the way!     \n",
       "1  yum                       \n",
       "2  Don't waste your time     \n",
       "3  I love these cookies!     \n",
       "4  decadence made healthful  "
      ]
     },
     "execution_count": 639,
     "metadata": {},
     "output_type": "execute_result"
    }
   ],
   "source": [
    "df.head()"
   ]
  },
  {
   "cell_type": "code",
   "execution_count": 640,
   "metadata": {
    "collapsed": false,
    "jupyter": {
     "outputs_hidden": false
    },
    "pycharm": {
     "name": "#%%\n"
    }
   },
   "outputs": [
    {
     "data": {
      "text/html": [
       "<div>\n",
       "<style scoped>\n",
       "    .dataframe tbody tr th:only-of-type {\n",
       "        vertical-align: middle;\n",
       "    }\n",
       "\n",
       "    .dataframe tbody tr th {\n",
       "        vertical-align: top;\n",
       "    }\n",
       "\n",
       "    .dataframe thead th {\n",
       "        text-align: right;\n",
       "    }\n",
       "</style>\n",
       "<table border=\"1\" class=\"dataframe\">\n",
       "  <thead>\n",
       "    <tr style=\"text-align: right;\">\n",
       "      <th></th>\n",
       "      <th>source</th>\n",
       "      <th>target</th>\n",
       "    </tr>\n",
       "  </thead>\n",
       "  <tbody>\n",
       "    <tr>\n",
       "      <th>count</th>\n",
       "      <td>37089</td>\n",
       "      <td>37089</td>\n",
       "    </tr>\n",
       "    <tr>\n",
       "      <th>unique</th>\n",
       "      <td>32851</td>\n",
       "      <td>26076</td>\n",
       "    </tr>\n",
       "    <tr>\n",
       "      <th>top</th>\n",
       "      <td>It was touted by a friend as a sleep inducer, so I tried it and it works.  It tastes kinda mediciney, but it definitely does the job.</td>\n",
       "      <td>Delicious!</td>\n",
       "    </tr>\n",
       "    <tr>\n",
       "      <th>freq</th>\n",
       "      <td>8</td>\n",
       "      <td>207</td>\n",
       "    </tr>\n",
       "  </tbody>\n",
       "</table>\n",
       "</div>"
      ],
      "text/plain": [
       "                                                                                                                                       source  \\\n",
       "count   37089                                                                                                                                   \n",
       "unique  32851                                                                                                                                   \n",
       "top     It was touted by a friend as a sleep inducer, so I tried it and it works.  It tastes kinda mediciney, but it definitely does the job.   \n",
       "freq    8                                                                                                                                       \n",
       "\n",
       "            target  \n",
       "count   37089       \n",
       "unique  26076       \n",
       "top     Delicious!  \n",
       "freq    207         "
      ]
     },
     "execution_count": 640,
     "metadata": {},
     "output_type": "execute_result"
    }
   ],
   "source": [
    "df.describe()"
   ]
  },
  {
   "cell_type": "code",
   "execution_count": 641,
   "metadata": {
    "collapsed": false,
    "jupyter": {
     "outputs_hidden": false
    },
    "pycharm": {
     "name": "#%%\n"
    }
   },
   "outputs": [
    {
     "data": {
      "text/plain": [
       "37089"
      ]
     },
     "execution_count": 641,
     "metadata": {},
     "output_type": "execute_result"
    }
   ],
   "source": [
    "len(df)"
   ]
  },
  {
   "cell_type": "code",
   "execution_count": 642,
   "metadata": {
    "collapsed": false,
    "jupyter": {
     "outputs_hidden": false
    },
    "pycharm": {
     "name": "#%%\n"
    }
   },
   "outputs": [
    {
     "name": "stderr",
     "output_type": "stream",
     "text": [
      "/home/liefe/.virtualenvs/s2s/lib/python3.8/site-packages/torchtext/data/field.py:150: UserWarning: Field class will be retired soon and moved to torchtext.legacy. Please see the most recent release notes for further information.\n",
      "  warnings.warn('{} class will be retired soon and moved to torchtext.legacy. Please see the most recent release notes for further information.'.format(self.__class__.__name__), UserWarning)\n",
      "/home/liefe/.virtualenvs/s2s/lib/python3.8/site-packages/torchtext/data/example.py:68: UserWarning: Example class will be retired soon and moved to torchtext.legacy. Please see the most recent release notes for further information.\n",
      "  warnings.warn('Example class will be retired soon and moved to torchtext.legacy. Please see the most recent release notes for further information.', UserWarning)\n",
      "/home/liefe/.virtualenvs/s2s/lib/python3.8/site-packages/torchtext/data/example.py:78: UserWarning: Example class will be retired soon and moved to torchtext.legacy. Please see the most recent release notes for further information.\n",
      "  warnings.warn('Example class will be retired soon and moved to torchtext.legacy. Please see the most recent release notes for further information.', UserWarning)\n"
     ]
    }
   ],
   "source": [
    "from torchtext.data import Field, TabularDataset\n",
    "\n",
    "TEXT = Field(use_vocab=True, init_token=\"<SOS>\", eos_token=\"<EOS>\",\n",
    "             fix_length=25, tokenize=\"spacy\",\n",
    "             include_lengths=True, batch_first=True, lower=True,\n",
    "             is_target=False\n",
    "             )\n",
    "\n",
    "fields = [(\"source\", TEXT),\n",
    "          (\"target\", TEXT)]\n",
    "\n",
    "data = TabularDataset(path, \"CSV\", fields, skip_header=True)"
   ]
  },
  {
   "cell_type": "code",
   "execution_count": 643,
   "metadata": {
    "collapsed": false,
    "jupyter": {
     "outputs_hidden": false
    },
    "pycharm": {
     "name": "#%%\n"
    }
   },
   "outputs": [],
   "source": [
    "train_data, test_data = data.split(.70)\n",
    "train_data, val_data = train_data.split(.90)"
   ]
  },
  {
   "cell_type": "code",
   "execution_count": 644,
   "metadata": {
    "collapsed": false,
    "jupyter": {
     "outputs_hidden": false
    },
    "pycharm": {
     "name": "#%%\n"
    }
   },
   "outputs": [
    {
     "data": {
      "text/plain": [
       "(23366, 2596, 11127)"
      ]
     },
     "execution_count": 644,
     "metadata": {},
     "output_type": "execute_result"
    }
   ],
   "source": [
    "len(train_data), len(val_data), len(test_data)"
   ]
  },
  {
   "cell_type": "markdown",
   "metadata": {},
   "source": [
    "Build\n",
    "vocab"
   ]
  },
  {
   "cell_type": "code",
   "execution_count": 645,
   "metadata": {
    "collapsed": false,
    "jupyter": {
     "outputs_hidden": false
    },
    "pycharm": {
     "name": "#%%\n"
    }
   },
   "outputs": [],
   "source": [
    "# TEXT.build_vocab(train_data, vectors=\"fasttext.en.300d\")\n",
    "# TEXT.build_vocab(train_data, vectors=\"fasttext.en.300d\")\n",
    "# TEXT.build_vocab(train_data, vectors=\"glove.6B.100d\", max_size=10000, min_freq=3)\n",
    "TEXT.build_vocab(train_data, max_size=10000, min_freq=3)\n",
    "\n",
    "#  Next time max_size=10000, min_freq=3 ?\n"
   ]
  },
  {
   "cell_type": "code",
   "execution_count": 646,
   "metadata": {
    "collapsed": false,
    "jupyter": {
     "outputs_hidden": false
    },
    "pycharm": {
     "name": "#%%\n"
    }
   },
   "outputs": [
    {
     "name": "stdout",
     "output_type": "stream",
     "text": [
      "Unique tokens in source/target vocabulary: 8510\n"
     ]
    }
   ],
   "source": [
    "print(f\"Unique tokens in source/target vocabulary: {len(TEXT.vocab)}\")"
   ]
  },
  {
   "cell_type": "code",
   "execution_count": 647,
   "metadata": {
    "collapsed": false,
    "jupyter": {
     "outputs_hidden": false
    },
    "pycharm": {
     "name": "#%%\n"
    }
   },
   "outputs": [
    {
     "data": {
      "text/plain": [
       "dict_keys(['source', 'target'])"
      ]
     },
     "execution_count": 647,
     "metadata": {},
     "output_type": "execute_result"
    }
   ],
   "source": [
    "test_data[0].__dict__.keys()"
   ]
  },
  {
   "cell_type": "code",
   "execution_count": 648,
   "metadata": {
    "collapsed": false,
    "jupyter": {
     "outputs_hidden": false
    },
    "pycharm": {
     "name": "#%%\n"
    }
   },
   "outputs": [
    {
     "data": {
      "text/plain": [
       "(['save',\n",
       "  'your',\n",
       "  'money',\n",
       "  'these',\n",
       "  'wrappers',\n",
       "  'were',\n",
       "  'not',\n",
       "  'what',\n",
       "  'i',\n",
       "  'expected',\n",
       "  'and',\n",
       "  'you',\n",
       "  'ca',\n",
       "  \"n't\",\n",
       "  'return',\n",
       "  'them',\n",
       "  '.',\n",
       "  'the',\n",
       "  'taste',\n",
       "  'and',\n",
       "  'texture',\n",
       "  'was',\n",
       "  'not',\n",
       "  'what',\n",
       "  'i',\n",
       "  'had',\n",
       "  'expected',\n",
       "  '.'],\n",
       " ['soy', 'wrappers'])"
      ]
     },
     "execution_count": 648,
     "metadata": {},
     "output_type": "execute_result"
    }
   ],
   "source": [
    "train_data[0].source, train_data[0].target"
   ]
  },
  {
   "cell_type": "code",
   "execution_count": 649,
   "metadata": {
    "collapsed": false,
    "jupyter": {
     "outputs_hidden": false
    },
    "pycharm": {
     "name": "#%%\n"
    }
   },
   "outputs": [
    {
     "data": {
      "text/plain": [
       "(29578, 20419, 0)"
      ]
     },
     "execution_count": 649,
     "metadata": {},
     "output_type": "execute_result"
    }
   ],
   "source": [
    "TEXT.vocab.freqs[\"the\"], TEXT.vocab.freqs[\"a\"], TEXT.vocab.freqs[\"shit\"]"
   ]
  },
  {
   "cell_type": "code",
   "execution_count": 650,
   "metadata": {
    "collapsed": false,
    "jupyter": {
     "outputs_hidden": false
    },
    "pycharm": {
     "name": "#%%\n"
    }
   },
   "outputs": [
    {
     "data": {
      "text/plain": [
       "(5, 'the')"
      ]
     },
     "execution_count": 650,
     "metadata": {},
     "output_type": "execute_result"
    }
   ],
   "source": [
    "TEXT.vocab.stoi[\"the\"], TEXT.vocab.itos[5]"
   ]
  },
  {
   "cell_type": "code",
   "execution_count": 651,
   "metadata": {
    "collapsed": false,
    "jupyter": {
     "outputs_hidden": false
    },
    "pycharm": {
     "name": "#%%\n"
    }
   },
   "outputs": [
    {
     "name": "stdout",
     "output_type": "stream",
     "text": [
      "([['<SOS>', 'Eric', 'needs', 'to', 'leave', '<EOS>', '<pad>', '<pad>', '<pad>', '<pad>', '<pad>', '<pad>', '<pad>', '<pad>', '<pad>', '<pad>', '<pad>', '<pad>', '<pad>', '<pad>', '<pad>', '<pad>', '<pad>', '<pad>', '<pad>']], [6])\n"
     ]
    }
   ],
   "source": [
    "import pprint\n",
    "\n",
    "batch = [\"Eric needs to leave\".split()]\n",
    "pp = pprint.PrettyPrinter(indent=4)\n",
    "pad = TEXT.pad(batch)\n",
    "print(pad)"
   ]
  },
  {
   "cell_type": "code",
   "execution_count": 652,
   "metadata": {
    "collapsed": false,
    "jupyter": {
     "outputs_hidden": false
    },
    "pycharm": {
     "name": "#%%\n"
    }
   },
   "outputs": [
    {
     "name": "stdout",
     "output_type": "stream",
     "text": [
      "2598\n"
     ]
    },
    {
     "data": {
      "text/plain": [
       "([['<SOS>',\n",
       "   'best',\n",
       "   'flavored',\n",
       "   'k',\n",
       "   'cup',\n",
       "   'i',\n",
       "   \"'ve\",\n",
       "   'ever',\n",
       "   'had',\n",
       "   '!',\n",
       "   'i',\n",
       "   'recommend',\n",
       "   'this',\n",
       "   'for',\n",
       "   'everyone',\n",
       "   '.',\n",
       "   'great',\n",
       "   'flavor',\n",
       "   '!',\n",
       "   'i',\n",
       "   \"'ve\",\n",
       "   'given',\n",
       "   'it',\n",
       "   'to',\n",
       "   '<EOS>']],\n",
       " [25])"
      ]
     },
     "execution_count": 652,
     "metadata": {},
     "output_type": "execute_result"
    }
   ],
   "source": [
    "import random\n",
    "\n",
    "i = random.randrange(0, len(train_data))\n",
    "print(i)\n",
    "source = train_data[i].source\n",
    "TEXT.pad([source])"
   ]
  },
  {
   "cell_type": "code",
   "execution_count": 653,
   "metadata": {
    "collapsed": false,
    "jupyter": {
     "outputs_hidden": false
    },
    "pycharm": {
     "name": "#%%\n"
    }
   },
   "outputs": [
    {
     "data": {
      "text/plain": [
       "['save',\n",
       " 'your',\n",
       " 'money',\n",
       " 'these',\n",
       " 'wrappers',\n",
       " 'were',\n",
       " 'not',\n",
       " 'what',\n",
       " 'i',\n",
       " 'expected',\n",
       " 'and',\n",
       " 'you',\n",
       " 'ca',\n",
       " \"n't\",\n",
       " 'return',\n",
       " 'them',\n",
       " '.',\n",
       " 'the',\n",
       " 'taste',\n",
       " 'and',\n",
       " 'texture',\n",
       " 'was',\n",
       " 'not',\n",
       " 'what',\n",
       " 'i',\n",
       " 'had',\n",
       " 'expected',\n",
       " '.']"
      ]
     },
     "execution_count": 653,
     "metadata": {},
     "output_type": "execute_result"
    }
   ],
   "source": [
    "train_data[0].source"
   ]
  },
  {
   "cell_type": "code",
   "execution_count": 654,
   "metadata": {
    "collapsed": false,
    "jupyter": {
     "outputs_hidden": false
    },
    "pycharm": {
     "name": "#%%\n"
    }
   },
   "outputs": [
    {
     "data": {
      "text/plain": [
       "['soy', 'wrappers']"
      ]
     },
     "execution_count": 654,
     "metadata": {},
     "output_type": "execute_result"
    }
   ],
   "source": [
    "train_data[0].target"
   ]
  },
  {
   "cell_type": "code",
   "execution_count": 655,
   "metadata": {
    "collapsed": false,
    "jupyter": {
     "outputs_hidden": false
    },
    "pycharm": {
     "name": "#%%\n"
    }
   },
   "outputs": [
    {
     "name": "stdout",
     "output_type": "stream",
     "text": [
      "13166\n"
     ]
    },
    {
     "data": {
      "text/plain": [
       "(tensor([[   2,    6,    0,    9, 1185,   17,  612, 1189,  307,  443,  172,    4,\n",
       "             6,  142,   37,  110,   10,  132,   10,   29,   62,  398,    4,  404,\n",
       "             3]]),\n",
       " tensor([25]))"
      ]
     },
     "execution_count": 655,
     "metadata": {},
     "output_type": "execute_result"
    }
   ],
   "source": [
    "import random\n",
    "\n",
    "i = random.randrange(0, len(train_data))\n",
    "print(i)\n",
    "source = train_data[i].source\n",
    "TEXT.process([source])"
   ]
  },
  {
   "cell_type": "markdown",
   "metadata": {},
   "source": [
    "Define\n",
    "iterator / batcher / loader\n",
    "here\n",
    "note\n",
    "that\n",
    "this is"
   ]
  },
  {
   "cell_type": "markdown",
   "metadata": {},
   "source": [
    "Model\n"
   ]
  },
  {
   "cell_type": "code",
   "execution_count": 656,
   "metadata": {
    "collapsed": false,
    "jupyter": {
     "outputs_hidden": false
    },
    "pycharm": {
     "name": "#%% \n"
    }
   },
   "outputs": [],
   "source": [
    "class Encoder(nn.Module):\n",
    "    def __init__(self, config):\n",
    "        super(Encoder, self).__init__()\n",
    "        self.source_dim = config[\"source_dim\"]  # vocab size/number of classes\n",
    "        self.embedding_dim = config[\"embedding_dim\"]\n",
    "        self.hidden_dim = config[\"hidden_dim\"]\n",
    "        self.layers = config.get(\"layers\", 1)\n",
    "        self.bidirectional_encoder = config.get(\"bidirectional_encoder\", False)\n",
    "\n",
    "        # Layers\n",
    "        self.embedding = nn.Embedding(self.source_dim, self.embedding_dim)\n",
    "        self.dropout = nn.Dropout(config.get(\"dropout\", 0.0))\n",
    "        self.gru = nn.GRU(self.embedding_dim, self.hidden_dim, dropout=config.get(\"dropout\", 0.0),\n",
    "                          num_layers=self.layers, bias=True, batch_first=True, bidirectional=self.bidirectional_encoder)\n",
    "        # self.gru = nn.GRU(64, 64, dropout=0, num_layers=1, bias=True, batch_first=True, bidirectional=False).to(device)\n",
    "\n",
    "    def forward(self, source, source_lens=None, pack_padded=False):\n",
    "\n",
    "        \"\"\"\n",
    "        :param source: [B, T]\n",
    "        :param source_lengths: [T]\n",
    "        :param pack_padded: bool\n",
    "        :return: output: [B, T, H], hidden: Union([1, B, H] or [2, B, H])\n",
    "        \"\"\"\n",
    "        # print(\"encoder forward\")\n",
    "        # print(input)\n",
    "\n",
    "        # Embed source index sequences [B, T] > [B, T, E]\n",
    "        embedded = self.embedding(source)\n",
    "\n",
    "        # print(embedded)\n",
    "\n",
    "        # Apply dropout\n",
    "        embedded = self.dropout(embedded)\n",
    "\n",
    "        # Pack if padded sequences and lengths given\n",
    "\n",
    "        if pack_padded:\n",
    "\n",
    "            embedded = pack_padded_sequence(embedded, source_lens, batch_first=True, enforce_sorted=False)\n",
    "\n",
    "        # Map embedded source [B, T, E] to Union([B, T, H] or [B, T, 2*H], Union([1, B, H] or [2, B, H])\n",
    "        output, hidden = self.gru(embedded)  # TODO: add state tuple\n",
    "\n",
    "        if pack_padded:\n",
    "            output, output_lens = pad_packed_sequence(output, batch_first=True)\n",
    "\n",
    "        # Sum outputs of bidirectional RNN:\n",
    "        # [B, T, 2*H] > [B, T, H]\n",
    "        if self.bidirectional_encoder:\n",
    "            output = output[:, :, :self.hidden_dim] + output[:, :, self.hidden_dim:]\n",
    "\n",
    "        return output, hidden\n",
    "\n",
    " "
   ]
  },
  {
   "cell_type": "code",
   "execution_count": 657,
   "metadata": {},
   "outputs": [],
   "source": [
    "class Decoder(nn.Module):\n",
    "    def __init__(self, config):\n",
    "        super(Decoder, self).__init__()\n",
    "        self.source_dim = config[\"source_dim\"]  # vocab size/number of classes\n",
    "        self.embedding_dim = config[\"embedding_dim\"]  # Can be different from hidden!?\n",
    "        self.bidirectional_encoder = config.get(\"bidirectional_encoder\", False)\n",
    "        self.hidden_dim = config[\"hidden_dim\"]\n",
    "        # self.hidden_dim = 2 * config[\"hidden_dim\"] if self.bidirectional_encoder else config[\"hidden_dim\"]\n",
    "\n",
    "        # Layers\n",
    "        self.embedding = nn.Embedding(self.source_dim, self.embedding_dim)\n",
    "        self.dropout = nn.Dropout(config.get(\"dropout\", 0.0))\n",
    "        self.gru = nn.GRU(self.embedding_dim + self.hidden_dim, self.hidden_dim, dropout=config.get(\"dropout\", 0.0),\n",
    "                          bias=True, batch_first=True)\n",
    "        self.fc = nn.Linear(self.hidden_dim, self.source_dim)  # input classes = output classes\n",
    "        self.softmax = nn.Softmax(dim=1)\n",
    "\n",
    "        # For attention\n",
    "        self.source_layer = nn.Linear(self.hidden_dim, self.hidden_dim)\n",
    "        self.state_layer = nn.Linear(self.hidden_dim, self.hidden_dim)\n",
    "        self.weight_layer = nn.Linear(self.hidden_dim, 1)\n",
    "\n",
    "    def forward(self, input, hidden, enc_outputs):\n",
    "        \"\"\"\n",
    "        Process batch inputs at one time step and decode prediction.\n",
    "\n",
    "        :param input: [B]\n",
    "        :param hidden: [1, B, H]\n",
    "        :param context_vec: [1, B, H]\n",
    "        :return: prediction (B, H), hidden (1, B, H)\n",
    "        \"\"\"\n",
    "\n",
    "        # print(\"decoder forward\")\n",
    "        # print(input)\n",
    "\n",
    "        # Process the batch inputs only at this timestep t\n",
    "        # Input of shape [B], but we want [B, 1]\n",
    "        input = input.unsqueeze(1)\n",
    "\n",
    "        # print(f\"input of shape {input.size()}\")\n",
    "        # print(f\"context vec of shape {context_vec.size()}\")\n",
    "\n",
    "        # Embed input [B, 1] > [B, 1, E]\n",
    "        # Note embedding dimension needs to equal hidden if concatenated\n",
    "        # But could map to same space\n",
    "        input = self.embedding(input)\n",
    "        # print(input)\n",
    "\n",
    "        # Apply attention and get next input\n",
    "        # [B, 1, 2*H]\n",
    "        next_input = self.attention(input, hidden, enc_outputs)\n",
    "\n",
    "        # Sum context vec and input ???padded = field.pad(minibatch)\n",
    "        # embedded = embedded + context_vec\n",
    "\n",
    "        # Apply dropout\n",
    "        # embedded = self.dropout(embedded)\n",
    "\n",
    "        # embedded = pack_padded_sequence(embedded, input_lens, batch_first=True, enforce_sorted=False)\n",
    "\n",
    "        # Feed to RNN\n",
    "        output, hidden = self.gru(next_input, hidden)\n",
    "\n",
    "        # print(f\"output==hidden {output[0][0]==hidden[0][0]}\")\n",
    "\n",
    "        # output, output_lens = pad_packed_sequence(output, batch_first=True)\n",
    "\n",
    "        # Shape of output: (B, 1, H), we want (B, H)\n",
    "        output = output.squeeze(1)\n",
    "\n",
    "        # Get distribution of classes\n",
    "        output = self.fc(output)\n",
    "\n",
    "        return output, hidden\n",
    "\n",
    "    def attention(self, input, hidden, enc_outputs):\n",
    "        # Calculate attention\n",
    "\n",
    "        # Calculate attention distribution alpha for all encoder outputs\n",
    "\n",
    "        # # Find attention using dot product score (source X hidden_target)\n",
    "        # Didn't work too well\n",
    "        # # Reshape target hidden: [1, B, H] > [B, H, 1]\n",
    "        # h_t = hidden.view(-1, self.hidden_dim, 1)\n",
    "        # # print(f\" s_t: {s_t.size()}\")\n",
    "\n",
    "        # # For batch, perform matrix mult of outputs hidden states and hidden state (s_t) at each time step\n",
    "        # # [B, T, H] X [B, H, 1] = [B, T, 1]\n",
    "        # # print(f\" outputs: {outputs.size()}\")\n",
    "        # score = enc_outputs.bmm(h_t)\n",
    "\n",
    "        # # Reshape [B, T, 1] > [B, 1, T] and take softmax\n",
    "        # alphas = self.softmax(score.transpose(1,2))\n",
    "        # # print(f\" alphas: {alphas.size()}\")\n",
    "\n",
    "        # # Find attention. Take weighted sum of hidden states (i.e. linear combo)\n",
    "        # # [B, 1, T] X [B, T, H] = [B, 1, H]\n",
    "        # context_vec = alphas.bmm(enc_outputs)\n",
    "\n",
    "        # Concatenate next input and context\n",
    "        # [B, 1, H] ; [B, 1, H] = [B, 1, 2*H]\n",
    "        # print(f\" context: {context_vec.size()}\")\n",
    "        # print(f\" in: {input.size()}\")\n",
    "\n",
    "        # Find attention using Bahdenah\n",
    "        # tanh(Vh_s + Wh_t + b)\n",
    "\n",
    "        # Project source layer: Vh_s\n",
    "        # [B, T, H] > [B, T, H]\n",
    "        source_layer = self.source_layer(enc_outputs)\n",
    "\n",
    "        # Reshape target hidden: [1, B, H] > [B, 1, H]\n",
    "        h_t = hidden.view(-1, 1, self.hidden_dim)\n",
    "\n",
    "        # Project target hidden state to layer\n",
    "        # [B, 1, H] > [B, 1, H]\n",
    "        state_layer = self.state_layer(h_t)\n",
    "\n",
    "        # tanh(Vh_s + Wh_t + b)\n",
    "        # [B, T, H] > [B, T, H]\n",
    "        score = torch.tanh(source_layer + state_layer)\n",
    "\n",
    "        # Project to weight layer with 1 unit\n",
    "        # [B, T, H] > [B, T, 1]\n",
    "        weights = self.weight_layer(score)\n",
    "\n",
    "        # print(weights[0])\n",
    "\n",
    "        weights = self.softmax(weights)\n",
    "\n",
    "        # print(weights[0])\n",
    "        # print(weights.size())\n",
    "        # print(torch.sum(weights, dim=1)[0])\n",
    "\n",
    "        # Find attention. Take weighted sum of hidden states (i.e. linear combo)\n",
    "        # [B, 1, T] X [B, T, H] = [B, 1, H]\n",
    "        context_vec = weights.view(weights.size(0), 1, -1).bmm(enc_outputs)\n",
    "\n",
    "        # print(context_vec.size())\n",
    "        next_input = torch.cat([input, context_vec], dim=-1)\n",
    "\n",
    "        return next_input\n",
    "        # Sum hidden and context_vec\n",
    "        # Didn't seem to work to well\n",
    "        # hidden = hidden + context_vec.view(1, bs, -1)\n",
    "\n",
    "        # Reshape [B, 1, H] > [1, B, H]\n",
    "        # hidden = context_vec.view(1, bs, -1)"
   ]
  },
  {
   "cell_type": "code",
   "execution_count": 658,
   "metadata": {
    "collapsed": false,
    "jupyter": {
     "outputs_hidden": false
    },
    "pycharm": {
     "name": "#%%\n"
    }
   },
   "outputs": [],
   "source": [
    "class Seq2Seq(nn.Module):\n",
    "\n",
    "    def __init__(self, encoder, decoder):\n",
    "        super(Seq2Seq, self).__init__()\n",
    "\n",
    "        self.bidirectional_encoder = config.get(\"bidirectional_encoder\", False)\n",
    "        self.softmax = nn.Softmax(dim=-1)\n",
    "\n",
    "        # Block\n",
    "        self.encoder = encoder\n",
    "        self.decoder = decoder\n",
    "\n",
    "    def forward(self, source, target=None, source_lens=None, pack_padded=False, teacher_force_ratio=.5, predict=False):\n",
    "        \"\"\"\n",
    "        :param source: [B, T]\n",
    "        :param target: [B, T]\n",
    "        :param source_lengths: [T]\n",
    "        :param pack_padded: bool\n",
    "        :return: output (B, V), context (B, H), prev_hidden (B, H), weights (B, T)\n",
    "        \"\"\"\n",
    "\n",
    "        target_vocab_size = self.encoder.source_dim  # here same, but may change for MT\n",
    "        hidden_size = self.decoder.hidden_dim  # Pain in ass 2 * encoder hidden size\n",
    "\n",
    "        # Encode, only need output for attention\n",
    "        # out: [B, T, H], for bidirectional torch automatically sums outputs\n",
    "        enc_outputs, hidden = self.encoder(source, source_lens, pack_padded)\n",
    "\n",
    "        # Concatenate hidden states for bidirection encoder\n",
    "        # [2, B, H] > [1, B, 2*H]\n",
    "        # if self.bidirectional_encoder:\n",
    "        #   hidden = torch.cat((hidden[0], hidden[1]), dim=-1)\n",
    "        #   # Add first dim\n",
    "        #   hidden = hidden.unsqueeze(0)\n",
    "\n",
    "        if self.bidirectional_encoder:\n",
    "            hidden = hidden[0] + hidden[1]\n",
    "            # Add first dim\n",
    "            hidden = hidden.unsqueeze(0)\n",
    "\n",
    "        # Iterate through outputs and decode\n",
    "        bs = source.size(0)\n",
    "\n",
    "        # Train\n",
    "        if not predict:\n",
    "\n",
    "\n",
    "            # Get start token for batch, e.g. [SOS ...]\n",
    "            target_length = target.size(1)  # includes padding (i.e max length) -- to be ignored by loss func\n",
    "\n",
    "            # [B, 1]\n",
    "            # print(f\" target: {target.size()}\")\n",
    "            input = target[:, 0]  # SOS\n",
    "            # print(f\" input: {input.size()}\")\n",
    "\n",
    "            # Get all output predictions step by step and store in matrix of shape [B, T, H]\n",
    "            predictions = torch.zeros(bs, target_length, target_vocab_size).to(device)\n",
    "            for t in range(target_length):\n",
    "                # Decode\n",
    "                output, hidden = self.decoder(input, hidden, enc_outputs)\n",
    "\n",
    "                # Get predicted output sequences for timestep\n",
    "                prediction = self.softmax(output)\n",
    "\n",
    "                # print(\"prediction\", prediction)\n",
    "\n",
    "                # [B, H] as softmax distribution\n",
    "                predictions[:, t] = prediction\n",
    "                prediction = prediction.argmax(1)\n",
    "\n",
    "                # print(f\"Predicted sequence {prediction}; Target {target[:, t]}\")\n",
    "\n",
    "                # Get next input with or without teacher forcing (correction)\n",
    "                input = target[:, t] if random.random() < teacher_force_ratio else prediction\n",
    "\n",
    "                # # Decode\n",
    "                # prediction, hidden = self.decoder(input, hidden, context_vec)\n",
    "\n",
    "                # # print(\"prediction\", prediction)\n",
    "                # predictions[:, t] = prediction\n",
    "                # prediction = prediction.argmax(1)\n",
    "                # # print(f\"Predicted sequence {prediction}; Target {target[:, t]}\")\n",
    "                # input = target[:, t] if random.random() < teacher_force_ratio else prediction\n",
    "\n",
    "        # Predict\n",
    "        else:\n",
    "            input = torch.ones((1, 1))  # SOS\n",
    "            prediction = torch.zeros((1, 1))\n",
    "            predictions = []\n",
    "            while prediction.item() != 2:  # EOS\n",
    "                prediction, hidden = self.decoder(input, hidden)\n",
    "                predictions[:, t] = prediction\n",
    "                prediction = prediction.argmax(1)\n",
    "                input = prediction\n",
    "                predictions.append(prediction.item())\n",
    "\n",
    "        return predictions\n",
    "\n",
    "\n",
    "\n"
   ]
  },
  {
   "cell_type": "code",
   "execution_count": 659,
   "metadata": {},
   "outputs": [],
   "source": [
    "def train(model, iterator, criterion, optimizer, epoch, loss_fun=None):\n",
    "    \n",
    "    model.train()\n",
    "    train_loss = 0\n",
    "\n",
    "    for i, batch in enumerate(train_iter):\n",
    "\n",
    "        # Zero so gradients don't accumate\n",
    "        optimizer.zero_grad()\n",
    "\n",
    "        # Move tensors to cuda\n",
    "        source, source_lens = batch.source\n",
    "        target, target_lens = batch.target\n",
    "        source = source.to(device)  # [B,T]\n",
    "        target = target.to(device)  # [B,T]\n",
    "\n",
    "        # Encode and decode sequence\n",
    "        predictions = model(source, target, source_lens, pack_padded=True)\n",
    "\n",
    "        \n",
    "        assert len(predictions) == len(target)  \n",
    "\n",
    "        #         assert len(iterator) == len(source) == len(target)\n",
    "        #         n = len(source)\n",
    "        \n",
    "        if loss_fun is not None:\n",
    "            calc_loss = loss_fun(predictions, target, target_lens)\n",
    "            #               print(\"Calculated loss\", calc_loss.item())\n",
    "            #             print(\"Averaged loss\", calc_loss.item() / n)\n",
    "            loss = calc_loss\n",
    "\n",
    "\n",
    "\n",
    "\n",
    "    \n",
    "        # print(predictions)\n",
    "        # print(target)\n",
    "\n",
    "        # Truncate first SOS prediction and reshape [B, T, H] > [B*T, H]\n",
    "        predictions = predictions[:, 1:, :].reshape(-1, predictions.size(2))\n",
    "        target = target[:, 1:].reshape(-1)\n",
    "        \n",
    "        #         print(\"Torch CE loss\", criterion(predictions, target).item())\n",
    "\n",
    "\n",
    "\n",
    "        loss.backward()\n",
    "        optimizer.step()\n",
    "\n",
    "        train_loss += loss.item()\n",
    "        \n",
    "        if i % 1000 == 999:\n",
    "            print(f\"Training loss for epoch\\t {epoch}: {train_loss}\")\n",
    "            print(f\"Averaged over 1000 epochs\\t {train_loss / 1000}\")\n",
    "            print(f\"Total steps\\t {epoch * len(iterator) + i} steps\")\n",
    "\n",
    "\n",
    "    return train_loss"
   ]
  },
  {
   "cell_type": "code",
   "execution_count": 660,
   "metadata": {
    "collapsed": false,
    "jupyter": {
     "outputs_hidden": false
    },
    "pycharm": {
     "name": "#%%\n"
    }
   },
   "outputs": [],
   "source": [
    "def eval(model, iterator, criterion, epoch, loss_fun=None):\n",
    "    \n",
    "    model.eval()\n",
    "\n",
    "    with torch.no_grad():\n",
    "        \n",
    "        epoch_loss = 0\n",
    "        for i, batch in enumerate(iterator):\n",
    "            # Move tensors to cuda\n",
    "            source, source_lens = batch.source\n",
    "            target, target_lens = batch.target\n",
    "            source = source.to(device)\n",
    "            target = target.to(device)\n",
    "\n",
    "            predictions = model(source, target, source_lens, pack_padded=True)\n",
    "\n",
    "\n",
    "            if loss_fun is not None:\n",
    "                calc_loss = loss_fun(predictions, target, target_lens)\n",
    "                #                 print(\"Calculated loss\", calc_loss.item())\n",
    "                #             print(\"Averaged loss\", calc_loss.item() / n)\n",
    "                loss = calc_loss\n",
    "                    \n",
    "            # Truncate first SOS prediction\n",
    "            predictions = predictions[:, 1:, :].reshape(-1, predictions.size(2)) \n",
    "            target = target[:, 1:].reshape(-1)\n",
    "            \n",
    "            assert len(predictions) == len(target)  # B * (T - 1)\n",
    "            \n",
    "            # print(f\"Predictions of shape {predictions.size()}\", predictions)\n",
    "            # print(f\"Target of shape {target.size()}\", target)\n",
    "\n",
    "            #             print(\"Torch ce loss\", criterion(predictions, target).item())\n",
    "\n",
    "            epoch_loss += loss.item()\n",
    "\n",
    "            if i % 1000 == 999:\n",
    "                print(f\"Validation loss for epoch\\t {epoch}: {train_loss}\")\n",
    "                print(f\"Averaged over 1000 epochs\\t {dev_loss / 1000}\")\n",
    "                print(f\"Total steps\\t {epoch * len(iterator) + i} steps\")\n",
    "\n",
    "        return epoch_loss\n"
   ]
  },
  {
   "cell_type": "code",
   "execution_count": 661,
   "metadata": {
    "collapsed": false,
    "jupyter": {
     "outputs_hidden": false
    },
    "pycharm": {
     "name": "#%%\n"
    }
   },
   "outputs": [],
   "source": [
    "import random\n",
    "\n",
    "\n",
    "def random_eval(model, data, r=2):\n",
    "    model.eval()\n",
    "\n",
    "    with torch.no_grad():\n",
    "\n",
    "        for _ in range(r):\n",
    "\n",
    "            i = random.randrange(0, len(data))\n",
    "            print(f\"random num: {i}\")\n",
    "            source, target = data[i].source, data[i].target\n",
    "\n",
    "            print(\">\", \" \".join(source))\n",
    "            print(\"=\", \" \".join(target))\n",
    "\n",
    "            # Perform preprocessing (indexing, etc.)\n",
    "            source, source_lens = TEXT.process([source])\n",
    "            target, target_lens = TEXT.process([target])\n",
    "            #             print(source)\n",
    "            #             print(target)\n",
    "            #             print(source_lens)\n",
    "            #             print(target_lens)\n",
    "\n",
    "            # Move tensors to cuda\n",
    "            source = source.to(device)\n",
    "            target = target.to(device)\n",
    "\n",
    "            predictions = model(source, target, source_lens, pack_padded=True)\n",
    "\n",
    "            # Truncate first SOS prediction\n",
    "            predictions = predictions[:, 1:, :]\n",
    "            target = target[:, 1:]\n",
    "\n",
    "            # Get predicted sequences [B, T]\n",
    "            predicted_seqs = torch.argmax(predictions, -1)\n",
    "\n",
    "            for i in range(len(predicted_seqs)):\n",
    "                # for t in range(len(predicted_seqs[i])):\n",
    "                print(f\"  {' '.join([TEXT.vocab.itos[t] for t in predicted_seqs[i, :-1]])}\")\n",
    "\n",
    "                #             print(f\"Predictions of shape {predictions.size()}\", predictions)\n",
    "\n",
    "                #             print(f\"Predicted seq of shape {predicted_seqs.size()}\", predicted_seqs)\n",
    "\n",
    "                #             print(f\"Target of shape {target.size()}\", target)\n"
   ]
  },
  {
   "cell_type": "markdown",
   "metadata": {},
   "source": [
    "## Retrain, set new params"
   ]
  },
  {
   "cell_type": "code",
   "execution_count": 662,
   "metadata": {
    "collapsed": false,
    "jupyter": {
     "outputs_hidden": false
    },
    "pycharm": {
     "name": "#%%\n"
    }
   },
   "outputs": [
    {
     "name": "stdout",
     "output_type": "stream",
     "text": [
      "Config: {'source_dim': 8510, 'embedding_dim': 512, 'hidden_dim': 512, 'layers': 1, 'dropout': 0.5, 'bidirectional_encoder': True, 'bs': 32, 'epochs': 25, 'lr': 0.001}\n"
     ]
    }
   ],
   "source": [
    "# Instantiate model\n",
    "\n",
    "\n",
    "config = dict(\n",
    "    source_dim=len(TEXT.vocab),\n",
    "    embedding_dim=512,\n",
    "    hidden_dim=512,\n",
    "    layers=1,\n",
    "    dropout=.5,\n",
    "    bidirectional_encoder=True,\n",
    "    bs=32,\n",
    "    epochs=25,\n",
    "    lr=.001\n",
    ")\n",
    "print(f\"Config: {config}\")"
   ]
  },
  {
   "cell_type": "code",
   "execution_count": 663,
   "metadata": {
    "collapsed": false,
    "jupyter": {
     "outputs_hidden": false
    },
    "pycharm": {
     "name": "#%%\n"
    }
   },
   "outputs": [
    {
     "name": "stderr",
     "output_type": "stream",
     "text": [
      "/home/liefe/.virtualenvs/s2s/lib/python3.8/site-packages/torchtext/data/iterator.py:48: UserWarning: BucketIterator class will be retired soon and moved to torchtext.legacy. Please see the most recent release notes for further information.\n",
      "  warnings.warn('{} class will be retired soon and moved to torchtext.legacy. Please see the most recent release notes for further information.'.format(self.__class__.__name__), UserWarning)\n"
     ]
    }
   ],
   "source": [
    "from torchtext.data import BucketIterator\n",
    "\n",
    "train_iter, val_iter, test_iter = BucketIterator.splits((train_data, val_data, test_data),\n",
    "                                                        batch_sizes=(\n",
    "                                                            config.get(\"bs\"), config.get(\"bs\"), config.get(\"bs\")),\n",
    "                                                        sort_within_batch=True,\n",
    "                                                        sort_key=lambda x: len(x.source),\n",
    "                                                        device=\"cpu\")"
   ]
  },
  {
   "cell_type": "code",
   "execution_count": 664,
   "metadata": {
    "collapsed": false,
    "jupyter": {
     "outputs_hidden": false
    },
    "pycharm": {
     "name": "#%%\n"
    }
   },
   "outputs": [
    {
     "name": "stderr",
     "output_type": "stream",
     "text": [
      "/home/liefe/.virtualenvs/s2s/lib/python3.8/site-packages/torchtext/data/batch.py:23: UserWarning: Batch class will be retired soon and moved to torchtext.legacy. Please see the most recent release notes for further information.\n",
      "  warnings.warn('{} class will be retired soon and moved to torchtext.legacy. Please see the most recent release notes for further information.'.format(self.__class__.__name__), UserWarning)\n"
     ]
    },
    {
     "data": {
      "text/plain": [
       "tensor([   2,    6,  129,   13,   38, 1248,  133, 1917,    6,  248,   10,  426,\n",
       "           7,    6,   29,  739,    4,    6,   26,   10,   20,    5,  259,   41,\n",
       "           3])"
      ]
     },
     "execution_count": 664,
     "metadata": {},
     "output_type": "execute_result"
    }
   ],
   "source": [
    "batch = next(iter(train_iter))\n",
    "batch.source[0][0]"
   ]
  },
  {
   "cell_type": "code",
   "execution_count": 665,
   "metadata": {
    "collapsed": false,
    "jupyter": {
     "outputs_hidden": false
    },
    "pycharm": {
     "name": "#%%\n"
    }
   },
   "outputs": [
    {
     "data": {
      "text/plain": [
       "tensor([   2,    6,  149,  347,   27,  199,  115,   13,  172,    4,   10,   63,\n",
       "           9, 1189,  944, 3572,  819,   14,   10,   34,   15,  542,    4,   83,\n",
       "           3])"
      ]
     },
     "execution_count": 665,
     "metadata": {},
     "output_type": "execute_result"
    }
   ],
   "source": [
    "\n",
    "list(train_iter)[-1].source[0][0]"
   ]
  },
  {
   "cell_type": "code",
   "execution_count": 666,
   "metadata": {
    "collapsed": false,
    "jupyter": {
     "outputs_hidden": false
    },
    "pycharm": {
     "name": "#%%\n"
    }
   },
   "outputs": [
    {
     "data": {
      "text/plain": [
       "'these'"
      ]
     },
     "execution_count": 666,
     "metadata": {},
     "output_type": "execute_result"
    }
   ],
   "source": [
    "\n",
    "TEXT.vocab.itos[25]"
   ]
  },
  {
   "cell_type": "code",
   "execution_count": 667,
   "metadata": {
    "collapsed": false,
    "jupyter": {
     "outputs_hidden": false
    },
    "pycharm": {
     "name": "#%%\n"
    }
   },
   "outputs": [
    {
     "data": {
      "text/plain": [
       "tensor([   2, 2464,    5,   45,  460,   20,    5, 1455,    0,  291,    3,    1,\n",
       "           1,    1,    1,    1,    1,    1,    1,    1,    1,    1,    1,    1,\n",
       "           1])"
      ]
     },
     "execution_count": 667,
     "metadata": {},
     "output_type": "execute_result"
    }
   ],
   "source": [
    "list(train_iter)[-1].target[0][0]  # Batch > sents, lengths"
   ]
  },
  {
   "cell_type": "code",
   "execution_count": 668,
   "metadata": {
    "collapsed": false,
    "jupyter": {
     "outputs_hidden": false
    },
    "pycharm": {
     "name": "#%%\n"
    }
   },
   "outputs": [
    {
     "name": "stderr",
     "output_type": "stream",
     "text": [
      "/home/liefe/.virtualenvs/s2s/lib/python3.8/site-packages/torch/nn/modules/rnn.py:58: UserWarning: dropout option adds dropout after all but last recurrent layer, so non-zero dropout expects num_layers greater than 1, but got dropout=0.5 and num_layers=1\n",
      "  warnings.warn(\"dropout option adds dropout after all but last \"\n"
     ]
    }
   ],
   "source": [
    "encoder = Encoder(config).to(device)\n",
    "decoder = Decoder(config).to(device)\n",
    "model = Seq2Seq(encoder, decoder).to(device)\n",
    "# model = torch.load(path)\n",
    "\n",
    "# for n, p in model.named_parameters():\n",
    "#     if p.requires_grad:\n",
    "#         print(n, p, p.size())"
   ]
  },
  {
   "cell_type": "markdown",
   "metadata": {},
   "source": [
    "** Training\n",
    "loop **"
   ]
  },
  {
   "cell_type": "code",
   "execution_count": null,
   "metadata": {},
   "outputs": [],
   "source": []
  },
  {
   "cell_type": "code",
   "execution_count": 670,
   "metadata": {
    "collapsed": false,
    "jupyter": {
     "outputs_hidden": false
    },
    "pycharm": {
     "name": "#%%\n"
    }
   },
   "outputs": [
    {
     "name": "stderr",
     "output_type": "stream",
     "text": [
      "  4%|▍         | 1/25 [01:32<36:55, 92.30s/it]"
     ]
    },
    {
     "name": "stdout",
     "output_type": "stream",
     "text": [
      "\n",
      "Total training loss for epoch 1:\t 585288.2017669678\n",
      "\n",
      "Total validation loss for epoch 1:\t 65749.14768981934\n",
      "Random prediction from training data\n",
      "random num: 9482\n",
      "> well i purchased this item to give away at trade shows my company attend . while i was expecting a bucket of 3 different flavors . i received a bucket of the original flavor . as i chatted with a rep from amazon.com , he basically told me that your out of luck .\n",
      "= no as advertised\n",
      "  <unk> <EOS> <unk> <EOS> <pad> <pad> <pad> <pad> <pad> <pad> <pad> <pad> <pad> <pad> <pad> <pad> <pad> <pad> <pad> <pad> <pad> <pad> <pad>\n",
      "random num: 10482\n",
      "> i highly recommend the english breakfast black tea . i 'm not real big on tea most of the time but i give this one 5 stars . do n't be shy and try it .\n",
      "= celestial seasonings devonshire english breakfast black tea\n",
      "  twinings tea tea tea <EOS> tea tea <EOS> <pad> <pad> <pad> <pad> <pad> <pad> <pad> <pad> <pad> <pad> <pad> <pad> <pad> <pad> <pad>\n",
      "Random prediction from validation data\n",
      "random num: 530\n",
      "> i sent these to my son ,   working on the midnight shift . he loves them ! thanks for such a great tasting brew ! he said he drinks one a night and they are just right !\n",
      "= fantastic ! just right for the midnight shift\n",
      "  great ! <EOS> like the the ! <EOS> <pad> <pad> <pad> <pad> <pad> <pad> <pad> <pad> <pad> <pad> <pad> <pad> <pad> <pad> <pad>\n",
      "random num: 1014\n",
      "> i 'm not a super fan of iced - coffee but i did try this after having refrigerated it . i liked it . it did n't have too bitter a flavor and it was n't truly sweetened . i 'd try it again in the future .\n",
      "= good ice - coffe\n",
      "  great coffee <EOS> cup <EOS> <pad> <pad> <pad> <pad> <pad> <pad> <pad> <pad> <pad> <pad> <pad> <pad> <pad> <pad> <pad> <pad> <pad> <pad>\n",
      "\n",
      "Total training loss for epoch 2:\t 523693.86737060547\n",
      "\n",
      "Total validation loss for epoch 2:\t 64614.67475891113\n",
      "Random prediction from training data\n",
      "random num: 3383\n",
      "> it is hard to find much of anything sugarfree that really tastes good but this apple cider is the best .   i also love the regular hot apple cider in sugarfree form .\n",
      "= great hot cider ! ! !\n",
      "  great <EOS> cereal <EOS> <pad> <pad> <EOS> <pad> <pad> <pad> <pad> <pad> <pad> <pad> <pad> <pad> <pad> <pad> <pad> <pad> <pad> <pad> <pad>\n",
      "random num: 6806\n",
      "> hard to find a better mustard . great anywhere especially for dipping . been enjoying it for years . try it , you wo nt be sorry .\n",
      "= this mustard is the best .\n",
      "  great <EOS> <EOS> great best <EOS> <pad> <pad> <pad> <pad> <pad> <pad> <pad> <pad> <pad> <pad> <pad> <pad> <pad> <pad> <pad> <pad> <pad>\n",
      "Random prediction from validation data\n",
      "random num: 1313\n",
      "> in georgia i found the mars bars on the shelves in the ethnic food counters of my local publix store , was so happy that they had started to carry a lot of english products .\n",
      "= favourite candy bar of all time .\n",
      "  great <EOS> <pad> <pad> my <EOS> <pad> <pad> <pad> <pad> <pad> <pad> <pad> <pad> <pad> <pad> <pad> <pad> <pad> <pad> <pad> <pad> <pad>\n",
      "random num: 1665\n",
      "> love the energy ... perfect for working out . not a fan of the carbonated flavors but the non - carbonated all rock . this stuff is amazing -- my wife and i are hooked on it !\n",
      "= not wings ... rockets !\n",
      "  great <EOS> <EOS> <pad> <EOS> <pad> <pad> <pad> <pad> <pad> <pad> <pad> <pad> <pad> <pad> <pad> <pad> <pad> <pad> <pad> <pad> <pad> <pad>\n"
     ]
    },
    {
     "name": "stderr",
     "output_type": "stream",
     "text": [
      "  8%|▊         | 2/25 [03:07<35:41, 93.09s/it]"
     ]
    },
    {
     "name": "stdout",
     "output_type": "stream",
     "text": [
      "\n",
      "Total training loss for epoch 3:\t 469744.4774246216\n",
      "\n",
      "Total validation loss for epoch 3:\t 64847.1137008667\n",
      "Random prediction from training data\n",
      "random num: 22666\n",
      "> the buddy biscuits came in a timely fashion , and are a great product !   thank you for the great service !\n",
      "= great service !\n",
      "  great product <EOS> <pad> <pad> <pad> <pad> <pad> <pad> <pad> <pad> <pad> <pad> <pad> <pad> <pad> <pad> <pad> <pad> <pad> <pad> <pad> <pad>\n",
      "random num: 21559\n",
      "> very healthy and very tasty -- sort of like a better nutella ( which seems much too sweet , once you have tried this ) . artisana products are clearly best of breed . amazon prices are extremely reasonable ( some of the amazon marketplace sellers were twice the price ) .\n",
      "= the absolute best\n",
      "  very tasty <EOS> <EOS> <pad> <pad> <pad> <pad> <pad> <pad> <pad> <pad> <pad> <pad> <pad> <pad> <pad> <pad> <pad> <pad> <pad> <pad> <pad>\n",
      "Random prediction from validation data\n",
      "random num: 1199\n",
      "> thses cooffee pods are extra nice because there is much less plastic and work just as well .   the flovor is nice and bold without being bitter .   i have re - ordered and will continue to do so .\n",
      "= smooth bold flavor\n",
      "  <unk> <EOS> <EOS> <EOS> <pad> <pad> <pad> <pad> <pad> <pad> <pad> <pad> <pad> <pad> <pad> <pad> <pad> <pad> <pad> <pad> <pad> <pad> <pad>\n",
      "random num: 408\n",
      "> i will be a repeat buyer of grove square french vanilla cappuccino . at 54 cents a cup it is worth every penny spent . it has a great french vanilla flavor and is ready in less than two minutes . no complaints here .\n",
      "= love , love , love grove square cappuccino\n",
      "  love this coffee <EOS> great price square cappuccino <EOS> <pad> <pad> <pad> <pad> <pad> <pad> <pad> <pad> <pad> <pad> <pad> <pad> <pad> <pad>\n"
     ]
    },
    {
     "name": "stderr",
     "output_type": "stream",
     "text": [
      " 12%|█▏        | 3/25 [04:42<34:21, 93.73s/it]"
     ]
    },
    {
     "name": "stdout",
     "output_type": "stream",
     "text": [
      "\n",
      "Total training loss for epoch 4:\t 423718.0688171387\n",
      "\n",
      "Total validation loss for epoch 4:\t 65510.29782104492\n",
      "Random prediction from training data\n",
      "random num: 20984\n",
      "> i have used these for years as it makes giving a dog a pill so very easy .   dog thinks it is a treat .\n",
      "= great product for dogs\n",
      "  great product <EOS> dogs <EOS> <pad> <pad> <pad> <pad> <pad> <pad> <pad> <pad> <pad> <pad> <pad> <pad> <pad> <pad> <pad> <pad> <pad> <pad>\n",
      "random num: 9305\n",
      "> i 'm a huge fan of this tea .   it 's tasty and keeps me awake for long hours at work in front of computer screens .   mmmm .   tea .\n",
      "= mmmmm   green tea\n",
      "  great ! tea tea <EOS> <pad> <pad> <pad> <pad> <pad> <pad> <pad> <pad> <pad> <pad> <pad> <pad> <pad> <pad> <pad> <pad> <pad> <pad>\n",
      "Random prediction from validation data\n",
      "random num: 2508\n",
      "> i ordered these a long time ago . still have some packs left . they are great . thought they might come in the box , but it 's the same in terms of the amount . thank you . mark edwards\n",
      "= this is funny to be reviewing this now\n",
      "  great is the ! order afraid <EOS> <pad> <EOS> <pad> <pad> <pad> <pad> <pad> <pad> <pad> <pad> <pad> <pad> <pad> <pad> <pad> <pad>\n",
      "random num: 321\n",
      "> i have a three - year - old celiac who knows more about gf cookies than most adults , and these are his favorite cookies .   i like them too .   they really taste just like regular wafer cookies .   totally worth the cost .\n",
      "= my son 's favorites\n",
      "  love these <EOS> cookie <EOS> <pad> <pad> <pad> <pad> <pad> <pad> <pad> <pad> <pad> <pad> <pad> <pad> <pad> <pad> <pad> <pad> <pad> <pad>\n"
     ]
    },
    {
     "name": "stderr",
     "output_type": "stream",
     "text": [
      " 16%|█▌        | 4/25 [06:16<32:51, 93.89s/it]"
     ]
    },
    {
     "name": "stdout",
     "output_type": "stream",
     "text": [
      "\n",
      "Total training loss for epoch 5:\t 380357.389755249\n",
      "\n",
      "Total validation loss for epoch 5:\t 66096.97994995117\n",
      "Random prediction from training data\n",
      "random num: 6456\n",
      "> i 'm not quite sure what other reviewers were expecting , but i love these . they 're about the size of a bic pen , and perfect to sweeten a cup of tea or just to snack on . i will definitely be ordering these again .\n",
      "= exactly what i was looking for .\n",
      "  exactly what i was looking for ! <EOS> <pad> <pad> <pad> <pad> <pad> <pad> <pad> <pad> <pad> <pad> <pad> <pad> <pad> <pad> <pad>\n",
      "random num: 21242\n",
      "> these are the best tasting pancakes i have ever tried . i wish amazon carried the larger bag . hard to find in regular grocery stores in my small town .\n",
      "= absolutely awesome !\n",
      "  best <EOS> <EOS> <EOS> <pad> <pad> <pad> <pad> <pad> <pad> <pad> <pad> <pad> <pad> <pad> <pad> <pad> <pad> <pad> <pad> <pad> <pad> <pad>\n",
      "Random prediction from validation data\n",
      "random num: 316\n",
      "> the product seems to be helping my older dog with hip and leg issues ... however he hates the taste ... and is nt a picky eater .. i have to add all kinds of \" goodies \" to his food to get him to eat it ... the flavor is the obvious issue .\n",
      "= great product - the dog does nt like the taste\n",
      "  great product <EOS> not best <EOS> n't care <EOS> <pad> <EOS> <pad> <pad> <pad> <pad> <pad> <pad> <pad> <pad> <pad> <pad> <pad> <pad>\n",
      "random num: 2464\n",
      "> these chips have a very unique crunch , and are very tasty . i now buy the variety packs because i like all 6 flavors . the single serve bags yield 1 point , per my weightwatcher afficianado wife .\n",
      "= wow ! this is lo - cal ? ! ?\n",
      "  delicious ! <EOS> is lo <EOS> <pad> <pad> <pad> <EOS> <EOS> <pad> <pad> <pad> <pad> <pad> <pad> <pad> <pad> <pad> <pad> <pad> <pad>\n"
     ]
    },
    {
     "name": "stderr",
     "output_type": "stream",
     "text": [
      " 20%|██        | 5/25 [07:50<31:15, 93.77s/it]"
     ]
    },
    {
     "name": "stdout",
     "output_type": "stream",
     "text": [
      "\n",
      "Total training loss for epoch 6:\t 347427.5221557617\n",
      "\n",
      "Total validation loss for epoch 6:\t 67560.6290550232\n",
      "Random prediction from training data\n",
      "random num: 8464\n",
      "> very quick delivery of very stale gum .   i threw it out it was so bad .   must have been on the shelf for a while where the mice could n't find it .\n",
      "= tasted like 10 year old gum\n",
      "  gum <EOS> <pad> stars - <EOS> <EOS> <pad> <pad> <pad> <pad> <pad> <pad> <pad> <pad> <pad> <pad> <pad> <pad> <pad> <pad> <pad> <pad>\n",
      "random num: 12305\n",
      "> the only treats my cats will eat .   they love them !   wish amazon had more favors since there are so many out there .   would definitely recommend .\n",
      "= picky cats !\n",
      "  picky cats <EOS> <EOS> <pad> <pad> <pad> <pad> <pad> <pad> <pad> <pad> <pad> <pad> <pad> <pad> <pad> <pad> <pad> <pad> <pad> <pad> <pad>\n",
      "Random prediction from validation data\n",
      "random num: 2489\n",
      "> my order was received promptly and the candy was very fresh and sweet .   the quantity was right on time , enough to share and have on hand ,\n",
      "= sweeet ! ! ! !\n",
      "  <unk> <EOS> <EOS> <EOS> <EOS> <EOS> <pad> <pad> <pad> <pad> <pad> <pad> <pad> <pad> <pad> <pad> <pad> <pad> <pad> <pad> <pad> <pad> <pad>\n",
      "random num: 2055\n",
      "> i purchased this product for my sister who has celiac disease .   she seemed to really like the food that we made from it .\n",
      "= gluten free\n",
      "  great free <EOS> <pad> <pad> <pad> <pad> <pad> <pad> <pad> <pad> <pad> <pad> <pad> <pad> <pad> <pad> <pad> <pad> <pad> <pad> <pad> <pad>\n"
     ]
    },
    {
     "name": "stderr",
     "output_type": "stream",
     "text": [
      " 24%|██▍       | 6/25 [09:23<29:41, 93.75s/it]"
     ]
    },
    {
     "name": "stdout",
     "output_type": "stream",
     "text": [
      "\n",
      "Total training loss for epoch 7:\t 322458.492767334\n",
      "\n",
      "Total validation loss for epoch 7:\t 69161.06854248047\n",
      "Random prediction from training data\n",
      "random num: 4069\n",
      "> this water tastes great and does not leave a syrupy sweet aftertaste in your mouth afterwards . very refreshing !\n",
      "= excellent , refreshing drink\n",
      "  great ! and ! <EOS> <pad> <pad> <pad> <pad> <pad> <pad> <pad> <pad> <pad> <pad> <pad> <pad> <pad> <pad> <pad> <pad> <pad> <pad>\n",
      "random num: 18666\n",
      "> this product is excellent with just enough sweetness to satisfy the taste buds .   i love it !\n",
      "= mrs. may 's dry - roasted pumkin crunch\n",
      "  mrs. may 's may 's dry pumkin crunch crunch dried soup <pad> <pad> <pad> <pad> <pad> <pad> <pad> <pad> <pad> <pad> <pad> <pad>\n",
      "Random prediction from validation data\n",
      "random num: 548\n",
      "> my spouse and i love hot and sour soup but this has got to be the worst i 've ever had .\n",
      "= it 's awful !\n",
      "  best was n't eat <EOS> <pad> <pad> <pad> <pad> <pad> <pad> <pad> <pad> <pad> <pad> <pad> <pad> <pad> <pad> <pad> <pad> <pad> <pad>\n",
      "random num: 1507\n",
      "> usually do not get the breakfast blends but it was on sale and decided at price would try it out . it was not as weak as some breakfast blends tend to be . not bad .\n",
      "= on sale\n",
      "  a good <EOS> <pad> <pad> <pad> <pad> <pad> <pad> <pad> <pad> <pad> <pad> <pad> <pad> <pad> <pad> <pad> <pad> <pad> <pad> <pad> <pad>\n"
     ]
    },
    {
     "name": "stderr",
     "output_type": "stream",
     "text": [
      " 28%|██▊       | 7/25 [10:57<28:04, 93.57s/it]"
     ]
    },
    {
     "name": "stdout",
     "output_type": "stream",
     "text": [
      "\n",
      "Total training loss for epoch 8:\t 303681.1928253174\n",
      "\n",
      "Total validation loss for epoch 8:\t 71235.8572845459\n",
      "Random prediction from training data\n",
      "random num: 21444\n",
      "> this tea is so delicious and the package of 10 is perfect for a little gift for someone .\n",
      "= perfect little tea lovers gift\n",
      "  perfect little tea lovers gift <EOS> <pad> <pad> <pad> <pad> <pad> <pad> <pad> <pad> <pad> <pad> <pad> <pad> <pad> <pad> <pad> <pad> <pad>\n",
      "random num: 8829\n",
      "> so far , all the different varieties of kind bars have been excellent , both in quality and variety .   highly recommend them even   though they are rather expensive compared to other bars .   however , they are gluten free so appropriate for those with gluten sensitivities .\n",
      "= kind bars\n",
      "  kind bars bars <pad> <pad> <pad> <pad> <pad> <pad> <pad> <pad> <pad> <pad> <pad> <pad> <pad> <pad> <pad> <pad> <pad> <pad> <pad> <pad>\n",
      "Random prediction from validation data\n",
      "random num: 1686\n",
      "> the purchase experience was great and went off without a hitch .   these snack sticks are convenient , delicious , and very satisfying !\n",
      "= great protein snack !\n",
      "  protein protein snack <EOS> <EOS> <pad> <pad> <pad> <pad> <pad> <pad> <pad> <pad> <pad> <pad> <pad> <pad> <pad> <pad> <pad> <pad> <pad> <pad>\n",
      "random num: 464\n",
      "> a very good product .   makes a nice , quick and healthy snack .   not too salty .   satisfies hunger .   very tasy .\n",
      "= great snack\n",
      "  yum snack <EOS> <pad> <pad> <pad> <pad> <pad> <pad> <pad> <pad> <pad> <pad> <pad> <pad> <pad> <pad> <pad> <pad> <pad> <pad> <pad> <pad>\n"
     ]
    },
    {
     "name": "stderr",
     "output_type": "stream",
     "text": [
      " 32%|███▏      | 8/25 [12:36<26:59, 95.28s/it]"
     ]
    },
    {
     "name": "stdout",
     "output_type": "stream",
     "text": [
      "\n",
      "Total training loss for epoch 9:\t 283746.595664978\n",
      "\n",
      "Total validation loss for epoch 9:\t 71693.82284545898\n",
      "Random prediction from training data\n",
      "random num: 5926\n",
      "> after giving these to my dogs they both developed bloody diarrhea ! i 'm throwing out the box and never buying this product again .\n",
      "= gave my dogs bloody diarrhea !\n",
      "  gave my dogs bloody diarrhea ! <EOS> <pad> <pad> <pad> <pad> <pad> <pad> <pad> <pad> <pad> <pad> <pad> <pad> <pad> <pad> <pad> <pad>\n",
      "random num: 19117\n",
      "> i had to hide the jars of peanut butter as the kids were gobbling it up . need i write more ?\n",
      "= had to hide the jar\n",
      "  had to hide jar jar <EOS> <pad> <pad> <pad> <pad> <pad> <pad> <pad> <pad> <pad> <pad> <pad> <pad> <pad> <pad> <pad> <pad> <pad>\n",
      "Random prediction from validation data\n",
      "random num: 776\n",
      "> for those of you watching your weight this is the way to go . this and diet soda can keep you for one of your meals . definitely a must .\n",
      "= best thing since diet soda\n",
      "  perfect cereal <EOS> <unk> <EOS> <EOS> <pad> <pad> <pad> <pad> <pad> <pad> <pad> <pad> <pad> <pad> <pad> <pad> <pad> <pad> <pad> <pad> <pad>\n",
      "random num: 2008\n",
      "> this is great tea . it smells exactly like a high - quality mint chocolate bar- everyone in the office raves about it when i brew a cup . the taste is closer to mint black tea , but with a nice roundness , almost creamy . no need to add sugar .\n",
      "= how do they do it ?\n",
      "  love this n't go to <EOS> <EOS> <pad> <pad> <pad> <pad> <pad> <pad> <pad> <pad> <pad> <pad> <pad> <pad> <pad> <pad> <pad> <pad>\n"
     ]
    },
    {
     "name": "stderr",
     "output_type": "stream",
     "text": [
      " 36%|███▌      | 9/25 [14:11<25:23, 95.22s/it]"
     ]
    },
    {
     "name": "stdout",
     "output_type": "stream",
     "text": [
      "\n",
      "Total training loss for epoch 10:\t 270195.0401916504\n",
      "\n",
      "Total validation loss for epoch 10:\t 72184.66006469727\n",
      "Random prediction from training data\n",
      "random num: 12637\n",
      "> this is very crispy with a heavy note of sesame , which is why we love it .   i 've never tasted a crisp bread with as much wholesome complexity as this .   enjoy it with a good canola spread , or a yogurt based spread like brum and brummel .\n",
      "= crunching goood\n",
      "  crunching goood <EOS> <pad> <pad> <pad> <pad> <pad> <pad> <pad> <pad> <pad> <pad> <pad> <pad> <pad> <pad> <pad> <pad> <pad> <pad> <pad> <pad>\n",
      "random num: 20716\n",
      "> what can i say ? these things taste amazing . i want them to have a million - piece set.<br /><br />yum\n",
      "= yum\n",
      "  yum yum <EOS> <pad> <pad> <pad> <pad> <pad> <pad> <pad> <pad> <pad> <pad> <pad> <pad> <pad> <pad> <pad> <pad> <pad> <pad> <pad> <pad>\n",
      "Random prediction from validation data\n",
      "random num: 1798\n",
      "> one of the nicest , smoothest cup of chai i 've made . nice mix of spices , largest overtone is the cardamom , but since i do like a half / half of tea with milk or soy milk as my chai drink , this is a good base for me .\n",
      "= chai for the morning\n",
      "  one <EOS> me real <EOS> <pad> <pad> <pad> <pad> <pad> <pad> <pad> <pad> <pad> <pad> <pad> <pad> <pad> <pad> <pad> <pad> <pad> <pad>\n",
      "random num: 544\n",
      "> i have been using this tea as a diet aid for maintaining my weight over the years . i drink this tea daily and i have enjoyed every cup . i hope to continue enjoying using this product for many more years .\n",
      "= great tea , thank you !\n",
      "  best tea tea twinings you tea <EOS> <pad> <pad> <pad> <pad> <pad> <pad> <pad> <pad> <pad> <pad> <pad> <pad> <pad> <pad> <pad> <pad>\n"
     ]
    },
    {
     "name": "stderr",
     "output_type": "stream",
     "text": [
      " 40%|████      | 10/25 [15:46<23:48, 95.23s/it]"
     ]
    },
    {
     "name": "stdout",
     "output_type": "stream",
     "text": [
      "\n",
      "Total training loss for epoch 11:\t 263754.0045776367\n",
      "\n",
      "Total validation loss for epoch 11:\t 71633.41877746582\n",
      "Random prediction from training data\n",
      "random num: 14199\n",
      "> great product , great ingredients , lasts longer if you keep them in the refrigerator . they are going to inhale them at any size so i like them tiny so my golden can get more of them\n",
      "= great product\n",
      "  great product <EOS> <pad> <pad> <pad> <pad> <pad> <pad> <pad> <pad> <pad> <pad> <pad> <pad> <pad> <pad> <pad> <pad> <pad> <pad> <pad> <pad>\n",
      "random num: 3477\n",
      "> i have a 14.5 year dog who is not an eager eater and he loves this food .   if he were n't so old , i would limit the amount he eats .   however , it keeps him happy which makes me happy .\n",
      "= kat\n",
      "  kat <EOS> <pad> <pad> <pad> <pad> <pad> <pad> <pad> <pad> <pad> <pad> <pad> <pad> <pad> <pad> <pad> <pad> <pad> <pad> <pad> <pad> <pad>\n",
      "Random prediction from validation data\n",
      "random num: 526\n",
      "> after trying many different kinds of pasta .... this is almost as good as the wheat pasta that i have used for years ....\n",
      "= darn good\n",
      "  good of deal ! <EOS> <pad> <pad> <pad> <pad> <pad> <pad> <pad> <pad> <pad> <pad> <pad> <pad> <pad> <pad> <pad> <pad> <pad> <pad>\n",
      "random num: 1181\n",
      "> every time i get one out for my dog he ca nt wait to eat it . i 've noticed his teeth are much cleaner and his breathe is great too ! highly recommended .\n",
      "= my german shepherd loves 'em !\n",
      "  my dog loves it <EOS> <pad> <EOS> <pad> <pad> <pad> <pad> <pad> <pad> <pad> <pad> <pad> <pad> <pad> <pad> <pad> <pad> <pad> <pad>\n"
     ]
    },
    {
     "name": "stderr",
     "output_type": "stream",
     "text": [
      " 44%|████▍     | 11/25 [17:20<22:05, 94.67s/it]"
     ]
    },
    {
     "name": "stdout",
     "output_type": "stream",
     "text": [
      "\n",
      "Total training loss for epoch 12:\t 249588.35856628418\n",
      "\n",
      "Total validation loss for epoch 12:\t 74891.52835083008\n",
      "Random prediction from training data\n",
      "random num: 2591\n",
      "> i bought this product and sent it to my daughter that is currently attending college . she was very grateful for the present and said she really likes it .\n",
      "= twisted fruit\n",
      "  great birthday present <pad> <pad> <pad> <pad> <pad> <pad> <pad> <pad> <pad> <pad> <pad> <pad> <pad> <pad> <pad> <pad> <pad> <pad> <pad> <pad>\n",
      "random num: 23\n",
      "> jet black , \" greasy \" beans , very rich and not expensive . i purchase one of these bags every six weeks my family .\n",
      "= perfect for frugal coffee snob\n",
      "  perfect coffee coffee snob snob <EOS> <pad> <pad> <pad> <pad> <pad> <pad> <pad> <pad> <pad> <pad> <pad> <pad> <pad> <pad> <pad> <pad> <pad>\n",
      "Random prediction from validation data\n",
      "random num: 2216\n",
      "> if you like your coffee strong this is the k - cup for you !   i 've tried the ' bold ' coffees from various manufacturers here on amazon and this is the one that wins hands down .   it 's strong , it has a kick but the flavor is still smooth and subtle .\n",
      "= this is it !\n",
      "  bold is it ! <EOS> <pad> <pad> <pad> <pad> <pad> <pad> <pad> <pad> <pad> <pad> <pad> <pad> <pad> <pad> <pad> <pad> <pad> <pad>\n",
      "random num: 256\n",
      "> s a frequent shopper ( and snacker ) of health food stores across the tri - state area i consider myself an expert on healthy snacks .   these are my absolute favorite . i can eat an entire bag in one sitting !\n",
      "= delicious and healthy\n",
      "  great & rice <EOS> <pad> <pad> <pad> <pad> <pad> <pad> <pad> <pad> <pad> <pad> <pad> <pad> <pad> <pad> <pad> <pad> <pad> <pad> <pad>\n"
     ]
    },
    {
     "name": "stderr",
     "output_type": "stream",
     "text": [
      " 48%|████▊     | 12/25 [18:54<20:29, 94.55s/it]"
     ]
    },
    {
     "name": "stdout",
     "output_type": "stream",
     "text": [
      "\n",
      "Total training loss for epoch 13:\t 244241.02485656738\n",
      "\n",
      "Total validation loss for epoch 13:\t 74664.73034667969\n",
      "Random prediction from training data\n",
      "random num: 12577\n",
      "> do n't waste your money on any of the kettle brand potato chips .   i bought a case of these , and a case of the cheddar and sour cream .   both cases ended up in the garbage can .\n",
      "= garbage\n",
      "  garbage <EOS> <pad> <pad> <pad> <pad> <pad> <pad> <pad> <pad> <pad> <pad> <pad> <pad> <pad> <pad> <pad> <pad> <pad> <pad> <pad> <pad> <pad>\n",
      "random num: 20031\n",
      "> if your looking for a good flavored coffee , this is it .   the raspberry flavor stands out .   could use a little more chocolate .   great flavor , excellent price .\n",
      "= excellent\n",
      "  excellent <EOS> <pad> <pad> <pad> <pad> <pad> <pad> <pad> <pad> <pad> <pad> <pad> <pad> <pad> <pad> <pad> <pad> <pad> <pad> <pad> <pad> <pad>\n",
      "Random prediction from validation data\n",
      "random num: 1900\n",
      "> great real coconut young coconut taste . not the usual overwhelming sweet taste seen on other coconut water canned drinks .   good on the environment . made in brazil . even better .   you can really taste the fruit labelled on the product besides the coconut water taste\n",
      "= great taste . nice fruit flavor . serve chilled\n",
      "  best coconut coconut water ! <EOS> <EOS> <EOS> coconut <EOS> <pad> <pad> <pad> <pad> <pad> <pad> <pad> <pad> <pad> <pad> <pad> <pad> <pad>\n",
      "random num: 1760\n",
      "> i was very impressed with how bold this coffee is . this is easily my new favorite early morning brew . bam !\n",
      "= bold is beautiful !\n",
      "  good coffee <EOS> <pad> <pad> <pad> <pad> <pad> <pad> <pad> <pad> <pad> <pad> <pad> <pad> <pad> <pad> <pad> <pad> <pad> <pad> <pad> <pad>\n"
     ]
    },
    {
     "name": "stderr",
     "output_type": "stream",
     "text": [
      " 52%|█████▏    | 13/25 [20:28<18:52, 94.33s/it]"
     ]
    },
    {
     "name": "stdout",
     "output_type": "stream",
     "text": [
      "\n",
      "Total training loss for epoch 14:\t 233668.6689376831\n",
      "\n",
      "Total validation loss for epoch 14:\t 76313.78019714355\n",
      "Random prediction from training data\n",
      "random num: 14043\n",
      "> these chips are really thick.<br />they are starchy and a bit dry.<br />they taste ok , but i wo n't be tying them again .\n",
      "= too thick\n",
      "  too thick <EOS> <pad> <pad> <pad> <pad> <pad> <pad> <pad> <pad> <pad> <pad> <pad> <pad> <pad> <pad> <pad> <pad> <pad> <pad> <pad> <pad>\n",
      "random num: 22055\n",
      "> i love this product .   it is delicious and a great deal .   i saw on the package that i could add some milk with the water and i found it is even more delicious doing that .   these are the best oats .\n",
      "= wonderful and at a great cost\n",
      "  wonderful and cost a cost cost <EOS> <pad> <pad> <pad> <pad> <pad> <pad> <pad> <pad> <pad> <pad> <pad> <pad> <pad> <pad> <pad> <pad>\n",
      "Random prediction from validation data\n",
      "random num: 1228\n",
      "> glutino pretzels ( and pastas ) are the best on the market and taste soooo much like the real thing . i lived 35 years before discovering celiac , i know what the real thing tastes like ! !   they make our gluten free life so much more normal ! !\n",
      "= best on the market\n",
      "  best pretzels <EOS> best <EOS> <pad> <pad> <pad> <pad> <pad> <pad> <pad> <pad> <pad> <pad> <pad> <pad> <pad> <pad> <pad> <pad> <pad> <pad>\n",
      "random num: 1012\n",
      "> this is by far the best choice for a low fat option for peanut butter . the idea of a powdered pb seems odd at first , but once reconstituted with water , it actually has creamy texture . tastewise , i prefer this over any other natural pb on the market .\n",
      "= great taste and texture !\n",
      "  great product <EOS> great <EOS> <pad> <pad> <pad> <pad> <pad> <pad> <pad> <pad> <pad> <pad> <pad> <pad> <pad> <pad> <pad> <pad> <pad> <pad>\n"
     ]
    },
    {
     "name": "stderr",
     "output_type": "stream",
     "text": [
      " 56%|█████▌    | 14/25 [22:01<17:15, 94.11s/it]"
     ]
    },
    {
     "name": "stdout",
     "output_type": "stream",
     "text": [
      "\n",
      "Total training loss for epoch 15:\t 225610.18462371826\n",
      "\n",
      "Total validation loss for epoch 15:\t 77217.52602386475\n",
      "Random prediction from training data\n",
      "random num: 8992\n",
      "> i love this product .   the only suggestion i could make to improve it , would be to allow the customer to select the combination of flavors .\n",
      "= popchips , variety pack\n",
      "  popchips , variety pack <EOS> <pad> <pad> <pad> <pad> <pad> <pad> <pad> <pad> <pad> <pad> <pad> <pad> <pad> <pad> <pad> <pad> <pad> <pad>\n",
      "random num: 11268\n",
      "> i would recommend this aerator to a friend . it works great for white or red wine . buy it and test it for yourself!<br /><br />ordering was simple . i received the item quickly .\n",
      "= what a difference this aerator makes !   use on red or whites !\n",
      "  what a difference aerator makes   aerator makes aerator makes or or whites ! <EOS> <pad> <pad> <pad> <pad> <pad> <pad> <pad> <pad>\n",
      "Random prediction from validation data\n",
      "random num: 1270\n",
      "> when you offer it to someone , they might freak on the name .   but it has a great taste .   one of my favorites .\n",
      "= scary name for good coffee .\n",
      "  love <EOS> <EOS> <pad> <pad> <pad> <pad> <pad> <pad> <pad> <pad> <pad> <pad> <pad> <pad> <pad> <pad> <pad> <pad> <pad> <pad> <pad> <pad>\n",
      "random num: 2348\n",
      "> i have drank this tea for over 30 years and enjoy the fragrance as much as the taste . i have even mixed orange and clove oils to create a perfume . however , i now want to buy constant comment in k pods . they are not available . will they be ?\n",
      "= memorable\n",
      "  great as <pad> <pad> <pad> <pad> <pad> <pad> <pad> <pad> <pad> <pad> <pad> <pad> <pad> <pad> <pad> <pad> <pad> <pad> <pad> <pad> <pad>\n"
     ]
    },
    {
     "name": "stderr",
     "output_type": "stream",
     "text": [
      " 60%|██████    | 15/25 [23:35<15:39, 93.91s/it]"
     ]
    },
    {
     "name": "stdout",
     "output_type": "stream",
     "text": [
      "\n",
      "Total training loss for epoch 16:\t 224459.00075531006\n",
      "\n",
      "Total validation loss for epoch 16:\t 77536.1644744873\n",
      "Random prediction from training data\n",
      "random num: 1748\n",
      "> great coffee at a good price . i 'm a subscription buyer and i buy this month after month . what more can i say ?\n",
      "= morning coffee\n",
      "  morning coffee <EOS> <pad> <pad> <pad> <pad> <pad> <pad> <pad> <pad> <pad> <pad> <pad> <pad> <pad> <pad> <pad> <pad> <pad> <pad> <pad> <pad>\n",
      "random num: 12111\n",
      "> it is a great product , tastes great , my favorites are tri - color and tomato cous cous . i have nothing bad to say about the product .\n",
      "= very good product\n",
      "  great good <EOS> <EOS> <pad> <pad> <pad> <pad> <pad> <pad> <pad> <pad> <pad> <pad> <pad> <pad> <pad> <pad> <pad> <pad> <pad> <pad> <pad>\n",
      "Random prediction from validation data\n",
      "random num: 1663\n",
      "> i am so glad to find the best ketchup in the world available here at amazon . since i moved to the us , i had trouble to find a ketchup similar to this one . now i can enjoy all my meals with this hela ketchup .\n",
      "= yummy\n",
      "  best <EOS> <pad> <pad> <pad> <pad> <pad> <pad> <pad> <pad> <pad> <pad> <pad> <pad> <pad> <pad> <pad> <pad> <pad> <pad> <pad> <pad> <pad>\n",
      "random num: 760\n",
      "> i have looked all over the place for this custard . it is excellant and < br />makes great pies . try it and you will like it < br />pauline\n",
      "= excellant custard\n",
      "  great coffee <EOS> <pad> <pad> <pad> <pad> <pad> <pad> <pad> <pad> <pad> <pad> <pad> <pad> <pad> <pad> <pad> <pad> <pad> <pad> <pad> <pad>\n"
     ]
    },
    {
     "name": "stderr",
     "output_type": "stream",
     "text": [
      " 64%|██████▍   | 16/25 [25:09<14:05, 93.90s/it]"
     ]
    },
    {
     "name": "stdout",
     "output_type": "stream",
     "text": [
      "\n",
      "Total training loss for epoch 17:\t 218298.1936187744\n",
      "\n",
      "Total validation loss for epoch 17:\t 79728.20420837402\n",
      "Random prediction from training data\n",
      "random num: 12436\n",
      "> this tea is hard to find so i bought 6 boxes . when you open the packet , the bag smells exactly like fresh peaches . the taste is not masked by other flavors such as cinnamon . it makes wonderful iced tea .\n",
      "= stash peach tea\n",
      "  stash peach tea <EOS> <pad> <pad> <pad> <pad> <pad> <pad> <pad> <pad> <pad> <pad> <pad> <pad> <pad> <pad> <pad> <pad> <pad> <pad> <pad>\n",
      "random num: 2143\n",
      "> these treats are another favorite for my goldens !   and my friends and neighbors dogs too .   i bought one bag to try and will definitely be ordering again .\n",
      "= yummy and tasty\n",
      "  yummy and yummy <EOS> <pad> <pad> <pad> <pad> <pad> <pad> <pad> <pad> <pad> <pad> <pad> <pad> <pad> <pad> <pad> <pad> <pad> <pad> <pad>\n",
      "Random prediction from validation data\n",
      "random num: 1130\n",
      "> green mountain is a great blend of coffee .   it has a flavor that i like .   we especially enjoy it in our keurig brewer .   this coffee does n't taste weak but has what they call an \" extra bold \" taste . this was a good deal all the way around .\n",
      "= great coffee\n",
      "  good coffee <EOS> <pad> <pad> <pad> <pad> <pad> <pad> <pad> <pad> <pad> <pad> <pad> <pad> <pad> <pad> <pad> <pad> <pad> <pad> <pad> <pad>\n",
      "random num: 1597\n",
      "> for our very first k - cup purchase , these have been terrific !   a great assortment of coffees , teas , and hot chocolates for all tastes and moods .   good price , too !\n",
      "= love these !\n",
      "  * it ! <EOS> <pad> <pad> <pad> <pad> <pad> <pad> <pad> <pad> <pad> <pad> <pad> <pad> <pad> <pad> <pad> <pad> <pad> <pad> <pad>\n"
     ]
    },
    {
     "name": "stderr",
     "output_type": "stream",
     "text": [
      " 68%|██████▊   | 17/25 [26:43<12:31, 93.99s/it]"
     ]
    },
    {
     "name": "stdout",
     "output_type": "stream",
     "text": [
      "\n",
      "Total training loss for epoch 18:\t 215392.62874603271\n",
      "\n",
      "Total validation loss for epoch 18:\t 80727.61303710938\n",
      "Random prediction from training data\n",
      "random num: 22919\n",
      "> it 's tasty , fast to cook and a convenient . the only drawback is that it is a little too rich in calories ( as a lot of indian pilafs can be ) .\n",
      "= tasty yet quick\n",
      "  tasty yet quick <EOS> <pad> <pad> <pad> <pad> <pad> <pad> <pad> <pad> <pad> <pad> <pad> <pad> <pad> <pad> <pad> <pad> <pad> <pad> <pad>\n",
      "random num: 13609\n",
      "> i 've tried other low acid coffee before . this one is bitter tasting no matter how i tried to masked the taste . i would not be ordering this nor recommend this product . luckily , i ordered another product along with this one .\n",
      "= disappointed\n",
      "  disappointed <EOS> <pad> <pad> <pad> <pad> <pad> <pad> <pad> <pad> <pad> <pad> <pad> <pad> <pad> <pad> <pad> <pad> <pad> <pad> <pad> <pad> <pad>\n",
      "Random prediction from validation data\n",
      "random num: 2533\n",
      "> this snack is delicious and healthy .   it 's my daughter 's favorite so i send them to her at college , a box of twelve smaller bags so that she can take them with her anywhere .\n",
      "= bare fruit bake - dried granny smith apple chips\n",
      "  tasty just 's <EOS> <pad> <pad> <pad> 's 's <EOS> <pad> <pad> <pad> <pad> <pad> <pad> <pad> <pad> <pad> <pad> <pad> <pad> <pad>\n",
      "random num: 1501\n",
      "> this is a fantastic product . the honey pearls dissolve and mix in so well ! you 'll never get the honey at the bottom of the mug again . you also do n't have to worry about honey turning to crystals like you do with liquid .\n",
      "= no more slug at the bottom of your mug\n",
      "  best ! ! ! ! best ! ! ! ! <EOS> <pad> <pad> <pad> <pad> <pad> <pad> <pad> <pad> <pad> <pad> <pad> <pad>\n"
     ]
    },
    {
     "name": "stderr",
     "output_type": "stream",
     "text": [
      " 72%|███████▏  | 18/25 [28:17<10:58, 94.01s/it]"
     ]
    },
    {
     "name": "stdout",
     "output_type": "stream",
     "text": [
      "\n",
      "Total training loss for epoch 19:\t 210535.54358673096\n",
      "\n",
      "Total validation loss for epoch 19:\t 80059.4859161377\n",
      "Random prediction from training data\n",
      "random num: 766\n",
      "> this canned salmon is wonderfully tasty . i use it to make salmon cakes . the crown prince brand is one i can usually rely on   being a good product .\n",
      "= salmon\n",
      "  salmon <EOS> <pad> <pad> <pad> <pad> <pad> <pad> <pad> <pad> <pad> <pad> <pad> <pad> <pad> <pad> <pad> <pad> <pad> <pad> <pad> <pad> <pad>\n",
      "random num: 7047\n",
      "> not bad as a pre shampoo i mean it smells like toilet bowl cleaner but it works good !\n",
      "= smells like toilet bowl cleaner\n",
      "  smells like toilet bowl cleaner <EOS> <pad> <pad> <pad> <pad> <pad> <pad> <pad> <pad> <pad> <pad> <pad> <pad> <pad> <pad> <pad> <pad> <pad>\n",
      "Random prediction from validation data\n",
      "random num: 738\n",
      "> this is my favorite hot sauce , such a delicious flavor besides being the perfect amount of heat .   i put it on just about everything !\n",
      "= love this sauce\n",
      "  delicious hot sauce <EOS> <pad> <pad> <pad> <pad> <pad> <pad> <pad> <pad> <pad> <pad> <pad> <pad> <pad> <pad> <pad> <pad> <pad> <pad> <pad>\n",
      "random num: 1017\n",
      "> i do n't know that much about lentils , but these do not taste like the ones i used to buy in india and mauritius , so i 'm disappointed .\n",
      "= red lentils not like india\n",
      "  these licorice taste <EOS> <EOS> <EOS> <pad> <pad> <pad> <pad> <pad> <pad> <pad> <pad> <pad> <pad> <pad> <pad> <pad> <pad> <pad> <pad> <pad>\n"
     ]
    },
    {
     "name": "stderr",
     "output_type": "stream",
     "text": [
      " 76%|███████▌  | 19/25 [29:50<09:23, 93.91s/it]"
     ]
    },
    {
     "name": "stdout",
     "output_type": "stream",
     "text": [
      "\n",
      "Total training loss for epoch 20:\t 208498.36907958984\n",
      "\n",
      "Total validation loss for epoch 20:\t 82291.2283706665\n",
      "Random prediction from training data\n",
      "random num: 20716\n",
      "> what can i say ? these things taste amazing . i want them to have a million - piece set.<br /><br />yum\n",
      "= yum\n",
      "  yum yum <pad> <pad> <pad> <pad> <pad> <pad> <pad> <pad> <pad> <pad> <pad> <pad> <pad> <pad> <pad> <pad> <pad> <pad> <pad> <pad> <pad>\n",
      "random num: 20866\n",
      "> the liquid creamers are the best , but in a pinch or when traveling , the powdered creamers are pretty good . the sugar free vanilla caramel is almost too sweet though .\n",
      "= creamer\n",
      "  creamer <EOS> <pad> <pad> <pad> <pad> <pad> <pad> <pad> <pad> <pad> <pad> <pad> <pad> <pad> <pad> <pad> <pad> <pad> <pad> <pad> <pad> <pad>\n",
      "Random prediction from validation data\n",
      "random num: 957\n",
      "> i almost bought the bigger more common size bubble gum .   glad i double checked measurements .   work great in my vintage 50 's machine .\n",
      "= perfect size for vintage machine\n",
      "  great <EOS> <EOS> the taste ordering <pad> <pad> <pad> <pad> <pad> <pad> <pad> <pad> <pad> <pad> <pad> <pad> <pad> <pad> <pad> <pad> <pad>\n",
      "random num: 477\n",
      "> this product was n't what i expected it was n't spicy at all and did n't have a smokey flavor either it had a super light regular store paprika flavor .\n",
      "= spicy smoked paprika\n",
      "  bad <EOS> hot sauce <EOS> <pad> <pad> <pad> <pad> <pad> <pad> <pad> <pad> <pad> <pad> <pad> <pad> <pad> <pad> <pad> <pad> <pad> <pad>\n"
     ]
    },
    {
     "name": "stderr",
     "output_type": "stream",
     "text": [
      " 80%|████████  | 20/25 [31:25<07:49, 93.97s/it]"
     ]
    },
    {
     "name": "stdout",
     "output_type": "stream",
     "text": [
      "\n",
      "Total training loss for epoch 21:\t 207361.67922210693\n",
      "\n",
      "Total validation loss for epoch 21:\t 81416.30938720703\n",
      "Random prediction from training data\n",
      "random num: 5262\n",
      "> i am not a huge coconut fan , so i was n't excited about trying this , but with one sip it definitely won me over !   the flavor is perfect and is now one of the flavors in our regular rotation .   and it smells so good ! ! !\n",
      "= delicious ! !\n",
      "  fantastic ! ! ! <pad> <pad> <pad> <pad> <pad> <pad> <pad> <pad> <pad> <pad> <pad> <pad> <pad> <pad> <pad> <pad> <pad> <pad> <pad>\n",
      "random num: 11682\n",
      "> i have always enjoyed this product and routinely order it from amazon .   thank you for stocking < br />it , for it is hard to find .\n",
      "= lavazza crema e gusto\n",
      "  lavazza crema e gusto <EOS> <pad> <pad> <pad> <pad> <pad> <pad> <pad> <pad> <pad> <pad> <pad> <pad> <pad> <pad> <pad> <pad> <pad> <pad>\n",
      "Random prediction from validation data\n",
      "random num: 2341\n",
      "> mmmm !   it is unhealthy and very tasty !   i recommend to eat all 5 + lb of candy all at once ! om nom nom nom ...\n",
      "= mmmm ...\n",
      "  i ! <EOS> <pad> <pad> <pad> <pad> <pad> <pad> <pad> <pad> <pad> <pad> <pad> <pad> <pad> <pad> <pad> <pad> <pad> <pad> <pad> <pad>\n",
      "random num: 2272\n",
      "> i am shocked at the star ratings this coffee has . i suppose it 's not for everyone . me , personally , i love it . it 's the epitome of fall . now all i need is the hot apple cider k - cup and all will be right in this world .\n",
      "= a must have for pumpkin lovers !\n",
      "  not as be not my <EOS> <EOS> <pad> <pad> <pad> <pad> <pad> <pad> <pad> <pad> <pad> <pad> <pad> <pad> <pad> <pad> <pad> <pad>\n"
     ]
    },
    {
     "name": "stderr",
     "output_type": "stream",
     "text": [
      " 84%|████████▍ | 21/25 [32:58<06:15, 93.82s/it]"
     ]
    },
    {
     "name": "stdout",
     "output_type": "stream",
     "text": [
      "\n",
      "Total training loss for epoch 22:\t 200719.77474594116\n",
      "\n",
      "Total validation loss for epoch 22:\t 81353.27043151855\n",
      "Random prediction from training data\n",
      "random num: 8857\n",
      "> this is my new addiction . it is delightful . if you like dark chocolate , drink it plain . if you prefer sweeter chocolates , doll it up with sugar and cream . it is heavenly .\n",
      "= absolutely perfect\n",
      "  wonderful ! <EOS> <pad> <pad> <pad> <pad> <pad> <pad> <pad> <pad> <pad> <pad> <pad> <pad> <pad> <pad> <pad> <pad> <pad> <pad> <pad> <pad>\n",
      "random num: 3736\n",
      "> this is by far the best tasting low carb , low sugar high whey protein bar ever had . i recommend it . it 's healthier to snack on this , especially if you get chocolate cravings often . very light and gives you a quick fill .\n",
      "= best tasting protein bar\n",
      "  best tasting protein bar <EOS> <pad> <pad> <pad> <pad> <pad> <pad> <pad> <pad> <pad> <pad> <pad> <pad> <pad> <pad> <pad> <pad> <pad> <pad>\n",
      "Random prediction from validation data\n",
      "random num: 2178\n",
      "> awesome product , really does help with a round of golf or getting home project done!<br />works pretty quick and you can take half now and half in about an hour or so for a quick boost .\n",
      "= pomegranate tastes like liquid cotton candy !\n",
      "  pomegranate tastes liquid cotton cotton candy ! <EOS> <pad> <pad> <pad> <pad> <pad> <pad> <pad> <pad> <pad> <pad> <pad> <pad> <pad> <pad> <pad>\n",
      "random num: 2302\n",
      "> i am glad to have gluten - free rolled oats to eat . i would very much like to have steel cut gluten - free oats , perhaps cream hill estates will produce that some day .\n",
      "= good real food\n",
      "  great free meat <EOS> <pad> <pad> <pad> <pad> <pad> <pad> <pad> <pad> <pad> <pad> <pad> <pad> <pad> <pad> <pad> <pad> <pad> <pad> <pad>\n"
     ]
    },
    {
     "name": "stderr",
     "output_type": "stream",
     "text": [
      " 88%|████████▊ | 22/25 [34:32<04:41, 93.87s/it]"
     ]
    },
    {
     "name": "stdout",
     "output_type": "stream",
     "text": [
      "\n",
      "Total training loss for epoch 23:\t 202869.3404197693\n",
      "\n",
      "Total validation loss for epoch 23:\t 82874.28813171387\n",
      "Random prediction from training data\n",
      "random num: 3936\n",
      "> they seem to like tbis , and it does not give indigestion to my cat who has food allergies .   however , they seem to prefer the chicken florentine flavor .\n",
      "= finicky cats willing to eat this .\n",
      "  finicky cats willing to eat this . <EOS> <pad> <pad> <pad> <pad> <pad> <pad> <pad> <pad> <pad> <pad> <pad> <pad> <pad> <pad> <pad>\n",
      "random num: 2921\n",
      "> beware ! it 's easy to get hooked on this honey . it has turned me into a honey snob , and i think i 'll be buying it for life . i love to pop the lid and inhale deeply -- smells like a field of wildflowers .\n",
      "= best honey i 've had\n",
      "  best honey i 've had <EOS> <pad> <pad> <pad> <pad> <pad> <pad> <pad> <pad> <pad> <pad> <pad> <pad> <pad> <pad> <pad> <pad> <pad>\n",
      "Random prediction from validation data\n",
      "random num: 1358\n",
      "> i ordered this and i recieved one bully stick . not one box of bully sticks - just one individual bully stick.<br />bummer!<br /><br />and i just called to return it and they want me to pay for the postage ! ! ! ! no way ! ! !\n",
      "= do not order this~\n",
      "  very delivery buy this this one <pad> <pad> <pad> <pad> <pad> <pad> <pad> <pad> <pad> <pad> <pad> <pad> <pad> <pad> <pad> <pad> <pad>\n",
      "random num: 166\n",
      "> we love this orange and actually prefer it to store or name brand orange soda .   it has a nice , bright orange taste with a tart finish and is our favorite flavor of all the mixes .\n",
      "= better than name brand\n",
      "  great packaging <EOS> <EOS> <pad> <pad> <pad> <pad> <pad> <pad> <pad> <pad> <pad> <pad> <pad> <pad> <pad> <pad> <pad> <pad> <pad> <pad> <pad>\n"
     ]
    },
    {
     "name": "stderr",
     "output_type": "stream",
     "text": [
      " 92%|█████████▏| 23/25 [36:06<03:08, 94.03s/it]"
     ]
    },
    {
     "name": "stdout",
     "output_type": "stream",
     "text": [
      "\n",
      "Total training loss for epoch 24:\t 198280.0610961914\n",
      "\n",
      "Total validation loss for epoch 24:\t 85380.07734680176\n",
      "Random prediction from training data\n",
      "random num: 3682\n",
      "> this stuff is simular to flavored coffee mate ( the power kind ) , yet it rivals it , and some of the other private brand verions .\n",
      "= simular to flavored coffee mate .\n",
      "  simular to flavored mate mate . <EOS> <pad> <pad> <pad> <pad> <pad> <pad> <pad> <pad> <pad> <pad> <pad> <pad> <pad> <pad> <pad> <pad>\n",
      "random num: 4122\n",
      "> i purchased this for my girlfriend who loved this stuff over the xmas period . now she has a supply which should last several months .\n",
      "= best hot chocolate ever\n",
      "  best hot chocolate ever <EOS> <pad> <pad> <pad> <pad> <pad> <pad> <pad> <pad> <pad> <pad> <pad> <pad> <pad> <pad> <pad> <pad> <pad> <pad>\n",
      "Random prediction from validation data\n",
      "random num: 797\n",
      "> my husband 's favorite biscuit ( cookie ) with tea . plain but tasty . hard to find in america .\n",
      "= mcvities digestive 400 g 3 pack\n",
      "  a for tea <EOS> <pad> <pad> <pad> <pad> <pad> <pad> <pad> <pad> <pad> <pad> <pad> <pad> <pad> <pad> <pad> <pad> <pad> <pad> <pad>\n",
      "random num: 2373\n",
      "> i have given this bone to several different breeds and sizes of dogs and it is a major hit ! and i do n't worry about them choking on it as you do with rawhides . love this product and will buy more !\n",
      "= dogs love\n",
      "  dogs love this stuff ! <EOS> <pad> <pad> <pad> <pad> <pad> <pad> <pad> <pad> <pad> <pad> <pad> <pad> <pad> <pad> <pad> <pad> <pad>\n"
     ]
    },
    {
     "name": "stderr",
     "output_type": "stream",
     "text": [
      " 96%|█████████▌| 24/25 [37:40<01:33, 93.94s/it]"
     ]
    },
    {
     "name": "stdout",
     "output_type": "stream",
     "text": [
      "\n",
      "Total training loss for epoch 25:\t 199489.60291290283\n",
      "\n",
      "Total validation loss for epoch 25:\t 84598.98159790039\n",
      "Random prediction from training data\n",
      "random num: 1476\n",
      "> we love to grind freah beans and this brand is always great . stands on its own as flavorful and strong , plus we mix it with flavors . always delivered fresh !\n",
      "= fresh and strong\n",
      "  fresh and strong ! <EOS> <pad> <pad> <pad> <pad> <pad> <pad> <pad> <pad> <pad> <pad> <pad> <pad> <pad> <pad> <pad> <pad> <pad> <pad>\n",
      "random num: 21939\n",
      "> great baby foods !   i like the variety pack .   much cheaper than buying it from the local grocers or co - op !   i just wish they came in the squeezie pouches !\n",
      "= yum !\n",
      "  yum ! <EOS> <pad> <pad> <pad> <pad> <pad> <pad> <pad> <pad> <pad> <pad> <pad> <pad> <pad> <pad> <pad> <pad> <pad> <pad> <pad> <pad>\n",
      "Random prediction from validation data\n",
      "random num: 962\n",
      "> shame on the company that bought the name and put it on this stuff made with artifical flavors , mono and di - glycerides , and egg albumin - this soft mushy stuff is nothing like the original bonomo turkish taffy - do n't waste your time or money .\n",
      "= this is nothing like the original turkish taffy\n",
      "  i , , , and taste i ordered not <pad> <pad> <pad> <pad> <pad> <pad> <pad> <pad> <pad> <pad> <pad> <pad> <pad> <pad>\n",
      "random num: 1841\n",
      "> i sent this coffee to friends back east .   they enjoyed receiving it and said it was delicious .\n",
      "= coffee gifts\n",
      "  great coffee <EOS> <pad> <pad> <pad> <pad> <pad> <pad> <pad> <pad> <pad> <pad> <pad> <pad> <pad> <pad> <pad> <pad> <pad> <pad> <pad> <pad>\n"
     ]
    },
    {
     "name": "stderr",
     "output_type": "stream",
     "text": [
      "100%|██████████| 25/25 [39:14<00:00, 94.16s/it]\n"
     ]
    }
   ],
   "source": [
    "criterion = nn.CrossEntropyLoss(ignore_index=1)\n",
    "optimizer = optim.Adam(model.parameters())\n",
    "\n",
    "\n",
    "def loss_fun(predictions, target, target_lens, reduction=torch.sum):\n",
    "    \"\"\"\n",
    "\n",
    "        :param predictions: [B, T, C]\n",
    "        :param target: [B, T]\n",
    "        :param target_lens: [B]\n",
    "\n",
    "        :return: loss: [B]\n",
    "\n",
    "    \"\"\"\n",
    "    assert len(predictions) == len(target) == len(target_lens)\n",
    "    \n",
    "    # Create mask\n",
    "    bs, max_len = target.size()\n",
    "    mask = torch.zeros(bs, max_len)\n",
    "    for i in range(bs):\n",
    "        #         print(i, target_lens[i].item(), max_len)\n",
    "        #         print(mask)\n",
    "        mask[i, :target_lens[i].item()] = 1\n",
    "    \n",
    "    # Remove SOS and reshape\n",
    "    predictions = predictions[:, 1:, :].reshape(-1, predictions.size(2)) # [B*(T-1), C]\n",
    "    target = target[:, 1:].reshape(-1) # [B*(T-1)]\n",
    "    mask = mask[:, 1:].reshape(-1)  # [B*(T-1)]\n",
    "    \n",
    "    # Count total sequences (excluding masked positions)\n",
    "    assert len(predictions) == len(target) == len(mask)\n",
    "    #     n = len(predictions)\n",
    "    n = sum(mask).item()\n",
    "    \n",
    "    prob_correct_seqs = torch.gather(predictions, dim=1, index=target.unsqueeze(1)).cpu()\n",
    "    # print(prob_correct_seqs)\n",
    "    \n",
    "    # Calculate NLL (do before mask to avoid inf if zero used for mask)\n",
    "    prob_correct_seqs = prob_correct_seqs\n",
    "    nll = -torch.log(prob_correct_seqs) \n",
    "    #     print(nll)\n",
    "    \n",
    "    # Reduce nll loss across batch filtered with mask\n",
    "    loss = reduction(nll * mask)\n",
    "    #     print(f\"Loss before: {loss}; and averaged loss over {n} samples: {loss / n}\")\n",
    "    \n",
    "    return loss / n\n",
    "    \n",
    "\n",
    "for epoch in tqdm(range(1, (config.get(\"epochs\") + 1))):\n",
    "    train_loss = train(model, train_iter, criterion, optimizer, epoch, loss_fun)\n",
    "    dev_loss = eval(model, val_iter, criterion, epoch, loss_fun)\n",
    "    \n",
    "    print(f\"\\nTotal training loss for epoch {epoch}:\\t {train_loss}\")\n",
    "    print(f\"\\nTotal validation loss for epoch {epoch}:\\t {dev_loss}\")\n",
    "\n",
    "    print(\"Random prediction from training data\")\n",
    "    random_eval(model, train_data, 2)\n",
    "    print(\"Random prediction from validation data\")\n",
    "    random_eval(model, val_data, 2)\n",
    "\n",
    "    path = \"models/model.pt\"\n",
    "    torch.save(model, path)\n"
   ]
  },
  {
   "cell_type": "code",
   "execution_count": 670,
   "metadata": {
    "collapsed": false,
    "jupyter": {
     "outputs_hidden": false
    },
    "pycharm": {
     "name": "#%%\n"
    }
   },
   "outputs": [
    {
     "name": "stderr",
     "output_type": "stream",
     "text": [
      "  4%|▍         | 1/25 [01:32<36:55, 92.30s/it]"
     ]
    },
    {
     "name": "stdout",
     "output_type": "stream",
     "text": [
      "\n",
      "Total training loss for epoch 1:\t 585288.2017669678\n",
      "\n",
      "Total validation loss for epoch 1:\t 65749.14768981934\n",
      "Random prediction from training data\n",
      "random num: 9482\n",
      "> well i purchased this item to give away at trade shows my company attend . while i was expecting a bucket of 3 different flavors . i received a bucket of the original flavor . as i chatted with a rep from amazon.com , he basically told me that your out of luck .\n",
      "= no as advertised\n",
      "  <unk> <EOS> <unk> <EOS> <pad> <pad> <pad> <pad> <pad> <pad> <pad> <pad> <pad> <pad> <pad> <pad> <pad> <pad> <pad> <pad> <pad> <pad> <pad>\n",
      "random num: 10482\n",
      "> i highly recommend the english breakfast black tea . i 'm not real big on tea most of the time but i give this one 5 stars . do n't be shy and try it .\n",
      "= celestial seasonings devonshire english breakfast black tea\n",
      "  twinings tea tea tea <EOS> tea tea <EOS> <pad> <pad> <pad> <pad> <pad> <pad> <pad> <pad> <pad> <pad> <pad> <pad> <pad> <pad> <pad>\n",
      "Random prediction from validation data\n",
      "random num: 530\n",
      "> i sent these to my son ,   working on the midnight shift . he loves them ! thanks for such a great tasting brew ! he said he drinks one a night and they are just right !\n",
      "= fantastic ! just right for the midnight shift\n",
      "  great ! <EOS> like the the ! <EOS> <pad> <pad> <pad> <pad> <pad> <pad> <pad> <pad> <pad> <pad> <pad> <pad> <pad> <pad> <pad>\n",
      "random num: 1014\n",
      "> i 'm not a super fan of iced - coffee but i did try this after having refrigerated it . i liked it . it did n't have too bitter a flavor and it was n't truly sweetened . i 'd try it again in the future .\n",
      "= good ice - coffe\n",
      "  great coffee <EOS> cup <EOS> <pad> <pad> <pad> <pad> <pad> <pad> <pad> <pad> <pad> <pad> <pad> <pad> <pad> <pad> <pad> <pad> <pad> <pad>\n",
      "\n",
      "Total training loss for epoch 2:\t 523693.86737060547\n",
      "\n",
      "Total validation loss for epoch 2:\t 64614.67475891113\n",
      "Random prediction from training data\n",
      "random num: 3383\n",
      "> it is hard to find much of anything sugarfree that really tastes good but this apple cider is the best .   i also love the regular hot apple cider in sugarfree form .\n",
      "= great hot cider ! ! !\n",
      "  great <EOS> cereal <EOS> <pad> <pad> <EOS> <pad> <pad> <pad> <pad> <pad> <pad> <pad> <pad> <pad> <pad> <pad> <pad> <pad> <pad> <pad> <pad>\n",
      "random num: 6806\n",
      "> hard to find a better mustard . great anywhere especially for dipping . been enjoying it for years . try it , you wo nt be sorry .\n",
      "= this mustard is the best .\n",
      "  great <EOS> <EOS> great best <EOS> <pad> <pad> <pad> <pad> <pad> <pad> <pad> <pad> <pad> <pad> <pad> <pad> <pad> <pad> <pad> <pad> <pad>\n",
      "Random prediction from validation data\n",
      "random num: 1313\n",
      "> in georgia i found the mars bars on the shelves in the ethnic food counters of my local publix store , was so happy that they had started to carry a lot of english products .\n",
      "= favourite candy bar of all time .\n",
      "  great <EOS> <pad> <pad> my <EOS> <pad> <pad> <pad> <pad> <pad> <pad> <pad> <pad> <pad> <pad> <pad> <pad> <pad> <pad> <pad> <pad> <pad>\n",
      "random num: 1665\n",
      "> love the energy ... perfect for working out . not a fan of the carbonated flavors but the non - carbonated all rock . this stuff is amazing -- my wife and i are hooked on it !\n",
      "= not wings ... rockets !\n",
      "  great <EOS> <EOS> <pad> <EOS> <pad> <pad> <pad> <pad> <pad> <pad> <pad> <pad> <pad> <pad> <pad> <pad> <pad> <pad> <pad> <pad> <pad> <pad>\n"
     ]
    },
    {
     "name": "stderr",
     "output_type": "stream",
     "text": [
      "  8%|▊         | 2/25 [03:07<35:41, 93.09s/it]"
     ]
    },
    {
     "name": "stdout",
     "output_type": "stream",
     "text": [
      "\n",
      "Total training loss for epoch 3:\t 469744.4774246216\n",
      "\n",
      "Total validation loss for epoch 3:\t 64847.1137008667\n",
      "Random prediction from training data\n",
      "random num: 22666\n",
      "> the buddy biscuits came in a timely fashion , and are a great product !   thank you for the great service !\n",
      "= great service !\n",
      "  great product <EOS> <pad> <pad> <pad> <pad> <pad> <pad> <pad> <pad> <pad> <pad> <pad> <pad> <pad> <pad> <pad> <pad> <pad> <pad> <pad> <pad>\n",
      "random num: 21559\n",
      "> very healthy and very tasty -- sort of like a better nutella ( which seems much too sweet , once you have tried this ) . artisana products are clearly best of breed . amazon prices are extremely reasonable ( some of the amazon marketplace sellers were twice the price ) .\n",
      "= the absolute best\n",
      "  very tasty <EOS> <EOS> <pad> <pad> <pad> <pad> <pad> <pad> <pad> <pad> <pad> <pad> <pad> <pad> <pad> <pad> <pad> <pad> <pad> <pad> <pad>\n",
      "Random prediction from validation data\n",
      "random num: 1199\n",
      "> thses cooffee pods are extra nice because there is much less plastic and work just as well .   the flovor is nice and bold without being bitter .   i have re - ordered and will continue to do so .\n",
      "= smooth bold flavor\n",
      "  <unk> <EOS> <EOS> <EOS> <pad> <pad> <pad> <pad> <pad> <pad> <pad> <pad> <pad> <pad> <pad> <pad> <pad> <pad> <pad> <pad> <pad> <pad> <pad>\n",
      "random num: 408\n",
      "> i will be a repeat buyer of grove square french vanilla cappuccino . at 54 cents a cup it is worth every penny spent . it has a great french vanilla flavor and is ready in less than two minutes . no complaints here .\n",
      "= love , love , love grove square cappuccino\n",
      "  love this coffee <EOS> great price square cappuccino <EOS> <pad> <pad> <pad> <pad> <pad> <pad> <pad> <pad> <pad> <pad> <pad> <pad> <pad> <pad>\n"
     ]
    },
    {
     "name": "stderr",
     "output_type": "stream",
     "text": [
      " 12%|█▏        | 3/25 [04:42<34:21, 93.73s/it]"
     ]
    },
    {
     "name": "stdout",
     "output_type": "stream",
     "text": [
      "\n",
      "Total training loss for epoch 4:\t 423718.0688171387\n",
      "\n",
      "Total validation loss for epoch 4:\t 65510.29782104492\n",
      "Random prediction from training data\n",
      "random num: 20984\n",
      "> i have used these for years as it makes giving a dog a pill so very easy .   dog thinks it is a treat .\n",
      "= great product for dogs\n",
      "  great product <EOS> dogs <EOS> <pad> <pad> <pad> <pad> <pad> <pad> <pad> <pad> <pad> <pad> <pad> <pad> <pad> <pad> <pad> <pad> <pad> <pad>\n",
      "random num: 9305\n",
      "> i 'm a huge fan of this tea .   it 's tasty and keeps me awake for long hours at work in front of computer screens .   mmmm .   tea .\n",
      "= mmmmm   green tea\n",
      "  great ! tea tea <EOS> <pad> <pad> <pad> <pad> <pad> <pad> <pad> <pad> <pad> <pad> <pad> <pad> <pad> <pad> <pad> <pad> <pad> <pad>\n",
      "Random prediction from validation data\n",
      "random num: 2508\n",
      "> i ordered these a long time ago . still have some packs left . they are great . thought they might come in the box , but it 's the same in terms of the amount . thank you . mark edwards\n",
      "= this is funny to be reviewing this now\n",
      "  great is the ! order afraid <EOS> <pad> <EOS> <pad> <pad> <pad> <pad> <pad> <pad> <pad> <pad> <pad> <pad> <pad> <pad> <pad> <pad>\n",
      "random num: 321\n",
      "> i have a three - year - old celiac who knows more about gf cookies than most adults , and these are his favorite cookies .   i like them too .   they really taste just like regular wafer cookies .   totally worth the cost .\n",
      "= my son 's favorites\n",
      "  love these <EOS> cookie <EOS> <pad> <pad> <pad> <pad> <pad> <pad> <pad> <pad> <pad> <pad> <pad> <pad> <pad> <pad> <pad> <pad> <pad> <pad>\n"
     ]
    },
    {
     "name": "stderr",
     "output_type": "stream",
     "text": [
      " 16%|█▌        | 4/25 [06:16<32:51, 93.89s/it]"
     ]
    },
    {
     "name": "stdout",
     "output_type": "stream",
     "text": [
      "\n",
      "Total training loss for epoch 5:\t 380357.389755249\n",
      "\n",
      "Total validation loss for epoch 5:\t 66096.97994995117\n",
      "Random prediction from training data\n",
      "random num: 6456\n",
      "> i 'm not quite sure what other reviewers were expecting , but i love these . they 're about the size of a bic pen , and perfect to sweeten a cup of tea or just to snack on . i will definitely be ordering these again .\n",
      "= exactly what i was looking for .\n",
      "  exactly what i was looking for ! <EOS> <pad> <pad> <pad> <pad> <pad> <pad> <pad> <pad> <pad> <pad> <pad> <pad> <pad> <pad> <pad>\n",
      "random num: 21242\n",
      "> these are the best tasting pancakes i have ever tried . i wish amazon carried the larger bag . hard to find in regular grocery stores in my small town .\n",
      "= absolutely awesome !\n",
      "  best <EOS> <EOS> <EOS> <pad> <pad> <pad> <pad> <pad> <pad> <pad> <pad> <pad> <pad> <pad> <pad> <pad> <pad> <pad> <pad> <pad> <pad> <pad>\n",
      "Random prediction from validation data\n",
      "random num: 316\n",
      "> the product seems to be helping my older dog with hip and leg issues ... however he hates the taste ... and is nt a picky eater .. i have to add all kinds of \" goodies \" to his food to get him to eat it ... the flavor is the obvious issue .\n",
      "= great product - the dog does nt like the taste\n",
      "  great product <EOS> not best <EOS> n't care <EOS> <pad> <EOS> <pad> <pad> <pad> <pad> <pad> <pad> <pad> <pad> <pad> <pad> <pad> <pad>\n",
      "random num: 2464\n",
      "> these chips have a very unique crunch , and are very tasty . i now buy the variety packs because i like all 6 flavors . the single serve bags yield 1 point , per my weightwatcher afficianado wife .\n",
      "= wow ! this is lo - cal ? ! ?\n",
      "  delicious ! <EOS> is lo <EOS> <pad> <pad> <pad> <EOS> <EOS> <pad> <pad> <pad> <pad> <pad> <pad> <pad> <pad> <pad> <pad> <pad> <pad>\n"
     ]
    },
    {
     "name": "stderr",
     "output_type": "stream",
     "text": [
      " 20%|██        | 5/25 [07:50<31:15, 93.77s/it]"
     ]
    },
    {
     "name": "stdout",
     "output_type": "stream",
     "text": [
      "\n",
      "Total training loss for epoch 6:\t 347427.5221557617\n",
      "\n",
      "Total validation loss for epoch 6:\t 67560.6290550232\n",
      "Random prediction from training data\n",
      "random num: 8464\n",
      "> very quick delivery of very stale gum .   i threw it out it was so bad .   must have been on the shelf for a while where the mice could n't find it .\n",
      "= tasted like 10 year old gum\n",
      "  gum <EOS> <pad> stars - <EOS> <EOS> <pad> <pad> <pad> <pad> <pad> <pad> <pad> <pad> <pad> <pad> <pad> <pad> <pad> <pad> <pad> <pad>\n",
      "random num: 12305\n",
      "> the only treats my cats will eat .   they love them !   wish amazon had more favors since there are so many out there .   would definitely recommend .\n",
      "= picky cats !\n",
      "  picky cats <EOS> <EOS> <pad> <pad> <pad> <pad> <pad> <pad> <pad> <pad> <pad> <pad> <pad> <pad> <pad> <pad> <pad> <pad> <pad> <pad> <pad>\n",
      "Random prediction from validation data\n",
      "random num: 2489\n",
      "> my order was received promptly and the candy was very fresh and sweet .   the quantity was right on time , enough to share and have on hand ,\n",
      "= sweeet ! ! ! !\n",
      "  <unk> <EOS> <EOS> <EOS> <EOS> <EOS> <pad> <pad> <pad> <pad> <pad> <pad> <pad> <pad> <pad> <pad> <pad> <pad> <pad> <pad> <pad> <pad> <pad>\n",
      "random num: 2055\n",
      "> i purchased this product for my sister who has celiac disease .   she seemed to really like the food that we made from it .\n",
      "= gluten free\n",
      "  great free <EOS> <pad> <pad> <pad> <pad> <pad> <pad> <pad> <pad> <pad> <pad> <pad> <pad> <pad> <pad> <pad> <pad> <pad> <pad> <pad> <pad>\n"
     ]
    },
    {
     "name": "stderr",
     "output_type": "stream",
     "text": [
      " 24%|██▍       | 6/25 [09:23<29:41, 93.75s/it]"
     ]
    },
    {
     "name": "stdout",
     "output_type": "stream",
     "text": [
      "\n",
      "Total training loss for epoch 7:\t 322458.492767334\n",
      "\n",
      "Total validation loss for epoch 7:\t 69161.06854248047\n",
      "Random prediction from training data\n",
      "random num: 4069\n",
      "> this water tastes great and does not leave a syrupy sweet aftertaste in your mouth afterwards . very refreshing !\n",
      "= excellent , refreshing drink\n",
      "  great ! and ! <EOS> <pad> <pad> <pad> <pad> <pad> <pad> <pad> <pad> <pad> <pad> <pad> <pad> <pad> <pad> <pad> <pad> <pad> <pad>\n",
      "random num: 18666\n",
      "> this product is excellent with just enough sweetness to satisfy the taste buds .   i love it !\n",
      "= mrs. may 's dry - roasted pumkin crunch\n",
      "  mrs. may 's may 's dry pumkin crunch crunch dried soup <pad> <pad> <pad> <pad> <pad> <pad> <pad> <pad> <pad> <pad> <pad> <pad>\n",
      "Random prediction from validation data\n",
      "random num: 548\n",
      "> my spouse and i love hot and sour soup but this has got to be the worst i 've ever had .\n",
      "= it 's awful !\n",
      "  best was n't eat <EOS> <pad> <pad> <pad> <pad> <pad> <pad> <pad> <pad> <pad> <pad> <pad> <pad> <pad> <pad> <pad> <pad> <pad> <pad>\n",
      "random num: 1507\n",
      "> usually do not get the breakfast blends but it was on sale and decided at price would try it out . it was not as weak as some breakfast blends tend to be . not bad .\n",
      "= on sale\n",
      "  a good <EOS> <pad> <pad> <pad> <pad> <pad> <pad> <pad> <pad> <pad> <pad> <pad> <pad> <pad> <pad> <pad> <pad> <pad> <pad> <pad> <pad>\n"
     ]
    },
    {
     "name": "stderr",
     "output_type": "stream",
     "text": [
      " 28%|██▊       | 7/25 [10:57<28:04, 93.57s/it]"
     ]
    },
    {
     "name": "stdout",
     "output_type": "stream",
     "text": [
      "\n",
      "Total training loss for epoch 8:\t 303681.1928253174\n",
      "\n",
      "Total validation loss for epoch 8:\t 71235.8572845459\n",
      "Random prediction from training data\n",
      "random num: 21444\n",
      "> this tea is so delicious and the package of 10 is perfect for a little gift for someone .\n",
      "= perfect little tea lovers gift\n",
      "  perfect little tea lovers gift <EOS> <pad> <pad> <pad> <pad> <pad> <pad> <pad> <pad> <pad> <pad> <pad> <pad> <pad> <pad> <pad> <pad> <pad>\n",
      "random num: 8829\n",
      "> so far , all the different varieties of kind bars have been excellent , both in quality and variety .   highly recommend them even   though they are rather expensive compared to other bars .   however , they are gluten free so appropriate for those with gluten sensitivities .\n",
      "= kind bars\n",
      "  kind bars bars <pad> <pad> <pad> <pad> <pad> <pad> <pad> <pad> <pad> <pad> <pad> <pad> <pad> <pad> <pad> <pad> <pad> <pad> <pad> <pad>\n",
      "Random prediction from validation data\n",
      "random num: 1686\n",
      "> the purchase experience was great and went off without a hitch .   these snack sticks are convenient , delicious , and very satisfying !\n",
      "= great protein snack !\n",
      "  protein protein snack <EOS> <EOS> <pad> <pad> <pad> <pad> <pad> <pad> <pad> <pad> <pad> <pad> <pad> <pad> <pad> <pad> <pad> <pad> <pad> <pad>\n",
      "random num: 464\n",
      "> a very good product .   makes a nice , quick and healthy snack .   not too salty .   satisfies hunger .   very tasy .\n",
      "= great snack\n",
      "  yum snack <EOS> <pad> <pad> <pad> <pad> <pad> <pad> <pad> <pad> <pad> <pad> <pad> <pad> <pad> <pad> <pad> <pad> <pad> <pad> <pad> <pad>\n"
     ]
    },
    {
     "name": "stderr",
     "output_type": "stream",
     "text": [
      " 32%|███▏      | 8/25 [12:36<26:59, 95.28s/it]"
     ]
    },
    {
     "name": "stdout",
     "output_type": "stream",
     "text": [
      "\n",
      "Total training loss for epoch 9:\t 283746.595664978\n",
      "\n",
      "Total validation loss for epoch 9:\t 71693.82284545898\n",
      "Random prediction from training data\n",
      "random num: 5926\n",
      "> after giving these to my dogs they both developed bloody diarrhea ! i 'm throwing out the box and never buying this product again .\n",
      "= gave my dogs bloody diarrhea !\n",
      "  gave my dogs bloody diarrhea ! <EOS> <pad> <pad> <pad> <pad> <pad> <pad> <pad> <pad> <pad> <pad> <pad> <pad> <pad> <pad> <pad> <pad>\n",
      "random num: 19117\n",
      "> i had to hide the jars of peanut butter as the kids were gobbling it up . need i write more ?\n",
      "= had to hide the jar\n",
      "  had to hide jar jar <EOS> <pad> <pad> <pad> <pad> <pad> <pad> <pad> <pad> <pad> <pad> <pad> <pad> <pad> <pad> <pad> <pad> <pad>\n",
      "Random prediction from validation data\n",
      "random num: 776\n",
      "> for those of you watching your weight this is the way to go . this and diet soda can keep you for one of your meals . definitely a must .\n",
      "= best thing since diet soda\n",
      "  perfect cereal <EOS> <unk> <EOS> <EOS> <pad> <pad> <pad> <pad> <pad> <pad> <pad> <pad> <pad> <pad> <pad> <pad> <pad> <pad> <pad> <pad> <pad>\n",
      "random num: 2008\n",
      "> this is great tea . it smells exactly like a high - quality mint chocolate bar- everyone in the office raves about it when i brew a cup . the taste is closer to mint black tea , but with a nice roundness , almost creamy . no need to add sugar .\n",
      "= how do they do it ?\n",
      "  love this n't go to <EOS> <EOS> <pad> <pad> <pad> <pad> <pad> <pad> <pad> <pad> <pad> <pad> <pad> <pad> <pad> <pad> <pad> <pad>\n"
     ]
    },
    {
     "name": "stderr",
     "output_type": "stream",
     "text": [
      " 36%|███▌      | 9/25 [14:11<25:23, 95.22s/it]"
     ]
    },
    {
     "name": "stdout",
     "output_type": "stream",
     "text": [
      "\n",
      "Total training loss for epoch 10:\t 270195.0401916504\n",
      "\n",
      "Total validation loss for epoch 10:\t 72184.66006469727\n",
      "Random prediction from training data\n",
      "random num: 12637\n",
      "> this is very crispy with a heavy note of sesame , which is why we love it .   i 've never tasted a crisp bread with as much wholesome complexity as this .   enjoy it with a good canola spread , or a yogurt based spread like brum and brummel .\n",
      "= crunching goood\n",
      "  crunching goood <EOS> <pad> <pad> <pad> <pad> <pad> <pad> <pad> <pad> <pad> <pad> <pad> <pad> <pad> <pad> <pad> <pad> <pad> <pad> <pad> <pad>\n",
      "random num: 20716\n",
      "> what can i say ? these things taste amazing . i want them to have a million - piece set.<br /><br />yum\n",
      "= yum\n",
      "  yum yum <EOS> <pad> <pad> <pad> <pad> <pad> <pad> <pad> <pad> <pad> <pad> <pad> <pad> <pad> <pad> <pad> <pad> <pad> <pad> <pad> <pad>\n",
      "Random prediction from validation data\n",
      "random num: 1798\n",
      "> one of the nicest , smoothest cup of chai i 've made . nice mix of spices , largest overtone is the cardamom , but since i do like a half / half of tea with milk or soy milk as my chai drink , this is a good base for me .\n",
      "= chai for the morning\n",
      "  one <EOS> me real <EOS> <pad> <pad> <pad> <pad> <pad> <pad> <pad> <pad> <pad> <pad> <pad> <pad> <pad> <pad> <pad> <pad> <pad> <pad>\n",
      "random num: 544\n",
      "> i have been using this tea as a diet aid for maintaining my weight over the years . i drink this tea daily and i have enjoyed every cup . i hope to continue enjoying using this product for many more years .\n",
      "= great tea , thank you !\n",
      "  best tea tea twinings you tea <EOS> <pad> <pad> <pad> <pad> <pad> <pad> <pad> <pad> <pad> <pad> <pad> <pad> <pad> <pad> <pad> <pad>\n"
     ]
    },
    {
     "name": "stderr",
     "output_type": "stream",
     "text": [
      " 40%|████      | 10/25 [15:46<23:48, 95.23s/it]"
     ]
    },
    {
     "name": "stdout",
     "output_type": "stream",
     "text": [
      "\n",
      "Total training loss for epoch 11:\t 263754.0045776367\n",
      "\n",
      "Total validation loss for epoch 11:\t 71633.41877746582\n",
      "Random prediction from training data\n",
      "random num: 14199\n",
      "> great product , great ingredients , lasts longer if you keep them in the refrigerator . they are going to inhale them at any size so i like them tiny so my golden can get more of them\n",
      "= great product\n",
      "  great product <EOS> <pad> <pad> <pad> <pad> <pad> <pad> <pad> <pad> <pad> <pad> <pad> <pad> <pad> <pad> <pad> <pad> <pad> <pad> <pad> <pad>\n",
      "random num: 3477\n",
      "> i have a 14.5 year dog who is not an eager eater and he loves this food .   if he were n't so old , i would limit the amount he eats .   however , it keeps him happy which makes me happy .\n",
      "= kat\n",
      "  kat <EOS> <pad> <pad> <pad> <pad> <pad> <pad> <pad> <pad> <pad> <pad> <pad> <pad> <pad> <pad> <pad> <pad> <pad> <pad> <pad> <pad> <pad>\n",
      "Random prediction from validation data\n",
      "random num: 526\n",
      "> after trying many different kinds of pasta .... this is almost as good as the wheat pasta that i have used for years ....\n",
      "= darn good\n",
      "  good of deal ! <EOS> <pad> <pad> <pad> <pad> <pad> <pad> <pad> <pad> <pad> <pad> <pad> <pad> <pad> <pad> <pad> <pad> <pad> <pad>\n",
      "random num: 1181\n",
      "> every time i get one out for my dog he ca nt wait to eat it . i 've noticed his teeth are much cleaner and his breathe is great too ! highly recommended .\n",
      "= my german shepherd loves 'em !\n",
      "  my dog loves it <EOS> <pad> <EOS> <pad> <pad> <pad> <pad> <pad> <pad> <pad> <pad> <pad> <pad> <pad> <pad> <pad> <pad> <pad> <pad>\n"
     ]
    },
    {
     "name": "stderr",
     "output_type": "stream",
     "text": [
      " 44%|████▍     | 11/25 [17:20<22:05, 94.67s/it]"
     ]
    },
    {
     "name": "stdout",
     "output_type": "stream",
     "text": [
      "\n",
      "Total training loss for epoch 12:\t 249588.35856628418\n",
      "\n",
      "Total validation loss for epoch 12:\t 74891.52835083008\n",
      "Random prediction from training data\n",
      "random num: 2591\n",
      "> i bought this product and sent it to my daughter that is currently attending college . she was very grateful for the present and said she really likes it .\n",
      "= twisted fruit\n",
      "  great birthday present <pad> <pad> <pad> <pad> <pad> <pad> <pad> <pad> <pad> <pad> <pad> <pad> <pad> <pad> <pad> <pad> <pad> <pad> <pad> <pad>\n",
      "random num: 23\n",
      "> jet black , \" greasy \" beans , very rich and not expensive . i purchase one of these bags every six weeks my family .\n",
      "= perfect for frugal coffee snob\n",
      "  perfect coffee coffee snob snob <EOS> <pad> <pad> <pad> <pad> <pad> <pad> <pad> <pad> <pad> <pad> <pad> <pad> <pad> <pad> <pad> <pad> <pad>\n",
      "Random prediction from validation data\n",
      "random num: 2216\n",
      "> if you like your coffee strong this is the k - cup for you !   i 've tried the ' bold ' coffees from various manufacturers here on amazon and this is the one that wins hands down .   it 's strong , it has a kick but the flavor is still smooth and subtle .\n",
      "= this is it !\n",
      "  bold is it ! <EOS> <pad> <pad> <pad> <pad> <pad> <pad> <pad> <pad> <pad> <pad> <pad> <pad> <pad> <pad> <pad> <pad> <pad> <pad>\n",
      "random num: 256\n",
      "> s a frequent shopper ( and snacker ) of health food stores across the tri - state area i consider myself an expert on healthy snacks .   these are my absolute favorite . i can eat an entire bag in one sitting !\n",
      "= delicious and healthy\n",
      "  great & rice <EOS> <pad> <pad> <pad> <pad> <pad> <pad> <pad> <pad> <pad> <pad> <pad> <pad> <pad> <pad> <pad> <pad> <pad> <pad> <pad>\n"
     ]
    },
    {
     "name": "stderr",
     "output_type": "stream",
     "text": [
      " 48%|████▊     | 12/25 [18:54<20:29, 94.55s/it]"
     ]
    },
    {
     "name": "stdout",
     "output_type": "stream",
     "text": [
      "\n",
      "Total training loss for epoch 13:\t 244241.02485656738\n",
      "\n",
      "Total validation loss for epoch 13:\t 74664.73034667969\n",
      "Random prediction from training data\n",
      "random num: 12577\n",
      "> do n't waste your money on any of the kettle brand potato chips .   i bought a case of these , and a case of the cheddar and sour cream .   both cases ended up in the garbage can .\n",
      "= garbage\n",
      "  garbage <EOS> <pad> <pad> <pad> <pad> <pad> <pad> <pad> <pad> <pad> <pad> <pad> <pad> <pad> <pad> <pad> <pad> <pad> <pad> <pad> <pad> <pad>\n",
      "random num: 20031\n",
      "> if your looking for a good flavored coffee , this is it .   the raspberry flavor stands out .   could use a little more chocolate .   great flavor , excellent price .\n",
      "= excellent\n",
      "  excellent <EOS> <pad> <pad> <pad> <pad> <pad> <pad> <pad> <pad> <pad> <pad> <pad> <pad> <pad> <pad> <pad> <pad> <pad> <pad> <pad> <pad> <pad>\n",
      "Random prediction from validation data\n",
      "random num: 1900\n",
      "> great real coconut young coconut taste . not the usual overwhelming sweet taste seen on other coconut water canned drinks .   good on the environment . made in brazil . even better .   you can really taste the fruit labelled on the product besides the coconut water taste\n",
      "= great taste . nice fruit flavor . serve chilled\n",
      "  best coconut coconut water ! <EOS> <EOS> <EOS> coconut <EOS> <pad> <pad> <pad> <pad> <pad> <pad> <pad> <pad> <pad> <pad> <pad> <pad> <pad>\n",
      "random num: 1760\n",
      "> i was very impressed with how bold this coffee is . this is easily my new favorite early morning brew . bam !\n",
      "= bold is beautiful !\n",
      "  good coffee <EOS> <pad> <pad> <pad> <pad> <pad> <pad> <pad> <pad> <pad> <pad> <pad> <pad> <pad> <pad> <pad> <pad> <pad> <pad> <pad> <pad>\n"
     ]
    },
    {
     "name": "stderr",
     "output_type": "stream",
     "text": [
      " 52%|█████▏    | 13/25 [20:28<18:52, 94.33s/it]"
     ]
    },
    {
     "name": "stdout",
     "output_type": "stream",
     "text": [
      "\n",
      "Total training loss for epoch 14:\t 233668.6689376831\n",
      "\n",
      "Total validation loss for epoch 14:\t 76313.78019714355\n",
      "Random prediction from training data\n",
      "random num: 14043\n",
      "> these chips are really thick.<br />they are starchy and a bit dry.<br />they taste ok , but i wo n't be tying them again .\n",
      "= too thick\n",
      "  too thick <EOS> <pad> <pad> <pad> <pad> <pad> <pad> <pad> <pad> <pad> <pad> <pad> <pad> <pad> <pad> <pad> <pad> <pad> <pad> <pad> <pad>\n",
      "random num: 22055\n",
      "> i love this product .   it is delicious and a great deal .   i saw on the package that i could add some milk with the water and i found it is even more delicious doing that .   these are the best oats .\n",
      "= wonderful and at a great cost\n",
      "  wonderful and cost a cost cost <EOS> <pad> <pad> <pad> <pad> <pad> <pad> <pad> <pad> <pad> <pad> <pad> <pad> <pad> <pad> <pad> <pad>\n",
      "Random prediction from validation data\n",
      "random num: 1228\n",
      "> glutino pretzels ( and pastas ) are the best on the market and taste soooo much like the real thing . i lived 35 years before discovering celiac , i know what the real thing tastes like ! !   they make our gluten free life so much more normal ! !\n",
      "= best on the market\n",
      "  best pretzels <EOS> best <EOS> <pad> <pad> <pad> <pad> <pad> <pad> <pad> <pad> <pad> <pad> <pad> <pad> <pad> <pad> <pad> <pad> <pad> <pad>\n",
      "random num: 1012\n",
      "> this is by far the best choice for a low fat option for peanut butter . the idea of a powdered pb seems odd at first , but once reconstituted with water , it actually has creamy texture . tastewise , i prefer this over any other natural pb on the market .\n",
      "= great taste and texture !\n",
      "  great product <EOS> great <EOS> <pad> <pad> <pad> <pad> <pad> <pad> <pad> <pad> <pad> <pad> <pad> <pad> <pad> <pad> <pad> <pad> <pad> <pad>\n"
     ]
    },
    {
     "name": "stderr",
     "output_type": "stream",
     "text": [
      " 56%|█████▌    | 14/25 [22:01<17:15, 94.11s/it]"
     ]
    },
    {
     "name": "stdout",
     "output_type": "stream",
     "text": [
      "\n",
      "Total training loss for epoch 15:\t 225610.18462371826\n",
      "\n",
      "Total validation loss for epoch 15:\t 77217.52602386475\n",
      "Random prediction from training data\n",
      "random num: 8992\n",
      "> i love this product .   the only suggestion i could make to improve it , would be to allow the customer to select the combination of flavors .\n",
      "= popchips , variety pack\n",
      "  popchips , variety pack <EOS> <pad> <pad> <pad> <pad> <pad> <pad> <pad> <pad> <pad> <pad> <pad> <pad> <pad> <pad> <pad> <pad> <pad> <pad>\n",
      "random num: 11268\n",
      "> i would recommend this aerator to a friend . it works great for white or red wine . buy it and test it for yourself!<br /><br />ordering was simple . i received the item quickly .\n",
      "= what a difference this aerator makes !   use on red or whites !\n",
      "  what a difference aerator makes   aerator makes aerator makes or or whites ! <EOS> <pad> <pad> <pad> <pad> <pad> <pad> <pad> <pad>\n",
      "Random prediction from validation data\n",
      "random num: 1270\n",
      "> when you offer it to someone , they might freak on the name .   but it has a great taste .   one of my favorites .\n",
      "= scary name for good coffee .\n",
      "  love <EOS> <EOS> <pad> <pad> <pad> <pad> <pad> <pad> <pad> <pad> <pad> <pad> <pad> <pad> <pad> <pad> <pad> <pad> <pad> <pad> <pad> <pad>\n",
      "random num: 2348\n",
      "> i have drank this tea for over 30 years and enjoy the fragrance as much as the taste . i have even mixed orange and clove oils to create a perfume . however , i now want to buy constant comment in k pods . they are not available . will they be ?\n",
      "= memorable\n",
      "  great as <pad> <pad> <pad> <pad> <pad> <pad> <pad> <pad> <pad> <pad> <pad> <pad> <pad> <pad> <pad> <pad> <pad> <pad> <pad> <pad> <pad>\n"
     ]
    },
    {
     "name": "stderr",
     "output_type": "stream",
     "text": [
      " 60%|██████    | 15/25 [23:35<15:39, 93.91s/it]"
     ]
    },
    {
     "name": "stdout",
     "output_type": "stream",
     "text": [
      "\n",
      "Total training loss for epoch 16:\t 224459.00075531006\n",
      "\n",
      "Total validation loss for epoch 16:\t 77536.1644744873\n",
      "Random prediction from training data\n",
      "random num: 1748\n",
      "> great coffee at a good price . i 'm a subscription buyer and i buy this month after month . what more can i say ?\n",
      "= morning coffee\n",
      "  morning coffee <EOS> <pad> <pad> <pad> <pad> <pad> <pad> <pad> <pad> <pad> <pad> <pad> <pad> <pad> <pad> <pad> <pad> <pad> <pad> <pad> <pad>\n",
      "random num: 12111\n",
      "> it is a great product , tastes great , my favorites are tri - color and tomato cous cous . i have nothing bad to say about the product .\n",
      "= very good product\n",
      "  great good <EOS> <EOS> <pad> <pad> <pad> <pad> <pad> <pad> <pad> <pad> <pad> <pad> <pad> <pad> <pad> <pad> <pad> <pad> <pad> <pad> <pad>\n",
      "Random prediction from validation data\n",
      "random num: 1663\n",
      "> i am so glad to find the best ketchup in the world available here at amazon . since i moved to the us , i had trouble to find a ketchup similar to this one . now i can enjoy all my meals with this hela ketchup .\n",
      "= yummy\n",
      "  best <EOS> <pad> <pad> <pad> <pad> <pad> <pad> <pad> <pad> <pad> <pad> <pad> <pad> <pad> <pad> <pad> <pad> <pad> <pad> <pad> <pad> <pad>\n",
      "random num: 760\n",
      "> i have looked all over the place for this custard . it is excellant and < br />makes great pies . try it and you will like it < br />pauline\n",
      "= excellant custard\n",
      "  great coffee <EOS> <pad> <pad> <pad> <pad> <pad> <pad> <pad> <pad> <pad> <pad> <pad> <pad> <pad> <pad> <pad> <pad> <pad> <pad> <pad> <pad>\n"
     ]
    },
    {
     "name": "stderr",
     "output_type": "stream",
     "text": [
      " 64%|██████▍   | 16/25 [25:09<14:05, 93.90s/it]"
     ]
    },
    {
     "name": "stdout",
     "output_type": "stream",
     "text": [
      "\n",
      "Total training loss for epoch 17:\t 218298.1936187744\n",
      "\n",
      "Total validation loss for epoch 17:\t 79728.20420837402\n",
      "Random prediction from training data\n",
      "random num: 12436\n",
      "> this tea is hard to find so i bought 6 boxes . when you open the packet , the bag smells exactly like fresh peaches . the taste is not masked by other flavors such as cinnamon . it makes wonderful iced tea .\n",
      "= stash peach tea\n",
      "  stash peach tea <EOS> <pad> <pad> <pad> <pad> <pad> <pad> <pad> <pad> <pad> <pad> <pad> <pad> <pad> <pad> <pad> <pad> <pad> <pad> <pad>\n",
      "random num: 2143\n",
      "> these treats are another favorite for my goldens !   and my friends and neighbors dogs too .   i bought one bag to try and will definitely be ordering again .\n",
      "= yummy and tasty\n",
      "  yummy and yummy <EOS> <pad> <pad> <pad> <pad> <pad> <pad> <pad> <pad> <pad> <pad> <pad> <pad> <pad> <pad> <pad> <pad> <pad> <pad> <pad>\n",
      "Random prediction from validation data\n",
      "random num: 1130\n",
      "> green mountain is a great blend of coffee .   it has a flavor that i like .   we especially enjoy it in our keurig brewer .   this coffee does n't taste weak but has what they call an \" extra bold \" taste . this was a good deal all the way around .\n",
      "= great coffee\n",
      "  good coffee <EOS> <pad> <pad> <pad> <pad> <pad> <pad> <pad> <pad> <pad> <pad> <pad> <pad> <pad> <pad> <pad> <pad> <pad> <pad> <pad> <pad>\n",
      "random num: 1597\n",
      "> for our very first k - cup purchase , these have been terrific !   a great assortment of coffees , teas , and hot chocolates for all tastes and moods .   good price , too !\n",
      "= love these !\n",
      "  * it ! <EOS> <pad> <pad> <pad> <pad> <pad> <pad> <pad> <pad> <pad> <pad> <pad> <pad> <pad> <pad> <pad> <pad> <pad> <pad> <pad>\n"
     ]
    },
    {
     "name": "stderr",
     "output_type": "stream",
     "text": [
      " 68%|██████▊   | 17/25 [26:43<12:31, 93.99s/it]"
     ]
    },
    {
     "name": "stdout",
     "output_type": "stream",
     "text": [
      "\n",
      "Total training loss for epoch 18:\t 215392.62874603271\n",
      "\n",
      "Total validation loss for epoch 18:\t 80727.61303710938\n",
      "Random prediction from training data\n",
      "random num: 22919\n",
      "> it 's tasty , fast to cook and a convenient . the only drawback is that it is a little too rich in calories ( as a lot of indian pilafs can be ) .\n",
      "= tasty yet quick\n",
      "  tasty yet quick <EOS> <pad> <pad> <pad> <pad> <pad> <pad> <pad> <pad> <pad> <pad> <pad> <pad> <pad> <pad> <pad> <pad> <pad> <pad> <pad>\n",
      "random num: 13609\n",
      "> i 've tried other low acid coffee before . this one is bitter tasting no matter how i tried to masked the taste . i would not be ordering this nor recommend this product . luckily , i ordered another product along with this one .\n",
      "= disappointed\n",
      "  disappointed <EOS> <pad> <pad> <pad> <pad> <pad> <pad> <pad> <pad> <pad> <pad> <pad> <pad> <pad> <pad> <pad> <pad> <pad> <pad> <pad> <pad> <pad>\n",
      "Random prediction from validation data\n",
      "random num: 2533\n",
      "> this snack is delicious and healthy .   it 's my daughter 's favorite so i send them to her at college , a box of twelve smaller bags so that she can take them with her anywhere .\n",
      "= bare fruit bake - dried granny smith apple chips\n",
      "  tasty just 's <EOS> <pad> <pad> <pad> 's 's <EOS> <pad> <pad> <pad> <pad> <pad> <pad> <pad> <pad> <pad> <pad> <pad> <pad> <pad>\n",
      "random num: 1501\n",
      "> this is a fantastic product . the honey pearls dissolve and mix in so well ! you 'll never get the honey at the bottom of the mug again . you also do n't have to worry about honey turning to crystals like you do with liquid .\n",
      "= no more slug at the bottom of your mug\n",
      "  best ! ! ! ! best ! ! ! ! <EOS> <pad> <pad> <pad> <pad> <pad> <pad> <pad> <pad> <pad> <pad> <pad> <pad>\n"
     ]
    },
    {
     "name": "stderr",
     "output_type": "stream",
     "text": [
      " 72%|███████▏  | 18/25 [28:17<10:58, 94.01s/it]"
     ]
    },
    {
     "name": "stdout",
     "output_type": "stream",
     "text": [
      "\n",
      "Total training loss for epoch 19:\t 210535.54358673096\n",
      "\n",
      "Total validation loss for epoch 19:\t 80059.4859161377\n",
      "Random prediction from training data\n",
      "random num: 766\n",
      "> this canned salmon is wonderfully tasty . i use it to make salmon cakes . the crown prince brand is one i can usually rely on   being a good product .\n",
      "= salmon\n",
      "  salmon <EOS> <pad> <pad> <pad> <pad> <pad> <pad> <pad> <pad> <pad> <pad> <pad> <pad> <pad> <pad> <pad> <pad> <pad> <pad> <pad> <pad> <pad>\n",
      "random num: 7047\n",
      "> not bad as a pre shampoo i mean it smells like toilet bowl cleaner but it works good !\n",
      "= smells like toilet bowl cleaner\n",
      "  smells like toilet bowl cleaner <EOS> <pad> <pad> <pad> <pad> <pad> <pad> <pad> <pad> <pad> <pad> <pad> <pad> <pad> <pad> <pad> <pad> <pad>\n",
      "Random prediction from validation data\n",
      "random num: 738\n",
      "> this is my favorite hot sauce , such a delicious flavor besides being the perfect amount of heat .   i put it on just about everything !\n",
      "= love this sauce\n",
      "  delicious hot sauce <EOS> <pad> <pad> <pad> <pad> <pad> <pad> <pad> <pad> <pad> <pad> <pad> <pad> <pad> <pad> <pad> <pad> <pad> <pad> <pad>\n",
      "random num: 1017\n",
      "> i do n't know that much about lentils , but these do not taste like the ones i used to buy in india and mauritius , so i 'm disappointed .\n",
      "= red lentils not like india\n",
      "  these licorice taste <EOS> <EOS> <EOS> <pad> <pad> <pad> <pad> <pad> <pad> <pad> <pad> <pad> <pad> <pad> <pad> <pad> <pad> <pad> <pad> <pad>\n"
     ]
    },
    {
     "name": "stderr",
     "output_type": "stream",
     "text": [
      " 76%|███████▌  | 19/25 [29:50<09:23, 93.91s/it]"
     ]
    },
    {
     "name": "stdout",
     "output_type": "stream",
     "text": [
      "\n",
      "Total training loss for epoch 20:\t 208498.36907958984\n",
      "\n",
      "Total validation loss for epoch 20:\t 82291.2283706665\n",
      "Random prediction from training data\n",
      "random num: 20716\n",
      "> what can i say ? these things taste amazing . i want them to have a million - piece set.<br /><br />yum\n",
      "= yum\n",
      "  yum yum <pad> <pad> <pad> <pad> <pad> <pad> <pad> <pad> <pad> <pad> <pad> <pad> <pad> <pad> <pad> <pad> <pad> <pad> <pad> <pad> <pad>\n",
      "random num: 20866\n",
      "> the liquid creamers are the best , but in a pinch or when traveling , the powdered creamers are pretty good . the sugar free vanilla caramel is almost too sweet though .\n",
      "= creamer\n",
      "  creamer <EOS> <pad> <pad> <pad> <pad> <pad> <pad> <pad> <pad> <pad> <pad> <pad> <pad> <pad> <pad> <pad> <pad> <pad> <pad> <pad> <pad> <pad>\n",
      "Random prediction from validation data\n",
      "random num: 957\n",
      "> i almost bought the bigger more common size bubble gum .   glad i double checked measurements .   work great in my vintage 50 's machine .\n",
      "= perfect size for vintage machine\n",
      "  great <EOS> <EOS> the taste ordering <pad> <pad> <pad> <pad> <pad> <pad> <pad> <pad> <pad> <pad> <pad> <pad> <pad> <pad> <pad> <pad> <pad>\n",
      "random num: 477\n",
      "> this product was n't what i expected it was n't spicy at all and did n't have a smokey flavor either it had a super light regular store paprika flavor .\n",
      "= spicy smoked paprika\n",
      "  bad <EOS> hot sauce <EOS> <pad> <pad> <pad> <pad> <pad> <pad> <pad> <pad> <pad> <pad> <pad> <pad> <pad> <pad> <pad> <pad> <pad> <pad>\n"
     ]
    },
    {
     "name": "stderr",
     "output_type": "stream",
     "text": [
      " 80%|████████  | 20/25 [31:25<07:49, 93.97s/it]"
     ]
    },
    {
     "name": "stdout",
     "output_type": "stream",
     "text": [
      "\n",
      "Total training loss for epoch 21:\t 207361.67922210693\n",
      "\n",
      "Total validation loss for epoch 21:\t 81416.30938720703\n",
      "Random prediction from training data\n",
      "random num: 5262\n",
      "> i am not a huge coconut fan , so i was n't excited about trying this , but with one sip it definitely won me over !   the flavor is perfect and is now one of the flavors in our regular rotation .   and it smells so good ! ! !\n",
      "= delicious ! !\n",
      "  fantastic ! ! ! <pad> <pad> <pad> <pad> <pad> <pad> <pad> <pad> <pad> <pad> <pad> <pad> <pad> <pad> <pad> <pad> <pad> <pad> <pad>\n",
      "random num: 11682\n",
      "> i have always enjoyed this product and routinely order it from amazon .   thank you for stocking < br />it , for it is hard to find .\n",
      "= lavazza crema e gusto\n",
      "  lavazza crema e gusto <EOS> <pad> <pad> <pad> <pad> <pad> <pad> <pad> <pad> <pad> <pad> <pad> <pad> <pad> <pad> <pad> <pad> <pad> <pad>\n",
      "Random prediction from validation data\n",
      "random num: 2341\n",
      "> mmmm !   it is unhealthy and very tasty !   i recommend to eat all 5 + lb of candy all at once ! om nom nom nom ...\n",
      "= mmmm ...\n",
      "  i ! <EOS> <pad> <pad> <pad> <pad> <pad> <pad> <pad> <pad> <pad> <pad> <pad> <pad> <pad> <pad> <pad> <pad> <pad> <pad> <pad> <pad>\n",
      "random num: 2272\n",
      "> i am shocked at the star ratings this coffee has . i suppose it 's not for everyone . me , personally , i love it . it 's the epitome of fall . now all i need is the hot apple cider k - cup and all will be right in this world .\n",
      "= a must have for pumpkin lovers !\n",
      "  not as be not my <EOS> <EOS> <pad> <pad> <pad> <pad> <pad> <pad> <pad> <pad> <pad> <pad> <pad> <pad> <pad> <pad> <pad> <pad>\n"
     ]
    },
    {
     "name": "stderr",
     "output_type": "stream",
     "text": [
      " 84%|████████▍ | 21/25 [32:58<06:15, 93.82s/it]"
     ]
    },
    {
     "name": "stdout",
     "output_type": "stream",
     "text": [
      "\n",
      "Total training loss for epoch 22:\t 200719.77474594116\n",
      "\n",
      "Total validation loss for epoch 22:\t 81353.27043151855\n",
      "Random prediction from training data\n",
      "random num: 8857\n",
      "> this is my new addiction . it is delightful . if you like dark chocolate , drink it plain . if you prefer sweeter chocolates , doll it up with sugar and cream . it is heavenly .\n",
      "= absolutely perfect\n",
      "  wonderful ! <EOS> <pad> <pad> <pad> <pad> <pad> <pad> <pad> <pad> <pad> <pad> <pad> <pad> <pad> <pad> <pad> <pad> <pad> <pad> <pad> <pad>\n",
      "random num: 3736\n",
      "> this is by far the best tasting low carb , low sugar high whey protein bar ever had . i recommend it . it 's healthier to snack on this , especially if you get chocolate cravings often . very light and gives you a quick fill .\n",
      "= best tasting protein bar\n",
      "  best tasting protein bar <EOS> <pad> <pad> <pad> <pad> <pad> <pad> <pad> <pad> <pad> <pad> <pad> <pad> <pad> <pad> <pad> <pad> <pad> <pad>\n",
      "Random prediction from validation data\n",
      "random num: 2178\n",
      "> awesome product , really does help with a round of golf or getting home project done!<br />works pretty quick and you can take half now and half in about an hour or so for a quick boost .\n",
      "= pomegranate tastes like liquid cotton candy !\n",
      "  pomegranate tastes liquid cotton cotton candy ! <EOS> <pad> <pad> <pad> <pad> <pad> <pad> <pad> <pad> <pad> <pad> <pad> <pad> <pad> <pad> <pad>\n",
      "random num: 2302\n",
      "> i am glad to have gluten - free rolled oats to eat . i would very much like to have steel cut gluten - free oats , perhaps cream hill estates will produce that some day .\n",
      "= good real food\n",
      "  great free meat <EOS> <pad> <pad> <pad> <pad> <pad> <pad> <pad> <pad> <pad> <pad> <pad> <pad> <pad> <pad> <pad> <pad> <pad> <pad> <pad>\n"
     ]
    },
    {
     "name": "stderr",
     "output_type": "stream",
     "text": [
      " 88%|████████▊ | 22/25 [34:32<04:41, 93.87s/it]"
     ]
    },
    {
     "name": "stdout",
     "output_type": "stream",
     "text": [
      "\n",
      "Total training loss for epoch 23:\t 202869.3404197693\n",
      "\n",
      "Total validation loss for epoch 23:\t 82874.28813171387\n",
      "Random prediction from training data\n",
      "random num: 3936\n",
      "> they seem to like tbis , and it does not give indigestion to my cat who has food allergies .   however , they seem to prefer the chicken florentine flavor .\n",
      "= finicky cats willing to eat this .\n",
      "  finicky cats willing to eat this . <EOS> <pad> <pad> <pad> <pad> <pad> <pad> <pad> <pad> <pad> <pad> <pad> <pad> <pad> <pad> <pad>\n",
      "random num: 2921\n",
      "> beware ! it 's easy to get hooked on this honey . it has turned me into a honey snob , and i think i 'll be buying it for life . i love to pop the lid and inhale deeply -- smells like a field of wildflowers .\n",
      "= best honey i 've had\n",
      "  best honey i 've had <EOS> <pad> <pad> <pad> <pad> <pad> <pad> <pad> <pad> <pad> <pad> <pad> <pad> <pad> <pad> <pad> <pad> <pad>\n",
      "Random prediction from validation data\n",
      "random num: 1358\n",
      "> i ordered this and i recieved one bully stick . not one box of bully sticks - just one individual bully stick.<br />bummer!<br /><br />and i just called to return it and they want me to pay for the postage ! ! ! ! no way ! ! !\n",
      "= do not order this~\n",
      "  very delivery buy this this one <pad> <pad> <pad> <pad> <pad> <pad> <pad> <pad> <pad> <pad> <pad> <pad> <pad> <pad> <pad> <pad> <pad>\n",
      "random num: 166\n",
      "> we love this orange and actually prefer it to store or name brand orange soda .   it has a nice , bright orange taste with a tart finish and is our favorite flavor of all the mixes .\n",
      "= better than name brand\n",
      "  great packaging <EOS> <EOS> <pad> <pad> <pad> <pad> <pad> <pad> <pad> <pad> <pad> <pad> <pad> <pad> <pad> <pad> <pad> <pad> <pad> <pad> <pad>\n"
     ]
    },
    {
     "name": "stderr",
     "output_type": "stream",
     "text": [
      " 92%|█████████▏| 23/25 [36:06<03:08, 94.03s/it]"
     ]
    },
    {
     "name": "stdout",
     "output_type": "stream",
     "text": [
      "\n",
      "Total training loss for epoch 24:\t 198280.0610961914\n",
      "\n",
      "Total validation loss for epoch 24:\t 85380.07734680176\n",
      "Random prediction from training data\n",
      "random num: 3682\n",
      "> this stuff is simular to flavored coffee mate ( the power kind ) , yet it rivals it , and some of the other private brand verions .\n",
      "= simular to flavored coffee mate .\n",
      "  simular to flavored mate mate . <EOS> <pad> <pad> <pad> <pad> <pad> <pad> <pad> <pad> <pad> <pad> <pad> <pad> <pad> <pad> <pad> <pad>\n",
      "random num: 4122\n",
      "> i purchased this for my girlfriend who loved this stuff over the xmas period . now she has a supply which should last several months .\n",
      "= best hot chocolate ever\n",
      "  best hot chocolate ever <EOS> <pad> <pad> <pad> <pad> <pad> <pad> <pad> <pad> <pad> <pad> <pad> <pad> <pad> <pad> <pad> <pad> <pad> <pad>\n",
      "Random prediction from validation data\n",
      "random num: 797\n",
      "> my husband 's favorite biscuit ( cookie ) with tea . plain but tasty . hard to find in america .\n",
      "= mcvities digestive 400 g 3 pack\n",
      "  a for tea <EOS> <pad> <pad> <pad> <pad> <pad> <pad> <pad> <pad> <pad> <pad> <pad> <pad> <pad> <pad> <pad> <pad> <pad> <pad> <pad>\n",
      "random num: 2373\n",
      "> i have given this bone to several different breeds and sizes of dogs and it is a major hit ! and i do n't worry about them choking on it as you do with rawhides . love this product and will buy more !\n",
      "= dogs love\n",
      "  dogs love this stuff ! <EOS> <pad> <pad> <pad> <pad> <pad> <pad> <pad> <pad> <pad> <pad> <pad> <pad> <pad> <pad> <pad> <pad> <pad>\n"
     ]
    },
    {
     "name": "stderr",
     "output_type": "stream",
     "text": [
      " 96%|█████████▌| 24/25 [37:40<01:33, 93.94s/it]"
     ]
    },
    {
     "name": "stdout",
     "output_type": "stream",
     "text": [
      "\n",
      "Total training loss for epoch 25:\t 199489.60291290283\n",
      "\n",
      "Total validation loss for epoch 25:\t 84598.98159790039\n",
      "Random prediction from training data\n",
      "random num: 1476\n",
      "> we love to grind freah beans and this brand is always great . stands on its own as flavorful and strong , plus we mix it with flavors . always delivered fresh !\n",
      "= fresh and strong\n",
      "  fresh and strong ! <EOS> <pad> <pad> <pad> <pad> <pad> <pad> <pad> <pad> <pad> <pad> <pad> <pad> <pad> <pad> <pad> <pad> <pad> <pad>\n",
      "random num: 21939\n",
      "> great baby foods !   i like the variety pack .   much cheaper than buying it from the local grocers or co - op !   i just wish they came in the squeezie pouches !\n",
      "= yum !\n",
      "  yum ! <EOS> <pad> <pad> <pad> <pad> <pad> <pad> <pad> <pad> <pad> <pad> <pad> <pad> <pad> <pad> <pad> <pad> <pad> <pad> <pad> <pad>\n",
      "Random prediction from validation data\n",
      "random num: 962\n",
      "> shame on the company that bought the name and put it on this stuff made with artifical flavors , mono and di - glycerides , and egg albumin - this soft mushy stuff is nothing like the original bonomo turkish taffy - do n't waste your time or money .\n",
      "= this is nothing like the original turkish taffy\n",
      "  i , , , and taste i ordered not <pad> <pad> <pad> <pad> <pad> <pad> <pad> <pad> <pad> <pad> <pad> <pad> <pad> <pad>\n",
      "random num: 1841\n",
      "> i sent this coffee to friends back east .   they enjoyed receiving it and said it was delicious .\n",
      "= coffee gifts\n",
      "  great coffee <EOS> <pad> <pad> <pad> <pad> <pad> <pad> <pad> <pad> <pad> <pad> <pad> <pad> <pad> <pad> <pad> <pad> <pad> <pad> <pad> <pad>\n"
     ]
    },
    {
     "name": "stderr",
     "output_type": "stream",
     "text": [
      "100%|██████████| 25/25 [39:14<00:00, 94.16s/it]\n"
     ]
    }
   ],
   "source": [
    "from torch.utils.tensorboard import SummaryWriter\n",
    "\n",
    "path = \n",
    "writer = SummaryWriter(\"runs/\"))\n",
    "\n",
    "criterion = nn.CrossEntropyLoss(ignore_index=1)\n",
    "optimizer = optim.Adam(model.parameters())\n",
    "\n",
    "\n",
    "def loss_fun(predictions, target, target_lens, reduction=torch.sum):\n",
    "    \"\"\"\n",
    "\n",
    "        :param predictions: [B, T, C]\n",
    "        :param target: [B, T]\n",
    "        :param target_lens: [B]\n",
    "\n",
    "        :return: loss: [B]\n",
    "\n",
    "    \"\"\"\n",
    "    assert len(predictions) == len(target) == len(target_lens)\n",
    "    \n",
    "    # Create mask\n",
    "    bs, max_len = target.size()\n",
    "    mask = torch.zeros(bs, max_len)\n",
    "    for i in range(bs):\n",
    "        #         print(i, target_lens[i].item(), max_len)\n",
    "        #         print(mask)\n",
    "        mask[i, :target_lens[i].item()] = 1\n",
    "    \n",
    "    # Remove SOS and reshape\n",
    "    predictions = predictions[:, 1:, :].reshape(-1, predictions.size(2)) # [B*(T-1), C]\n",
    "    target = target[:, 1:].reshape(-1) # [B*(T-1)]\n",
    "    mask = mask[:, 1:].reshape(-1)  # [B*(T-1)]\n",
    "    \n",
    "    # Count total sequences (excluding masked positions)\n",
    "    assert len(predictions) == len(target) == len(mask)\n",
    "    #     n = len(predictions)\n",
    "    n = sum(mask).item()\n",
    "    \n",
    "    prob_correct_seqs = torch.gather(predictions, dim=1, index=target.unsqueeze(1)).cpu()\n",
    "    # print(prob_correct_seqs)\n",
    "    \n",
    "    # Calculate NLL (do before mask to avoid inf if zero used for mask)\n",
    "    prob_correct_seqs = prob_correct_seqs\n",
    "    nll = -torch.log(prob_correct_seqs) \n",
    "    #     print(nll)\n",
    "    \n",
    "    # Reduce nll loss across batch filtered with mask\n",
    "    loss = reduction(nll * mask)\n",
    "    #     print(f\"Loss before: {loss}; and averaged loss over {n} samples: {loss / n}\")\n",
    "    \n",
    "    return loss / n\n",
    "    \n",
    "\n",
    "for epoch in tqdm(range(1, (config.get(\"epochs\") + 1))):\n",
    "    train_loss = train(model, train_iter, criterion, optimizer, epoch, loss_fun)\n",
    "    dev_loss = eval(model, val_iter, criterion, epoch, loss_fun)\n",
    "    \n",
    "    print(f\"\\nTotal training loss for epoch {epoch}:\\t {train_loss}\")\n",
    "    print(f\"\\nTotal validation loss for epoch {epoch}:\\t {dev_loss}\")\n",
    "\n",
    "    print(\"Random prediction from training data\")\n",
    "    random_eval(model, train_data, 2)\n",
    "    print(\"Random prediction from validation data\")\n",
    "    random_eval(model, val_data, 2)\n",
    "\n",
    "    path = \"models/model-half.pt\"\n",
    "    torch.save(model, path)\n"
   ]
  },
  {
   "cell_type": "code",
   "execution_count": 670,
   "metadata": {
    "collapsed": false,
    "jupyter": {
     "outputs_hidden": false
    },
    "pycharm": {
     "name": "#%%\n"
    }
   },
   "outputs": [
    {
     "name": "stderr",
     "output_type": "stream",
     "text": [
      "  4%|▍         | 1/25 [01:32<36:55, 92.30s/it]"
     ]
    },
    {
     "name": "stdout",
     "output_type": "stream",
     "text": [
      "\n",
      "Total training loss for epoch 1:\t 585288.2017669678\n",
      "\n",
      "Total validation loss for epoch 1:\t 65749.14768981934\n",
      "Random prediction from training data\n",
      "random num: 9482\n",
      "> well i purchased this item to give away at trade shows my company attend . while i was expecting a bucket of 3 different flavors . i received a bucket of the original flavor . as i chatted with a rep from amazon.com , he basically told me that your out of luck .\n",
      "= no as advertised\n",
      "  <unk> <EOS> <unk> <EOS> <pad> <pad> <pad> <pad> <pad> <pad> <pad> <pad> <pad> <pad> <pad> <pad> <pad> <pad> <pad> <pad> <pad> <pad> <pad>\n",
      "random num: 10482\n",
      "> i highly recommend the english breakfast black tea . i 'm not real big on tea most of the time but i give this one 5 stars . do n't be shy and try it .\n",
      "= celestial seasonings devonshire english breakfast black tea\n",
      "  twinings tea tea tea <EOS> tea tea <EOS> <pad> <pad> <pad> <pad> <pad> <pad> <pad> <pad> <pad> <pad> <pad> <pad> <pad> <pad> <pad>\n",
      "Random prediction from validation data\n",
      "random num: 530\n",
      "> i sent these to my son ,   working on the midnight shift . he loves them ! thanks for such a great tasting brew ! he said he drinks one a night and they are just right !\n",
      "= fantastic ! just right for the midnight shift\n",
      "  great ! <EOS> like the the ! <EOS> <pad> <pad> <pad> <pad> <pad> <pad> <pad> <pad> <pad> <pad> <pad> <pad> <pad> <pad> <pad>\n",
      "random num: 1014\n",
      "> i 'm not a super fan of iced - coffee but i did try this after having refrigerated it . i liked it . it did n't have too bitter a flavor and it was n't truly sweetened . i 'd try it again in the future .\n",
      "= good ice - coffe\n",
      "  great coffee <EOS> cup <EOS> <pad> <pad> <pad> <pad> <pad> <pad> <pad> <pad> <pad> <pad> <pad> <pad> <pad> <pad> <pad> <pad> <pad> <pad>\n",
      "\n",
      "Total training loss for epoch 2:\t 523693.86737060547\n",
      "\n",
      "Total validation loss for epoch 2:\t 64614.67475891113\n",
      "Random prediction from training data\n",
      "random num: 3383\n",
      "> it is hard to find much of anything sugarfree that really tastes good but this apple cider is the best .   i also love the regular hot apple cider in sugarfree form .\n",
      "= great hot cider ! ! !\n",
      "  great <EOS> cereal <EOS> <pad> <pad> <EOS> <pad> <pad> <pad> <pad> <pad> <pad> <pad> <pad> <pad> <pad> <pad> <pad> <pad> <pad> <pad> <pad>\n",
      "random num: 6806\n",
      "> hard to find a better mustard . great anywhere especially for dipping . been enjoying it for years . try it , you wo nt be sorry .\n",
      "= this mustard is the best .\n",
      "  great <EOS> <EOS> great best <EOS> <pad> <pad> <pad> <pad> <pad> <pad> <pad> <pad> <pad> <pad> <pad> <pad> <pad> <pad> <pad> <pad> <pad>\n",
      "Random prediction from validation data\n",
      "random num: 1313\n",
      "> in georgia i found the mars bars on the shelves in the ethnic food counters of my local publix store , was so happy that they had started to carry a lot of english products .\n",
      "= favourite candy bar of all time .\n",
      "  great <EOS> <pad> <pad> my <EOS> <pad> <pad> <pad> <pad> <pad> <pad> <pad> <pad> <pad> <pad> <pad> <pad> <pad> <pad> <pad> <pad> <pad>\n",
      "random num: 1665\n",
      "> love the energy ... perfect for working out . not a fan of the carbonated flavors but the non - carbonated all rock . this stuff is amazing -- my wife and i are hooked on it !\n",
      "= not wings ... rockets !\n",
      "  great <EOS> <EOS> <pad> <EOS> <pad> <pad> <pad> <pad> <pad> <pad> <pad> <pad> <pad> <pad> <pad> <pad> <pad> <pad> <pad> <pad> <pad> <pad>\n"
     ]
    },
    {
     "name": "stderr",
     "output_type": "stream",
     "text": [
      "  8%|▊         | 2/25 [03:07<35:41, 93.09s/it]"
     ]
    },
    {
     "name": "stdout",
     "output_type": "stream",
     "text": [
      "\n",
      "Total training loss for epoch 3:\t 469744.4774246216\n",
      "\n",
      "Total validation loss for epoch 3:\t 64847.1137008667\n",
      "Random prediction from training data\n",
      "random num: 22666\n",
      "> the buddy biscuits came in a timely fashion , and are a great product !   thank you for the great service !\n",
      "= great service !\n",
      "  great product <EOS> <pad> <pad> <pad> <pad> <pad> <pad> <pad> <pad> <pad> <pad> <pad> <pad> <pad> <pad> <pad> <pad> <pad> <pad> <pad> <pad>\n",
      "random num: 21559\n",
      "> very healthy and very tasty -- sort of like a better nutella ( which seems much too sweet , once you have tried this ) . artisana products are clearly best of breed . amazon prices are extremely reasonable ( some of the amazon marketplace sellers were twice the price ) .\n",
      "= the absolute best\n",
      "  very tasty <EOS> <EOS> <pad> <pad> <pad> <pad> <pad> <pad> <pad> <pad> <pad> <pad> <pad> <pad> <pad> <pad> <pad> <pad> <pad> <pad> <pad>\n",
      "Random prediction from validation data\n",
      "random num: 1199\n",
      "> thses cooffee pods are extra nice because there is much less plastic and work just as well .   the flovor is nice and bold without being bitter .   i have re - ordered and will continue to do so .\n",
      "= smooth bold flavor\n",
      "  <unk> <EOS> <EOS> <EOS> <pad> <pad> <pad> <pad> <pad> <pad> <pad> <pad> <pad> <pad> <pad> <pad> <pad> <pad> <pad> <pad> <pad> <pad> <pad>\n",
      "random num: 408\n",
      "> i will be a repeat buyer of grove square french vanilla cappuccino . at 54 cents a cup it is worth every penny spent . it has a great french vanilla flavor and is ready in less than two minutes . no complaints here .\n",
      "= love , love , love grove square cappuccino\n",
      "  love this coffee <EOS> great price square cappuccino <EOS> <pad> <pad> <pad> <pad> <pad> <pad> <pad> <pad> <pad> <pad> <pad> <pad> <pad> <pad>\n"
     ]
    },
    {
     "name": "stderr",
     "output_type": "stream",
     "text": [
      " 12%|█▏        | 3/25 [04:42<34:21, 93.73s/it]"
     ]
    },
    {
     "name": "stdout",
     "output_type": "stream",
     "text": [
      "\n",
      "Total training loss for epoch 4:\t 423718.0688171387\n",
      "\n",
      "Total validation loss for epoch 4:\t 65510.29782104492\n",
      "Random prediction from training data\n",
      "random num: 20984\n",
      "> i have used these for years as it makes giving a dog a pill so very easy .   dog thinks it is a treat .\n",
      "= great product for dogs\n",
      "  great product <EOS> dogs <EOS> <pad> <pad> <pad> <pad> <pad> <pad> <pad> <pad> <pad> <pad> <pad> <pad> <pad> <pad> <pad> <pad> <pad> <pad>\n",
      "random num: 9305\n",
      "> i 'm a huge fan of this tea .   it 's tasty and keeps me awake for long hours at work in front of computer screens .   mmmm .   tea .\n",
      "= mmmmm   green tea\n",
      "  great ! tea tea <EOS> <pad> <pad> <pad> <pad> <pad> <pad> <pad> <pad> <pad> <pad> <pad> <pad> <pad> <pad> <pad> <pad> <pad> <pad>\n",
      "Random prediction from validation data\n",
      "random num: 2508\n",
      "> i ordered these a long time ago . still have some packs left . they are great . thought they might come in the box , but it 's the same in terms of the amount . thank you . mark edwards\n",
      "= this is funny to be reviewing this now\n",
      "  great is the ! order afraid <EOS> <pad> <EOS> <pad> <pad> <pad> <pad> <pad> <pad> <pad> <pad> <pad> <pad> <pad> <pad> <pad> <pad>\n",
      "random num: 321\n",
      "> i have a three - year - old celiac who knows more about gf cookies than most adults , and these are his favorite cookies .   i like them too .   they really taste just like regular wafer cookies .   totally worth the cost .\n",
      "= my son 's favorites\n",
      "  love these <EOS> cookie <EOS> <pad> <pad> <pad> <pad> <pad> <pad> <pad> <pad> <pad> <pad> <pad> <pad> <pad> <pad> <pad> <pad> <pad> <pad>\n"
     ]
    },
    {
     "name": "stderr",
     "output_type": "stream",
     "text": [
      " 16%|█▌        | 4/25 [06:16<32:51, 93.89s/it]"
     ]
    },
    {
     "name": "stdout",
     "output_type": "stream",
     "text": [
      "\n",
      "Total training loss for epoch 5:\t 380357.389755249\n",
      "\n",
      "Total validation loss for epoch 5:\t 66096.97994995117\n",
      "Random prediction from training data\n",
      "random num: 6456\n",
      "> i 'm not quite sure what other reviewers were expecting , but i love these . they 're about the size of a bic pen , and perfect to sweeten a cup of tea or just to snack on . i will definitely be ordering these again .\n",
      "= exactly what i was looking for .\n",
      "  exactly what i was looking for ! <EOS> <pad> <pad> <pad> <pad> <pad> <pad> <pad> <pad> <pad> <pad> <pad> <pad> <pad> <pad> <pad>\n",
      "random num: 21242\n",
      "> these are the best tasting pancakes i have ever tried . i wish amazon carried the larger bag . hard to find in regular grocery stores in my small town .\n",
      "= absolutely awesome !\n",
      "  best <EOS> <EOS> <EOS> <pad> <pad> <pad> <pad> <pad> <pad> <pad> <pad> <pad> <pad> <pad> <pad> <pad> <pad> <pad> <pad> <pad> <pad> <pad>\n",
      "Random prediction from validation data\n",
      "random num: 316\n",
      "> the product seems to be helping my older dog with hip and leg issues ... however he hates the taste ... and is nt a picky eater .. i have to add all kinds of \" goodies \" to his food to get him to eat it ... the flavor is the obvious issue .\n",
      "= great product - the dog does nt like the taste\n",
      "  great product <EOS> not best <EOS> n't care <EOS> <pad> <EOS> <pad> <pad> <pad> <pad> <pad> <pad> <pad> <pad> <pad> <pad> <pad> <pad>\n",
      "random num: 2464\n",
      "> these chips have a very unique crunch , and are very tasty . i now buy the variety packs because i like all 6 flavors . the single serve bags yield 1 point , per my weightwatcher afficianado wife .\n",
      "= wow ! this is lo - cal ? ! ?\n",
      "  delicious ! <EOS> is lo <EOS> <pad> <pad> <pad> <EOS> <EOS> <pad> <pad> <pad> <pad> <pad> <pad> <pad> <pad> <pad> <pad> <pad> <pad>\n"
     ]
    },
    {
     "name": "stderr",
     "output_type": "stream",
     "text": [
      " 20%|██        | 5/25 [07:50<31:15, 93.77s/it]"
     ]
    },
    {
     "name": "stdout",
     "output_type": "stream",
     "text": [
      "\n",
      "Total training loss for epoch 6:\t 347427.5221557617\n",
      "\n",
      "Total validation loss for epoch 6:\t 67560.6290550232\n",
      "Random prediction from training data\n",
      "random num: 8464\n",
      "> very quick delivery of very stale gum .   i threw it out it was so bad .   must have been on the shelf for a while where the mice could n't find it .\n",
      "= tasted like 10 year old gum\n",
      "  gum <EOS> <pad> stars - <EOS> <EOS> <pad> <pad> <pad> <pad> <pad> <pad> <pad> <pad> <pad> <pad> <pad> <pad> <pad> <pad> <pad> <pad>\n",
      "random num: 12305\n",
      "> the only treats my cats will eat .   they love them !   wish amazon had more favors since there are so many out there .   would definitely recommend .\n",
      "= picky cats !\n",
      "  picky cats <EOS> <EOS> <pad> <pad> <pad> <pad> <pad> <pad> <pad> <pad> <pad> <pad> <pad> <pad> <pad> <pad> <pad> <pad> <pad> <pad> <pad>\n",
      "Random prediction from validation data\n",
      "random num: 2489\n",
      "> my order was received promptly and the candy was very fresh and sweet .   the quantity was right on time , enough to share and have on hand ,\n",
      "= sweeet ! ! ! !\n",
      "  <unk> <EOS> <EOS> <EOS> <EOS> <EOS> <pad> <pad> <pad> <pad> <pad> <pad> <pad> <pad> <pad> <pad> <pad> <pad> <pad> <pad> <pad> <pad> <pad>\n",
      "random num: 2055\n",
      "> i purchased this product for my sister who has celiac disease .   she seemed to really like the food that we made from it .\n",
      "= gluten free\n",
      "  great free <EOS> <pad> <pad> <pad> <pad> <pad> <pad> <pad> <pad> <pad> <pad> <pad> <pad> <pad> <pad> <pad> <pad> <pad> <pad> <pad> <pad>\n"
     ]
    },
    {
     "name": "stderr",
     "output_type": "stream",
     "text": [
      " 24%|██▍       | 6/25 [09:23<29:41, 93.75s/it]"
     ]
    },
    {
     "name": "stdout",
     "output_type": "stream",
     "text": [
      "\n",
      "Total training loss for epoch 7:\t 322458.492767334\n",
      "\n",
      "Total validation loss for epoch 7:\t 69161.06854248047\n",
      "Random prediction from training data\n",
      "random num: 4069\n",
      "> this water tastes great and does not leave a syrupy sweet aftertaste in your mouth afterwards . very refreshing !\n",
      "= excellent , refreshing drink\n",
      "  great ! and ! <EOS> <pad> <pad> <pad> <pad> <pad> <pad> <pad> <pad> <pad> <pad> <pad> <pad> <pad> <pad> <pad> <pad> <pad> <pad>\n",
      "random num: 18666\n",
      "> this product is excellent with just enough sweetness to satisfy the taste buds .   i love it !\n",
      "= mrs. may 's dry - roasted pumkin crunch\n",
      "  mrs. may 's may 's dry pumkin crunch crunch dried soup <pad> <pad> <pad> <pad> <pad> <pad> <pad> <pad> <pad> <pad> <pad> <pad>\n",
      "Random prediction from validation data\n",
      "random num: 548\n",
      "> my spouse and i love hot and sour soup but this has got to be the worst i 've ever had .\n",
      "= it 's awful !\n",
      "  best was n't eat <EOS> <pad> <pad> <pad> <pad> <pad> <pad> <pad> <pad> <pad> <pad> <pad> <pad> <pad> <pad> <pad> <pad> <pad> <pad>\n",
      "random num: 1507\n",
      "> usually do not get the breakfast blends but it was on sale and decided at price would try it out . it was not as weak as some breakfast blends tend to be . not bad .\n",
      "= on sale\n",
      "  a good <EOS> <pad> <pad> <pad> <pad> <pad> <pad> <pad> <pad> <pad> <pad> <pad> <pad> <pad> <pad> <pad> <pad> <pad> <pad> <pad> <pad>\n"
     ]
    },
    {
     "name": "stderr",
     "output_type": "stream",
     "text": [
      " 28%|██▊       | 7/25 [10:57<28:04, 93.57s/it]"
     ]
    },
    {
     "name": "stdout",
     "output_type": "stream",
     "text": [
      "\n",
      "Total training loss for epoch 8:\t 303681.1928253174\n",
      "\n",
      "Total validation loss for epoch 8:\t 71235.8572845459\n",
      "Random prediction from training data\n",
      "random num: 21444\n",
      "> this tea is so delicious and the package of 10 is perfect for a little gift for someone .\n",
      "= perfect little tea lovers gift\n",
      "  perfect little tea lovers gift <EOS> <pad> <pad> <pad> <pad> <pad> <pad> <pad> <pad> <pad> <pad> <pad> <pad> <pad> <pad> <pad> <pad> <pad>\n",
      "random num: 8829\n",
      "> so far , all the different varieties of kind bars have been excellent , both in quality and variety .   highly recommend them even   though they are rather expensive compared to other bars .   however , they are gluten free so appropriate for those with gluten sensitivities .\n",
      "= kind bars\n",
      "  kind bars bars <pad> <pad> <pad> <pad> <pad> <pad> <pad> <pad> <pad> <pad> <pad> <pad> <pad> <pad> <pad> <pad> <pad> <pad> <pad> <pad>\n",
      "Random prediction from validation data\n",
      "random num: 1686\n",
      "> the purchase experience was great and went off without a hitch .   these snack sticks are convenient , delicious , and very satisfying !\n",
      "= great protein snack !\n",
      "  protein protein snack <EOS> <EOS> <pad> <pad> <pad> <pad> <pad> <pad> <pad> <pad> <pad> <pad> <pad> <pad> <pad> <pad> <pad> <pad> <pad> <pad>\n",
      "random num: 464\n",
      "> a very good product .   makes a nice , quick and healthy snack .   not too salty .   satisfies hunger .   very tasy .\n",
      "= great snack\n",
      "  yum snack <EOS> <pad> <pad> <pad> <pad> <pad> <pad> <pad> <pad> <pad> <pad> <pad> <pad> <pad> <pad> <pad> <pad> <pad> <pad> <pad> <pad>\n"
     ]
    },
    {
     "name": "stderr",
     "output_type": "stream",
     "text": [
      " 32%|███▏      | 8/25 [12:36<26:59, 95.28s/it]"
     ]
    },
    {
     "name": "stdout",
     "output_type": "stream",
     "text": [
      "\n",
      "Total training loss for epoch 9:\t 283746.595664978\n",
      "\n",
      "Total validation loss for epoch 9:\t 71693.82284545898\n",
      "Random prediction from training data\n",
      "random num: 5926\n",
      "> after giving these to my dogs they both developed bloody diarrhea ! i 'm throwing out the box and never buying this product again .\n",
      "= gave my dogs bloody diarrhea !\n",
      "  gave my dogs bloody diarrhea ! <EOS> <pad> <pad> <pad> <pad> <pad> <pad> <pad> <pad> <pad> <pad> <pad> <pad> <pad> <pad> <pad> <pad>\n",
      "random num: 19117\n",
      "> i had to hide the jars of peanut butter as the kids were gobbling it up . need i write more ?\n",
      "= had to hide the jar\n",
      "  had to hide jar jar <EOS> <pad> <pad> <pad> <pad> <pad> <pad> <pad> <pad> <pad> <pad> <pad> <pad> <pad> <pad> <pad> <pad> <pad>\n",
      "Random prediction from validation data\n",
      "random num: 776\n",
      "> for those of you watching your weight this is the way to go . this and diet soda can keep you for one of your meals . definitely a must .\n",
      "= best thing since diet soda\n",
      "  perfect cereal <EOS> <unk> <EOS> <EOS> <pad> <pad> <pad> <pad> <pad> <pad> <pad> <pad> <pad> <pad> <pad> <pad> <pad> <pad> <pad> <pad> <pad>\n",
      "random num: 2008\n",
      "> this is great tea . it smells exactly like a high - quality mint chocolate bar- everyone in the office raves about it when i brew a cup . the taste is closer to mint black tea , but with a nice roundness , almost creamy . no need to add sugar .\n",
      "= how do they do it ?\n",
      "  love this n't go to <EOS> <EOS> <pad> <pad> <pad> <pad> <pad> <pad> <pad> <pad> <pad> <pad> <pad> <pad> <pad> <pad> <pad> <pad>\n"
     ]
    },
    {
     "name": "stderr",
     "output_type": "stream",
     "text": [
      " 36%|███▌      | 9/25 [14:11<25:23, 95.22s/it]"
     ]
    },
    {
     "name": "stdout",
     "output_type": "stream",
     "text": [
      "\n",
      "Total training loss for epoch 10:\t 270195.0401916504\n",
      "\n",
      "Total validation loss for epoch 10:\t 72184.66006469727\n",
      "Random prediction from training data\n",
      "random num: 12637\n",
      "> this is very crispy with a heavy note of sesame , which is why we love it .   i 've never tasted a crisp bread with as much wholesome complexity as this .   enjoy it with a good canola spread , or a yogurt based spread like brum and brummel .\n",
      "= crunching goood\n",
      "  crunching goood <EOS> <pad> <pad> <pad> <pad> <pad> <pad> <pad> <pad> <pad> <pad> <pad> <pad> <pad> <pad> <pad> <pad> <pad> <pad> <pad> <pad>\n",
      "random num: 20716\n",
      "> what can i say ? these things taste amazing . i want them to have a million - piece set.<br /><br />yum\n",
      "= yum\n",
      "  yum yum <EOS> <pad> <pad> <pad> <pad> <pad> <pad> <pad> <pad> <pad> <pad> <pad> <pad> <pad> <pad> <pad> <pad> <pad> <pad> <pad> <pad>\n",
      "Random prediction from validation data\n",
      "random num: 1798\n",
      "> one of the nicest , smoothest cup of chai i 've made . nice mix of spices , largest overtone is the cardamom , but since i do like a half / half of tea with milk or soy milk as my chai drink , this is a good base for me .\n",
      "= chai for the morning\n",
      "  one <EOS> me real <EOS> <pad> <pad> <pad> <pad> <pad> <pad> <pad> <pad> <pad> <pad> <pad> <pad> <pad> <pad> <pad> <pad> <pad> <pad>\n",
      "random num: 544\n",
      "> i have been using this tea as a diet aid for maintaining my weight over the years . i drink this tea daily and i have enjoyed every cup . i hope to continue enjoying using this product for many more years .\n",
      "= great tea , thank you !\n",
      "  best tea tea twinings you tea <EOS> <pad> <pad> <pad> <pad> <pad> <pad> <pad> <pad> <pad> <pad> <pad> <pad> <pad> <pad> <pad> <pad>\n"
     ]
    },
    {
     "name": "stderr",
     "output_type": "stream",
     "text": [
      " 40%|████      | 10/25 [15:46<23:48, 95.23s/it]"
     ]
    },
    {
     "name": "stdout",
     "output_type": "stream",
     "text": [
      "\n",
      "Total training loss for epoch 11:\t 263754.0045776367\n",
      "\n",
      "Total validation loss for epoch 11:\t 71633.41877746582\n",
      "Random prediction from training data\n",
      "random num: 14199\n",
      "> great product , great ingredients , lasts longer if you keep them in the refrigerator . they are going to inhale them at any size so i like them tiny so my golden can get more of them\n",
      "= great product\n",
      "  great product <EOS> <pad> <pad> <pad> <pad> <pad> <pad> <pad> <pad> <pad> <pad> <pad> <pad> <pad> <pad> <pad> <pad> <pad> <pad> <pad> <pad>\n",
      "random num: 3477\n",
      "> i have a 14.5 year dog who is not an eager eater and he loves this food .   if he were n't so old , i would limit the amount he eats .   however , it keeps him happy which makes me happy .\n",
      "= kat\n",
      "  kat <EOS> <pad> <pad> <pad> <pad> <pad> <pad> <pad> <pad> <pad> <pad> <pad> <pad> <pad> <pad> <pad> <pad> <pad> <pad> <pad> <pad> <pad>\n",
      "Random prediction from validation data\n",
      "random num: 526\n",
      "> after trying many different kinds of pasta .... this is almost as good as the wheat pasta that i have used for years ....\n",
      "= darn good\n",
      "  good of deal ! <EOS> <pad> <pad> <pad> <pad> <pad> <pad> <pad> <pad> <pad> <pad> <pad> <pad> <pad> <pad> <pad> <pad> <pad> <pad>\n",
      "random num: 1181\n",
      "> every time i get one out for my dog he ca nt wait to eat it . i 've noticed his teeth are much cleaner and his breathe is great too ! highly recommended .\n",
      "= my german shepherd loves 'em !\n",
      "  my dog loves it <EOS> <pad> <EOS> <pad> <pad> <pad> <pad> <pad> <pad> <pad> <pad> <pad> <pad> <pad> <pad> <pad> <pad> <pad> <pad>\n"
     ]
    },
    {
     "name": "stderr",
     "output_type": "stream",
     "text": [
      " 44%|████▍     | 11/25 [17:20<22:05, 94.67s/it]"
     ]
    },
    {
     "name": "stdout",
     "output_type": "stream",
     "text": [
      "\n",
      "Total training loss for epoch 12:\t 249588.35856628418\n",
      "\n",
      "Total validation loss for epoch 12:\t 74891.52835083008\n",
      "Random prediction from training data\n",
      "random num: 2591\n",
      "> i bought this product and sent it to my daughter that is currently attending college . she was very grateful for the present and said she really likes it .\n",
      "= twisted fruit\n",
      "  great birthday present <pad> <pad> <pad> <pad> <pad> <pad> <pad> <pad> <pad> <pad> <pad> <pad> <pad> <pad> <pad> <pad> <pad> <pad> <pad> <pad>\n",
      "random num: 23\n",
      "> jet black , \" greasy \" beans , very rich and not expensive . i purchase one of these bags every six weeks my family .\n",
      "= perfect for frugal coffee snob\n",
      "  perfect coffee coffee snob snob <EOS> <pad> <pad> <pad> <pad> <pad> <pad> <pad> <pad> <pad> <pad> <pad> <pad> <pad> <pad> <pad> <pad> <pad>\n",
      "Random prediction from validation data\n",
      "random num: 2216\n",
      "> if you like your coffee strong this is the k - cup for you !   i 've tried the ' bold ' coffees from various manufacturers here on amazon and this is the one that wins hands down .   it 's strong , it has a kick but the flavor is still smooth and subtle .\n",
      "= this is it !\n",
      "  bold is it ! <EOS> <pad> <pad> <pad> <pad> <pad> <pad> <pad> <pad> <pad> <pad> <pad> <pad> <pad> <pad> <pad> <pad> <pad> <pad>\n",
      "random num: 256\n",
      "> s a frequent shopper ( and snacker ) of health food stores across the tri - state area i consider myself an expert on healthy snacks .   these are my absolute favorite . i can eat an entire bag in one sitting !\n",
      "= delicious and healthy\n",
      "  great & rice <EOS> <pad> <pad> <pad> <pad> <pad> <pad> <pad> <pad> <pad> <pad> <pad> <pad> <pad> <pad> <pad> <pad> <pad> <pad> <pad>\n"
     ]
    },
    {
     "name": "stderr",
     "output_type": "stream",
     "text": [
      " 48%|████▊     | 12/25 [18:54<20:29, 94.55s/it]"
     ]
    },
    {
     "name": "stdout",
     "output_type": "stream",
     "text": [
      "\n",
      "Total training loss for epoch 13:\t 244241.02485656738\n",
      "\n",
      "Total validation loss for epoch 13:\t 74664.73034667969\n",
      "Random prediction from training data\n",
      "random num: 12577\n",
      "> do n't waste your money on any of the kettle brand potato chips .   i bought a case of these , and a case of the cheddar and sour cream .   both cases ended up in the garbage can .\n",
      "= garbage\n",
      "  garbage <EOS> <pad> <pad> <pad> <pad> <pad> <pad> <pad> <pad> <pad> <pad> <pad> <pad> <pad> <pad> <pad> <pad> <pad> <pad> <pad> <pad> <pad>\n",
      "random num: 20031\n",
      "> if your looking for a good flavored coffee , this is it .   the raspberry flavor stands out .   could use a little more chocolate .   great flavor , excellent price .\n",
      "= excellent\n",
      "  excellent <EOS> <pad> <pad> <pad> <pad> <pad> <pad> <pad> <pad> <pad> <pad> <pad> <pad> <pad> <pad> <pad> <pad> <pad> <pad> <pad> <pad> <pad>\n",
      "Random prediction from validation data\n",
      "random num: 1900\n",
      "> great real coconut young coconut taste . not the usual overwhelming sweet taste seen on other coconut water canned drinks .   good on the environment . made in brazil . even better .   you can really taste the fruit labelled on the product besides the coconut water taste\n",
      "= great taste . nice fruit flavor . serve chilled\n",
      "  best coconut coconut water ! <EOS> <EOS> <EOS> coconut <EOS> <pad> <pad> <pad> <pad> <pad> <pad> <pad> <pad> <pad> <pad> <pad> <pad> <pad>\n",
      "random num: 1760\n",
      "> i was very impressed with how bold this coffee is . this is easily my new favorite early morning brew . bam !\n",
      "= bold is beautiful !\n",
      "  good coffee <EOS> <pad> <pad> <pad> <pad> <pad> <pad> <pad> <pad> <pad> <pad> <pad> <pad> <pad> <pad> <pad> <pad> <pad> <pad> <pad> <pad>\n"
     ]
    },
    {
     "name": "stderr",
     "output_type": "stream",
     "text": [
      " 52%|█████▏    | 13/25 [20:28<18:52, 94.33s/it]"
     ]
    },
    {
     "name": "stdout",
     "output_type": "stream",
     "text": [
      "\n",
      "Total training loss for epoch 14:\t 233668.6689376831\n",
      "\n",
      "Total validation loss for epoch 14:\t 76313.78019714355\n",
      "Random prediction from training data\n",
      "random num: 14043\n",
      "> these chips are really thick.<br />they are starchy and a bit dry.<br />they taste ok , but i wo n't be tying them again .\n",
      "= too thick\n",
      "  too thick <EOS> <pad> <pad> <pad> <pad> <pad> <pad> <pad> <pad> <pad> <pad> <pad> <pad> <pad> <pad> <pad> <pad> <pad> <pad> <pad> <pad>\n",
      "random num: 22055\n",
      "> i love this product .   it is delicious and a great deal .   i saw on the package that i could add some milk with the water and i found it is even more delicious doing that .   these are the best oats .\n",
      "= wonderful and at a great cost\n",
      "  wonderful and cost a cost cost <EOS> <pad> <pad> <pad> <pad> <pad> <pad> <pad> <pad> <pad> <pad> <pad> <pad> <pad> <pad> <pad> <pad>\n",
      "Random prediction from validation data\n",
      "random num: 1228\n",
      "> glutino pretzels ( and pastas ) are the best on the market and taste soooo much like the real thing . i lived 35 years before discovering celiac , i know what the real thing tastes like ! !   they make our gluten free life so much more normal ! !\n",
      "= best on the market\n",
      "  best pretzels <EOS> best <EOS> <pad> <pad> <pad> <pad> <pad> <pad> <pad> <pad> <pad> <pad> <pad> <pad> <pad> <pad> <pad> <pad> <pad> <pad>\n",
      "random num: 1012\n",
      "> this is by far the best choice for a low fat option for peanut butter . the idea of a powdered pb seems odd at first , but once reconstituted with water , it actually has creamy texture . tastewise , i prefer this over any other natural pb on the market .\n",
      "= great taste and texture !\n",
      "  great product <EOS> great <EOS> <pad> <pad> <pad> <pad> <pad> <pad> <pad> <pad> <pad> <pad> <pad> <pad> <pad> <pad> <pad> <pad> <pad> <pad>\n"
     ]
    },
    {
     "name": "stderr",
     "output_type": "stream",
     "text": [
      " 56%|█████▌    | 14/25 [22:01<17:15, 94.11s/it]"
     ]
    },
    {
     "name": "stdout",
     "output_type": "stream",
     "text": [
      "\n",
      "Total training loss for epoch 15:\t 225610.18462371826\n",
      "\n",
      "Total validation loss for epoch 15:\t 77217.52602386475\n",
      "Random prediction from training data\n",
      "random num: 8992\n",
      "> i love this product .   the only suggestion i could make to improve it , would be to allow the customer to select the combination of flavors .\n",
      "= popchips , variety pack\n",
      "  popchips , variety pack <EOS> <pad> <pad> <pad> <pad> <pad> <pad> <pad> <pad> <pad> <pad> <pad> <pad> <pad> <pad> <pad> <pad> <pad> <pad>\n",
      "random num: 11268\n",
      "> i would recommend this aerator to a friend . it works great for white or red wine . buy it and test it for yourself!<br /><br />ordering was simple . i received the item quickly .\n",
      "= what a difference this aerator makes !   use on red or whites !\n",
      "  what a difference aerator makes   aerator makes aerator makes or or whites ! <EOS> <pad> <pad> <pad> <pad> <pad> <pad> <pad> <pad>\n",
      "Random prediction from validation data\n",
      "random num: 1270\n",
      "> when you offer it to someone , they might freak on the name .   but it has a great taste .   one of my favorites .\n",
      "= scary name for good coffee .\n",
      "  love <EOS> <EOS> <pad> <pad> <pad> <pad> <pad> <pad> <pad> <pad> <pad> <pad> <pad> <pad> <pad> <pad> <pad> <pad> <pad> <pad> <pad> <pad>\n",
      "random num: 2348\n",
      "> i have drank this tea for over 30 years and enjoy the fragrance as much as the taste . i have even mixed orange and clove oils to create a perfume . however , i now want to buy constant comment in k pods . they are not available . will they be ?\n",
      "= memorable\n",
      "  great as <pad> <pad> <pad> <pad> <pad> <pad> <pad> <pad> <pad> <pad> <pad> <pad> <pad> <pad> <pad> <pad> <pad> <pad> <pad> <pad> <pad>\n"
     ]
    },
    {
     "name": "stderr",
     "output_type": "stream",
     "text": [
      " 60%|██████    | 15/25 [23:35<15:39, 93.91s/it]"
     ]
    },
    {
     "name": "stdout",
     "output_type": "stream",
     "text": [
      "\n",
      "Total training loss for epoch 16:\t 224459.00075531006\n",
      "\n",
      "Total validation loss for epoch 16:\t 77536.1644744873\n",
      "Random prediction from training data\n",
      "random num: 1748\n",
      "> great coffee at a good price . i 'm a subscription buyer and i buy this month after month . what more can i say ?\n",
      "= morning coffee\n",
      "  morning coffee <EOS> <pad> <pad> <pad> <pad> <pad> <pad> <pad> <pad> <pad> <pad> <pad> <pad> <pad> <pad> <pad> <pad> <pad> <pad> <pad> <pad>\n",
      "random num: 12111\n",
      "> it is a great product , tastes great , my favorites are tri - color and tomato cous cous . i have nothing bad to say about the product .\n",
      "= very good product\n",
      "  great good <EOS> <EOS> <pad> <pad> <pad> <pad> <pad> <pad> <pad> <pad> <pad> <pad> <pad> <pad> <pad> <pad> <pad> <pad> <pad> <pad> <pad>\n",
      "Random prediction from validation data\n",
      "random num: 1663\n",
      "> i am so glad to find the best ketchup in the world available here at amazon . since i moved to the us , i had trouble to find a ketchup similar to this one . now i can enjoy all my meals with this hela ketchup .\n",
      "= yummy\n",
      "  best <EOS> <pad> <pad> <pad> <pad> <pad> <pad> <pad> <pad> <pad> <pad> <pad> <pad> <pad> <pad> <pad> <pad> <pad> <pad> <pad> <pad> <pad>\n",
      "random num: 760\n",
      "> i have looked all over the place for this custard . it is excellant and < br />makes great pies . try it and you will like it < br />pauline\n",
      "= excellant custard\n",
      "  great coffee <EOS> <pad> <pad> <pad> <pad> <pad> <pad> <pad> <pad> <pad> <pad> <pad> <pad> <pad> <pad> <pad> <pad> <pad> <pad> <pad> <pad>\n"
     ]
    },
    {
     "name": "stderr",
     "output_type": "stream",
     "text": [
      " 64%|██████▍   | 16/25 [25:09<14:05, 93.90s/it]"
     ]
    },
    {
     "name": "stdout",
     "output_type": "stream",
     "text": [
      "\n",
      "Total training loss for epoch 17:\t 218298.1936187744\n",
      "\n",
      "Total validation loss for epoch 17:\t 79728.20420837402\n",
      "Random prediction from training data\n",
      "random num: 12436\n",
      "> this tea is hard to find so i bought 6 boxes . when you open the packet , the bag smells exactly like fresh peaches . the taste is not masked by other flavors such as cinnamon . it makes wonderful iced tea .\n",
      "= stash peach tea\n",
      "  stash peach tea <EOS> <pad> <pad> <pad> <pad> <pad> <pad> <pad> <pad> <pad> <pad> <pad> <pad> <pad> <pad> <pad> <pad> <pad> <pad> <pad>\n",
      "random num: 2143\n",
      "> these treats are another favorite for my goldens !   and my friends and neighbors dogs too .   i bought one bag to try and will definitely be ordering again .\n",
      "= yummy and tasty\n",
      "  yummy and yummy <EOS> <pad> <pad> <pad> <pad> <pad> <pad> <pad> <pad> <pad> <pad> <pad> <pad> <pad> <pad> <pad> <pad> <pad> <pad> <pad>\n",
      "Random prediction from validation data\n",
      "random num: 1130\n",
      "> green mountain is a great blend of coffee .   it has a flavor that i like .   we especially enjoy it in our keurig brewer .   this coffee does n't taste weak but has what they call an \" extra bold \" taste . this was a good deal all the way around .\n",
      "= great coffee\n",
      "  good coffee <EOS> <pad> <pad> <pad> <pad> <pad> <pad> <pad> <pad> <pad> <pad> <pad> <pad> <pad> <pad> <pad> <pad> <pad> <pad> <pad> <pad>\n",
      "random num: 1597\n",
      "> for our very first k - cup purchase , these have been terrific !   a great assortment of coffees , teas , and hot chocolates for all tastes and moods .   good price , too !\n",
      "= love these !\n",
      "  * it ! <EOS> <pad> <pad> <pad> <pad> <pad> <pad> <pad> <pad> <pad> <pad> <pad> <pad> <pad> <pad> <pad> <pad> <pad> <pad> <pad>\n"
     ]
    },
    {
     "name": "stderr",
     "output_type": "stream",
     "text": [
      " 68%|██████▊   | 17/25 [26:43<12:31, 93.99s/it]"
     ]
    },
    {
     "name": "stdout",
     "output_type": "stream",
     "text": [
      "\n",
      "Total training loss for epoch 18:\t 215392.62874603271\n",
      "\n",
      "Total validation loss for epoch 18:\t 80727.61303710938\n",
      "Random prediction from training data\n",
      "random num: 22919\n",
      "> it 's tasty , fast to cook and a convenient . the only drawback is that it is a little too rich in calories ( as a lot of indian pilafs can be ) .\n",
      "= tasty yet quick\n",
      "  tasty yet quick <EOS> <pad> <pad> <pad> <pad> <pad> <pad> <pad> <pad> <pad> <pad> <pad> <pad> <pad> <pad> <pad> <pad> <pad> <pad> <pad>\n",
      "random num: 13609\n",
      "> i 've tried other low acid coffee before . this one is bitter tasting no matter how i tried to masked the taste . i would not be ordering this nor recommend this product . luckily , i ordered another product along with this one .\n",
      "= disappointed\n",
      "  disappointed <EOS> <pad> <pad> <pad> <pad> <pad> <pad> <pad> <pad> <pad> <pad> <pad> <pad> <pad> <pad> <pad> <pad> <pad> <pad> <pad> <pad> <pad>\n",
      "Random prediction from validation data\n",
      "random num: 2533\n",
      "> this snack is delicious and healthy .   it 's my daughter 's favorite so i send them to her at college , a box of twelve smaller bags so that she can take them with her anywhere .\n",
      "= bare fruit bake - dried granny smith apple chips\n",
      "  tasty just 's <EOS> <pad> <pad> <pad> 's 's <EOS> <pad> <pad> <pad> <pad> <pad> <pad> <pad> <pad> <pad> <pad> <pad> <pad> <pad>\n",
      "random num: 1501\n",
      "> this is a fantastic product . the honey pearls dissolve and mix in so well ! you 'll never get the honey at the bottom of the mug again . you also do n't have to worry about honey turning to crystals like you do with liquid .\n",
      "= no more slug at the bottom of your mug\n",
      "  best ! ! ! ! best ! ! ! ! <EOS> <pad> <pad> <pad> <pad> <pad> <pad> <pad> <pad> <pad> <pad> <pad> <pad>\n"
     ]
    },
    {
     "name": "stderr",
     "output_type": "stream",
     "text": [
      " 72%|███████▏  | 18/25 [28:17<10:58, 94.01s/it]"
     ]
    },
    {
     "name": "stdout",
     "output_type": "stream",
     "text": [
      "\n",
      "Total training loss for epoch 19:\t 210535.54358673096\n",
      "\n",
      "Total validation loss for epoch 19:\t 80059.4859161377\n",
      "Random prediction from training data\n",
      "random num: 766\n",
      "> this canned salmon is wonderfully tasty . i use it to make salmon cakes . the crown prince brand is one i can usually rely on   being a good product .\n",
      "= salmon\n",
      "  salmon <EOS> <pad> <pad> <pad> <pad> <pad> <pad> <pad> <pad> <pad> <pad> <pad> <pad> <pad> <pad> <pad> <pad> <pad> <pad> <pad> <pad> <pad>\n",
      "random num: 7047\n",
      "> not bad as a pre shampoo i mean it smells like toilet bowl cleaner but it works good !\n",
      "= smells like toilet bowl cleaner\n",
      "  smells like toilet bowl cleaner <EOS> <pad> <pad> <pad> <pad> <pad> <pad> <pad> <pad> <pad> <pad> <pad> <pad> <pad> <pad> <pad> <pad> <pad>\n",
      "Random prediction from validation data\n",
      "random num: 738\n",
      "> this is my favorite hot sauce , such a delicious flavor besides being the perfect amount of heat .   i put it on just about everything !\n",
      "= love this sauce\n",
      "  delicious hot sauce <EOS> <pad> <pad> <pad> <pad> <pad> <pad> <pad> <pad> <pad> <pad> <pad> <pad> <pad> <pad> <pad> <pad> <pad> <pad> <pad>\n",
      "random num: 1017\n",
      "> i do n't know that much about lentils , but these do not taste like the ones i used to buy in india and mauritius , so i 'm disappointed .\n",
      "= red lentils not like india\n",
      "  these licorice taste <EOS> <EOS> <EOS> <pad> <pad> <pad> <pad> <pad> <pad> <pad> <pad> <pad> <pad> <pad> <pad> <pad> <pad> <pad> <pad> <pad>\n"
     ]
    },
    {
     "name": "stderr",
     "output_type": "stream",
     "text": [
      " 76%|███████▌  | 19/25 [29:50<09:23, 93.91s/it]"
     ]
    },
    {
     "name": "stdout",
     "output_type": "stream",
     "text": [
      "\n",
      "Total training loss for epoch 20:\t 208498.36907958984\n",
      "\n",
      "Total validation loss for epoch 20:\t 82291.2283706665\n",
      "Random prediction from training data\n",
      "random num: 20716\n",
      "> what can i say ? these things taste amazing . i want them to have a million - piece set.<br /><br />yum\n",
      "= yum\n",
      "  yum yum <pad> <pad> <pad> <pad> <pad> <pad> <pad> <pad> <pad> <pad> <pad> <pad> <pad> <pad> <pad> <pad> <pad> <pad> <pad> <pad> <pad>\n",
      "random num: 20866\n",
      "> the liquid creamers are the best , but in a pinch or when traveling , the powdered creamers are pretty good . the sugar free vanilla caramel is almost too sweet though .\n",
      "= creamer\n",
      "  creamer <EOS> <pad> <pad> <pad> <pad> <pad> <pad> <pad> <pad> <pad> <pad> <pad> <pad> <pad> <pad> <pad> <pad> <pad> <pad> <pad> <pad> <pad>\n",
      "Random prediction from validation data\n",
      "random num: 957\n",
      "> i almost bought the bigger more common size bubble gum .   glad i double checked measurements .   work great in my vintage 50 's machine .\n",
      "= perfect size for vintage machine\n",
      "  great <EOS> <EOS> the taste ordering <pad> <pad> <pad> <pad> <pad> <pad> <pad> <pad> <pad> <pad> <pad> <pad> <pad> <pad> <pad> <pad> <pad>\n",
      "random num: 477\n",
      "> this product was n't what i expected it was n't spicy at all and did n't have a smokey flavor either it had a super light regular store paprika flavor .\n",
      "= spicy smoked paprika\n",
      "  bad <EOS> hot sauce <EOS> <pad> <pad> <pad> <pad> <pad> <pad> <pad> <pad> <pad> <pad> <pad> <pad> <pad> <pad> <pad> <pad> <pad> <pad>\n"
     ]
    },
    {
     "name": "stderr",
     "output_type": "stream",
     "text": [
      " 80%|████████  | 20/25 [31:25<07:49, 93.97s/it]"
     ]
    },
    {
     "name": "stdout",
     "output_type": "stream",
     "text": [
      "\n",
      "Total training loss for epoch 21:\t 207361.67922210693\n",
      "\n",
      "Total validation loss for epoch 21:\t 81416.30938720703\n",
      "Random prediction from training data\n",
      "random num: 5262\n",
      "> i am not a huge coconut fan , so i was n't excited about trying this , but with one sip it definitely won me over !   the flavor is perfect and is now one of the flavors in our regular rotation .   and it smells so good ! ! !\n",
      "= delicious ! !\n",
      "  fantastic ! ! ! <pad> <pad> <pad> <pad> <pad> <pad> <pad> <pad> <pad> <pad> <pad> <pad> <pad> <pad> <pad> <pad> <pad> <pad> <pad>\n",
      "random num: 11682\n",
      "> i have always enjoyed this product and routinely order it from amazon .   thank you for stocking < br />it , for it is hard to find .\n",
      "= lavazza crema e gusto\n",
      "  lavazza crema e gusto <EOS> <pad> <pad> <pad> <pad> <pad> <pad> <pad> <pad> <pad> <pad> <pad> <pad> <pad> <pad> <pad> <pad> <pad> <pad>\n",
      "Random prediction from validation data\n",
      "random num: 2341\n",
      "> mmmm !   it is unhealthy and very tasty !   i recommend to eat all 5 + lb of candy all at once ! om nom nom nom ...\n",
      "= mmmm ...\n",
      "  i ! <EOS> <pad> <pad> <pad> <pad> <pad> <pad> <pad> <pad> <pad> <pad> <pad> <pad> <pad> <pad> <pad> <pad> <pad> <pad> <pad> <pad>\n",
      "random num: 2272\n",
      "> i am shocked at the star ratings this coffee has . i suppose it 's not for everyone . me , personally , i love it . it 's the epitome of fall . now all i need is the hot apple cider k - cup and all will be right in this world .\n",
      "= a must have for pumpkin lovers !\n",
      "  not as be not my <EOS> <EOS> <pad> <pad> <pad> <pad> <pad> <pad> <pad> <pad> <pad> <pad> <pad> <pad> <pad> <pad> <pad> <pad>\n"
     ]
    },
    {
     "name": "stderr",
     "output_type": "stream",
     "text": [
      " 84%|████████▍ | 21/25 [32:58<06:15, 93.82s/it]"
     ]
    },
    {
     "name": "stdout",
     "output_type": "stream",
     "text": [
      "\n",
      "Total training loss for epoch 22:\t 200719.77474594116\n",
      "\n",
      "Total validation loss for epoch 22:\t 81353.27043151855\n",
      "Random prediction from training data\n",
      "random num: 8857\n",
      "> this is my new addiction . it is delightful . if you like dark chocolate , drink it plain . if you prefer sweeter chocolates , doll it up with sugar and cream . it is heavenly .\n",
      "= absolutely perfect\n",
      "  wonderful ! <EOS> <pad> <pad> <pad> <pad> <pad> <pad> <pad> <pad> <pad> <pad> <pad> <pad> <pad> <pad> <pad> <pad> <pad> <pad> <pad> <pad>\n",
      "random num: 3736\n",
      "> this is by far the best tasting low carb , low sugar high whey protein bar ever had . i recommend it . it 's healthier to snack on this , especially if you get chocolate cravings often . very light and gives you a quick fill .\n",
      "= best tasting protein bar\n",
      "  best tasting protein bar <EOS> <pad> <pad> <pad> <pad> <pad> <pad> <pad> <pad> <pad> <pad> <pad> <pad> <pad> <pad> <pad> <pad> <pad> <pad>\n",
      "Random prediction from validation data\n",
      "random num: 2178\n",
      "> awesome product , really does help with a round of golf or getting home project done!<br />works pretty quick and you can take half now and half in about an hour or so for a quick boost .\n",
      "= pomegranate tastes like liquid cotton candy !\n",
      "  pomegranate tastes liquid cotton cotton candy ! <EOS> <pad> <pad> <pad> <pad> <pad> <pad> <pad> <pad> <pad> <pad> <pad> <pad> <pad> <pad> <pad>\n",
      "random num: 2302\n",
      "> i am glad to have gluten - free rolled oats to eat . i would very much like to have steel cut gluten - free oats , perhaps cream hill estates will produce that some day .\n",
      "= good real food\n",
      "  great free meat <EOS> <pad> <pad> <pad> <pad> <pad> <pad> <pad> <pad> <pad> <pad> <pad> <pad> <pad> <pad> <pad> <pad> <pad> <pad> <pad>\n"
     ]
    },
    {
     "name": "stderr",
     "output_type": "stream",
     "text": [
      " 88%|████████▊ | 22/25 [34:32<04:41, 93.87s/it]"
     ]
    },
    {
     "name": "stdout",
     "output_type": "stream",
     "text": [
      "\n",
      "Total training loss for epoch 23:\t 202869.3404197693\n",
      "\n",
      "Total validation loss for epoch 23:\t 82874.28813171387\n",
      "Random prediction from training data\n",
      "random num: 3936\n",
      "> they seem to like tbis , and it does not give indigestion to my cat who has food allergies .   however , they seem to prefer the chicken florentine flavor .\n",
      "= finicky cats willing to eat this .\n",
      "  finicky cats willing to eat this . <EOS> <pad> <pad> <pad> <pad> <pad> <pad> <pad> <pad> <pad> <pad> <pad> <pad> <pad> <pad> <pad>\n",
      "random num: 2921\n",
      "> beware ! it 's easy to get hooked on this honey . it has turned me into a honey snob , and i think i 'll be buying it for life . i love to pop the lid and inhale deeply -- smells like a field of wildflowers .\n",
      "= best honey i 've had\n",
      "  best honey i 've had <EOS> <pad> <pad> <pad> <pad> <pad> <pad> <pad> <pad> <pad> <pad> <pad> <pad> <pad> <pad> <pad> <pad> <pad>\n",
      "Random prediction from validation data\n",
      "random num: 1358\n",
      "> i ordered this and i recieved one bully stick . not one box of bully sticks - just one individual bully stick.<br />bummer!<br /><br />and i just called to return it and they want me to pay for the postage ! ! ! ! no way ! ! !\n",
      "= do not order this~\n",
      "  very delivery buy this this one <pad> <pad> <pad> <pad> <pad> <pad> <pad> <pad> <pad> <pad> <pad> <pad> <pad> <pad> <pad> <pad> <pad>\n",
      "random num: 166\n",
      "> we love this orange and actually prefer it to store or name brand orange soda .   it has a nice , bright orange taste with a tart finish and is our favorite flavor of all the mixes .\n",
      "= better than name brand\n",
      "  great packaging <EOS> <EOS> <pad> <pad> <pad> <pad> <pad> <pad> <pad> <pad> <pad> <pad> <pad> <pad> <pad> <pad> <pad> <pad> <pad> <pad> <pad>\n"
     ]
    },
    {
     "name": "stderr",
     "output_type": "stream",
     "text": [
      " 92%|█████████▏| 23/25 [36:06<03:08, 94.03s/it]"
     ]
    },
    {
     "name": "stdout",
     "output_type": "stream",
     "text": [
      "\n",
      "Total training loss for epoch 24:\t 198280.0610961914\n",
      "\n",
      "Total validation loss for epoch 24:\t 85380.07734680176\n",
      "Random prediction from training data\n",
      "random num: 3682\n",
      "> this stuff is simular to flavored coffee mate ( the power kind ) , yet it rivals it , and some of the other private brand verions .\n",
      "= simular to flavored coffee mate .\n",
      "  simular to flavored mate mate . <EOS> <pad> <pad> <pad> <pad> <pad> <pad> <pad> <pad> <pad> <pad> <pad> <pad> <pad> <pad> <pad> <pad>\n",
      "random num: 4122\n",
      "> i purchased this for my girlfriend who loved this stuff over the xmas period . now she has a supply which should last several months .\n",
      "= best hot chocolate ever\n",
      "  best hot chocolate ever <EOS> <pad> <pad> <pad> <pad> <pad> <pad> <pad> <pad> <pad> <pad> <pad> <pad> <pad> <pad> <pad> <pad> <pad> <pad>\n",
      "Random prediction from validation data\n",
      "random num: 797\n",
      "> my husband 's favorite biscuit ( cookie ) with tea . plain but tasty . hard to find in america .\n",
      "= mcvities digestive 400 g 3 pack\n",
      "  a for tea <EOS> <pad> <pad> <pad> <pad> <pad> <pad> <pad> <pad> <pad> <pad> <pad> <pad> <pad> <pad> <pad> <pad> <pad> <pad> <pad>\n",
      "random num: 2373\n",
      "> i have given this bone to several different breeds and sizes of dogs and it is a major hit ! and i do n't worry about them choking on it as you do with rawhides . love this product and will buy more !\n",
      "= dogs love\n",
      "  dogs love this stuff ! <EOS> <pad> <pad> <pad> <pad> <pad> <pad> <pad> <pad> <pad> <pad> <pad> <pad> <pad> <pad> <pad> <pad> <pad>\n"
     ]
    },
    {
     "name": "stderr",
     "output_type": "stream",
     "text": [
      " 96%|█████████▌| 24/25 [37:40<01:33, 93.94s/it]"
     ]
    },
    {
     "name": "stdout",
     "output_type": "stream",
     "text": [
      "\n",
      "Total training loss for epoch 25:\t 199489.60291290283\n",
      "\n",
      "Total validation loss for epoch 25:\t 84598.98159790039\n",
      "Random prediction from training data\n",
      "random num: 1476\n",
      "> we love to grind freah beans and this brand is always great . stands on its own as flavorful and strong , plus we mix it with flavors . always delivered fresh !\n",
      "= fresh and strong\n",
      "  fresh and strong ! <EOS> <pad> <pad> <pad> <pad> <pad> <pad> <pad> <pad> <pad> <pad> <pad> <pad> <pad> <pad> <pad> <pad> <pad> <pad>\n",
      "random num: 21939\n",
      "> great baby foods !   i like the variety pack .   much cheaper than buying it from the local grocers or co - op !   i just wish they came in the squeezie pouches !\n",
      "= yum !\n",
      "  yum ! <EOS> <pad> <pad> <pad> <pad> <pad> <pad> <pad> <pad> <pad> <pad> <pad> <pad> <pad> <pad> <pad> <pad> <pad> <pad> <pad> <pad>\n",
      "Random prediction from validation data\n",
      "random num: 962\n",
      "> shame on the company that bought the name and put it on this stuff made with artifical flavors , mono and di - glycerides , and egg albumin - this soft mushy stuff is nothing like the original bonomo turkish taffy - do n't waste your time or money .\n",
      "= this is nothing like the original turkish taffy\n",
      "  i , , , and taste i ordered not <pad> <pad> <pad> <pad> <pad> <pad> <pad> <pad> <pad> <pad> <pad> <pad> <pad> <pad>\n",
      "random num: 1841\n",
      "> i sent this coffee to friends back east .   they enjoyed receiving it and said it was delicious .\n",
      "= coffee gifts\n",
      "  great coffee <EOS> <pad> <pad> <pad> <pad> <pad> <pad> <pad> <pad> <pad> <pad> <pad> <pad> <pad> <pad> <pad> <pad> <pad> <pad> <pad> <pad>\n"
     ]
    },
    {
     "name": "stderr",
     "output_type": "stream",
     "text": [
      "100%|██████████| 25/25 [39:14<00:00, 94.16s/it]\n"
     ]
    }
   ],
   "source": [
    "criterion = nn.CrossEntropyLoss(ignore_index=1)\n",
    "optimizer = optim.Adam(model.parameters())\n",
    "\n",
    "\n",
    "def loss_fun(predictions, target, target_lens, reduction=torch.sum):\n",
    "    \"\"\"\n",
    "\n",
    "        :param predictions: [B, T, C]\n",
    "        :param target: [B, T]\n",
    "        :param target_lens: [B]\n",
    "\n",
    "        :return: loss: [B]\n",
    "\n",
    "    \"\"\"\n",
    "    assert len(predictions) == len(target) == len(target_lens)\n",
    "    \n",
    "    # Create mask\n",
    "    bs, max_len = target.size()\n",
    "    mask = torch.zeros(bs, max_len)\n",
    "    for i in range(bs):\n",
    "        #         print(i, target_lens[i].item(), max_len)\n",
    "        #         print(mask)\n",
    "        mask[i, :target_lens[i].item()] = 1\n",
    "    \n",
    "    # Remove SOS and reshape\n",
    "    predictions = predictions[:, 1:, :].reshape(-1, predictions.size(2)) # [B*(T-1), C]\n",
    "    target = target[:, 1:].reshape(-1) # [B*(T-1)]\n",
    "    mask = mask[:, 1:].reshape(-1)  # [B*(T-1)]\n",
    "    \n",
    "    # Count total sequences (excluding masked positions)\n",
    "    assert len(predictions) == len(target) == len(mask)\n",
    "    #     n = len(predictions)\n",
    "    n = sum(mask).item()\n",
    "    \n",
    "    prob_correct_seqs = torch.gather(predictions, dim=1, index=target.unsqueeze(1)).cpu()\n",
    "    # print(prob_correct_seqs)\n",
    "    \n",
    "    # Calculate NLL (do before mask to avoid inf if zero used for mask)\n",
    "    prob_correct_seqs = prob_correct_seqs\n",
    "    nll = -torch.log(prob_correct_seqs) \n",
    "    #     print(nll)\n",
    "    \n",
    "    # Reduce nll loss across batch filtered with mask\n",
    "    loss = reduction(nll * mask)\n",
    "    #     print(f\"Loss before: {loss}; and averaged loss over {n} samples: {loss / n}\")\n",
    "    \n",
    "    return loss / n\n",
    "    \n",
    "\n",
    "for epoch in tqdm(range(1, (config.get(\"epochs\") + 1))):\n",
    "    train_loss = train(model, train_iter, criterion, optimizer, epoch, loss_fun)\n",
    "    dev_loss = eval(model, val_iter, criterion, epoch, loss_fun)\n",
    "    \n",
    "    print(f\"\\nTotal training loss for epoch {epoch}:\\t {train_loss}\")\n",
    "    print(f\"\\nTotal validation loss for epoch {epoch}:\\t {dev_loss}\")\n",
    "\n",
    "    print(\"Random prediction from training data\")\n",
    "    random_eval(model, train_data, 2)\n",
    "    print(\"Random prediction from validation data\")\n",
    "    random_eval(model, val_data, 2)\n",
    "\n",
    "    path = \"models/model.pt\"\n",
    "    torch.save(model, path)\n"
   ]
  },
  {
   "cell_type": "code",
   "execution_count": 671,
   "metadata": {},
   "outputs": [
    {
     "data": {
      "text/plain": [
       "2"
      ]
     },
     "execution_count": 671,
     "metadata": {},
     "output_type": "execute_result"
    }
   ],
   "source": [
    "x=torch.tensor([1,1,0,0])\n",
    "sum(x).item()"
   ]
  },
  {
   "cell_type": "code",
   "execution_count": 672,
   "metadata": {
    "collapsed": false,
    "jupyter": {
     "outputs_hidden": false
    },
    "pycharm": {
     "name": "#%%\n"
    }
   },
   "outputs": [
    {
     "data": {
      "text/plain": [
       "8510"
      ]
     },
     "execution_count": 672,
     "metadata": {},
     "output_type": "execute_result"
    }
   ],
   "source": [
    "len(TEXT.vocab)"
   ]
  },
  {
   "cell_type": "code",
   "execution_count": 673,
   "metadata": {
    "collapsed": false,
    "jupyter": {
     "outputs_hidden": false
    },
    "pycharm": {
     "name": "#%%\n"
    }
   },
   "outputs": [],
   "source": [
    "source = torch.randint(10, (4, 10))\n",
    "target = torch.randint(10, (4, 10))"
   ]
  },
  {
   "cell_type": "code",
   "execution_count": 674,
   "metadata": {
    "collapsed": false,
    "jupyter": {
     "outputs_hidden": false
    },
    "pycharm": {
     "name": "#%%\n"
    }
   },
   "outputs": [
    {
     "data": {
      "text/plain": [
       "tensor([[8, 7, 4, 1, 0, 9, 3, 3, 6, 2],\n",
       "        [9, 3, 0, 8, 0, 3, 8, 8, 4, 6],\n",
       "        [1, 0, 9, 6, 3, 7, 7, 1, 3, 4],\n",
       "        [6, 5, 2, 2, 4, 9, 2, 7, 9, 7]])"
      ]
     },
     "execution_count": 674,
     "metadata": {},
     "output_type": "execute_result"
    }
   ],
   "source": [
    "source"
   ]
  },
  {
   "cell_type": "code",
   "execution_count": 675,
   "metadata": {
    "collapsed": false,
    "jupyter": {
     "outputs_hidden": false
    },
    "pycharm": {
     "name": "#%%\n"
    }
   },
   "outputs": [
    {
     "data": {
      "text/plain": [
       "tensor([[0, 2, 3, 1, 4, 5, 3, 3, 5, 9],\n",
       "        [8, 6, 6, 4, 4, 1, 0, 4, 5, 1],\n",
       "        [7, 4, 8, 3, 2, 5, 3, 2, 3, 9],\n",
       "        [2, 7, 0, 0, 0, 7, 3, 1, 4, 1]])"
      ]
     },
     "execution_count": 675,
     "metadata": {},
     "output_type": "execute_result"
    }
   ],
   "source": [
    "target"
   ]
  },
  {
   "cell_type": "code",
   "execution_count": 676,
   "metadata": {
    "collapsed": false,
    "jupyter": {
     "outputs_hidden": false
    },
    "pycharm": {
     "name": "#%%\n"
    }
   },
   "outputs": [],
   "source": [
    "target_lens = [4, 6, 3, 10]"
   ]
  },
  {
   "cell_type": "code",
   "execution_count": 677,
   "metadata": {
    "collapsed": false,
    "jupyter": {
     "outputs_hidden": false
    },
    "pycharm": {
     "name": "#%%\n"
    }
   },
   "outputs": [
    {
     "data": {
      "text/plain": [
       "tensor([[0, 2, 3, 1, 1, 1, 1, 1, 1, 1],\n",
       "        [8, 6, 6, 4, 1, 1, 1, 1, 1, 1],\n",
       "        [7, 4, 8, 3, 1, 1, 1, 1, 1, 1],\n",
       "        [2, 7, 0, 0, 1, 1, 1, 1, 1, 1]])"
      ]
     },
     "execution_count": 677,
     "metadata": {},
     "output_type": "execute_result"
    }
   ],
   "source": [
    "target[:, 4:] = 1\n",
    "target"
   ]
  },
  {
   "cell_type": "code",
   "execution_count": 678,
   "metadata": {
    "collapsed": false,
    "jupyter": {
     "outputs_hidden": false
    },
    "pycharm": {
     "name": "#%%\n"
    }
   },
   "outputs": [
    {
     "data": {
      "text/plain": [
       "tensor([[1., 1., 1., 1., 0., 0., 0., 0., 0., 0.],\n",
       "        [1., 1., 1., 1., 1., 1., 0., 0., 0., 0.],\n",
       "        [1., 1., 1., 0., 0., 0., 0., 0., 0., 0.],\n",
       "        [1., 1., 1., 1., 1., 1., 1., 1., 1., 1.]])"
      ]
     },
     "execution_count": 678,
     "metadata": {},
     "output_type": "execute_result"
    }
   ],
   "source": [
    "# Create mask\n",
    "bs, max_len = target.size()\n",
    "mask = torch.zeros(bs, max_len)\n",
    "for i in range(bs):\n",
    "    mask[i, :target_lens[i]] = 1\n",
    "mask"
   ]
  },
  {
   "cell_type": "code",
   "execution_count": 679,
   "metadata": {
    "collapsed": false,
    "jupyter": {
     "outputs_hidden": false
    },
    "pycharm": {
     "name": "#%%\n"
    }
   },
   "outputs": [
    {
     "data": {
      "text/plain": [
       "tensor([[0, 2, 3, 1, 1, 1, 1, 1, 1, 1],\n",
       "        [8, 6, 6, 4, 1, 1, 1, 1, 1, 1],\n",
       "        [7, 4, 8, 3, 1, 1, 1, 1, 1, 1],\n",
       "        [2, 7, 0, 0, 1, 1, 1, 1, 1, 1]])"
      ]
     },
     "execution_count": 679,
     "metadata": {},
     "output_type": "execute_result"
    }
   ],
   "source": [
    "target"
   ]
  },
  {
   "cell_type": "code",
   "execution_count": 680,
   "metadata": {
    "collapsed": false,
    "jupyter": {
     "outputs_hidden": false
    },
    "pycharm": {
     "name": "#%%\n"
    }
   },
   "outputs": [
    {
     "data": {
      "text/plain": [
       "tensor([[0., 2., 3., 1., 0., 0., 0., 0., 0., 0.],\n",
       "        [8., 6., 6., 4., 1., 1., 0., 0., 0., 0.],\n",
       "        [7., 4., 8., 0., 0., 0., 0., 0., 0., 0.],\n",
       "        [2., 7., 0., 0., 1., 1., 1., 1., 1., 1.]])"
      ]
     },
     "execution_count": 680,
     "metadata": {},
     "output_type": "execute_result"
    }
   ],
   "source": [
    "target * mask"
   ]
  },
  {
   "cell_type": "code",
   "execution_count": 681,
   "metadata": {
    "collapsed": false,
    "jupyter": {
     "outputs_hidden": false
    },
    "pycharm": {
     "name": "#%%\n"
    }
   },
   "outputs": [
    {
     "ename": "NameError",
     "evalue": "name 'predictions' is not defined",
     "output_type": "error",
     "traceback": [
      "\u001b[0;31m---------------------------------------------------------------------------\u001b[0m",
      "\u001b[0;31mNameError\u001b[0m                                 Traceback (most recent call last)",
      "\u001b[0;32m<ipython-input-681-8c5a500cecb8>\u001b[0m in \u001b[0;36m<module>\u001b[0;34m\u001b[0m\n\u001b[1;32m      1\u001b[0m \u001b[0;31m# Truncate first SOS prediction and reshape [B, T, H] > [B*T, H]\u001b[0m\u001b[0;34m\u001b[0m\u001b[0;34m\u001b[0m\u001b[0;34m\u001b[0m\u001b[0m\n\u001b[0;32m----> 2\u001b[0;31m \u001b[0mpredictions\u001b[0m \u001b[0;34m=\u001b[0m \u001b[0mpredictions\u001b[0m\u001b[0;34m[\u001b[0m\u001b[0;34m:\u001b[0m\u001b[0;34m,\u001b[0m \u001b[0;36m1\u001b[0m\u001b[0;34m:\u001b[0m\u001b[0;34m,\u001b[0m \u001b[0;34m:\u001b[0m\u001b[0;34m]\u001b[0m\u001b[0;34m.\u001b[0m\u001b[0mview\u001b[0m\u001b[0;34m(\u001b[0m\u001b[0;34m-\u001b[0m\u001b[0;36m1\u001b[0m\u001b[0;34m,\u001b[0m \u001b[0mpredictions\u001b[0m\u001b[0;34m.\u001b[0m\u001b[0msize\u001b[0m\u001b[0;34m(\u001b[0m\u001b[0;36m2\u001b[0m\u001b[0;34m)\u001b[0m\u001b[0;34m)\u001b[0m\u001b[0;34m\u001b[0m\u001b[0;34m\u001b[0m\u001b[0m\n\u001b[0m\u001b[1;32m      3\u001b[0m \u001b[0mtarget\u001b[0m \u001b[0;34m=\u001b[0m \u001b[0mtarget\u001b[0m\u001b[0;34m[\u001b[0m\u001b[0;34m:\u001b[0m\u001b[0;34m,\u001b[0m \u001b[0;36m1\u001b[0m\u001b[0;34m:\u001b[0m\u001b[0;34m]\u001b[0m\u001b[0;34m.\u001b[0m\u001b[0mview\u001b[0m\u001b[0;34m(\u001b[0m\u001b[0;34m-\u001b[0m\u001b[0;36m1\u001b[0m\u001b[0;34m)\u001b[0m\u001b[0;34m\u001b[0m\u001b[0;34m\u001b[0m\u001b[0m\n\u001b[1;32m      4\u001b[0m \u001b[0mmask\u001b[0m \u001b[0;34m=\u001b[0m \u001b[0mmask\u001b[0m\u001b[0;34m[\u001b[0m\u001b[0;34m:\u001b[0m\u001b[0;34m,\u001b[0m \u001b[0;36m1\u001b[0m\u001b[0;34m:\u001b[0m\u001b[0;34m]\u001b[0m\u001b[0;34m.\u001b[0m\u001b[0mview\u001b[0m\u001b[0;34m(\u001b[0m\u001b[0;34m-\u001b[0m\u001b[0;36m1\u001b[0m\u001b[0;34m)\u001b[0m\u001b[0;34m\u001b[0m\u001b[0;34m\u001b[0m\u001b[0m\n",
      "\u001b[0;31mNameError\u001b[0m: name 'predictions' is not defined"
     ]
    }
   ],
   "source": [
    "# Truncate first SOS prediction and reshape [B, T, H] > [B*T, H]\n",
    "predictions = predictions[:, 1:, :].view(-1, predictions.size(2))\n",
    "target = target[:, 1:].view(-1)\n",
    "mask = mask[:, 1:].view(-1)"
   ]
  },
  {
   "cell_type": "raw",
   "metadata": {},
   "source": [
    "torch.rand((3, 5))"
   ]
  },
  {
   "cell_type": "code",
   "execution_count": null,
   "metadata": {
    "collapsed": false,
    "jupyter": {
     "outputs_hidden": false
    },
    "pycharm": {
     "name": "#%%\n"
    }
   },
   "outputs": [],
   "source": [
    "x = torch.rand(4, 6\n",
    "               )\n",
    "x"
   ]
  },
  {
   "cell_type": "code",
   "execution_count": null,
   "metadata": {
    "collapsed": false,
    "jupyter": {
     "outputs_hidden": false
    },
    "pycharm": {
     "name": "#%%\n"
    }
   },
   "outputs": [],
   "source": [
    "ind = torch.randint(x.size(-1), (4,))\n",
    "ind"
   ]
  },
  {
   "cell_type": "code",
   "execution_count": null,
   "metadata": {
    "collapsed": false,
    "jupyter": {
     "outputs_hidden": false
    },
    "pycharm": {
     "name": "#%%\n"
    }
   },
   "outputs": [],
   "source": [
    "torch.gather(x, 1, ind.unsqueeze(-1))"
   ]
  },
  {
   "cell_type": "code",
   "execution_count": null,
   "metadata": {
    "collapsed": false,
    "jupyter": {
     "outputs_hidden": false
    },
    "pycharm": {
     "name": "#%%\n"
    }
   },
   "outputs": [],
   "source": [
    "x = torch.zeros(10,25)\n",
    "x[3,:9] = 1\n",
    "x"
   ]
  },
  {
   "cell_type": "code",
   "execution_count": null,
   "metadata": {},
   "outputs": [],
   "source": [
    "torch.log(torch.tensor(9.88e-05))\n",
    "\n",
    "\n"
   ]
  },
  {
   "cell_type": "code",
   "execution_count": null,
   "metadata": {},
   "outputs": [],
   "source": []
  }
 ],
 "metadata": {
  "kernelspec": {
   "display_name": "Python (seq2seq)",
   "language": "python",
   "name": "seq2seq"
  },
  "language_info": {
   "codemirror_mode": {
    "name": "ipython",
    "version": 3
   },
   "file_extension": ".py",
   "mimetype": "text/x-python",
   "name": "python",
   "nbconvert_exporter": "python",
   "pygments_lexer": "ipython3",
   "version": "3.8.5"
  }
 },
 "nbformat": 4,
 "nbformat_minor": 4
}
