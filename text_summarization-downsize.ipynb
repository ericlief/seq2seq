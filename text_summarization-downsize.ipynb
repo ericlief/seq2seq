{
 "cells": [
  {
   "cell_type": "code",
   "execution_count": 31,
   "metadata": {
    "executionInfo": {
     "elapsed": 910,
     "status": "ok",
     "timestamp": 1608034309289,
     "user": {
      "displayName": "Eric Lief",
      "photoUrl": "",
      "userId": "17478769201558197374"
     },
     "user_tz": -60
    },
    "id": "FPRWUcWaFaig"
   },
   "outputs": [],
   "source": [
    "import pandas as pd"
   ]
  },
  {
   "cell_type": "code",
   "execution_count": 32,
   "metadata": {
    "colab": {
     "base_uri": "https://localhost:8080/"
    },
    "executionInfo": {
     "elapsed": 619585,
     "status": "ok",
     "timestamp": 1608034927972,
     "user": {
      "displayName": "Eric Lief",
      "photoUrl": "",
      "userId": "17478769201558197374"
     },
     "user_tz": -60
    },
    "id": "vcJS-iiRdFw8",
    "outputId": "d46006ef-a9f7-49d3-caae-3a4f85d79b8d"
   },
   "outputs": [
    {
     "name": "stderr",
     "output_type": "stream",
     "text": [
      "<ipython-input-32-d41394b13d70>:4: FutureWarning: Passing a negative integer is deprecated in version 1.0 and will not be supported in future version. Instead, use None to not limit the column width.\n",
      "  pd.set_option(\"display.max_colwidth\", -1)\n"
     ]
    }
   ],
   "source": [
    "# from google.colab import drive\n",
    "# drive.mount(\"/content/gdrive\")\n",
    "\n",
    "pd.set_option(\"display.max_colwidth\", -1)\n",
    "# data_path = \"/content/gdrive/My Drive/data/amazon/amazon-reviews.csv\"\n"
   ]
  },
  {
   "cell_type": "code",
   "execution_count": 33,
   "metadata": {
    "executionInfo": {
     "elapsed": 8413,
     "status": "ok",
     "timestamp": 1608036285703,
     "user": {
      "displayName": "Eric Lief",
      "photoUrl": "",
      "userId": "17478769201558197374"
     },
     "user_tz": -60
    },
    "id": "EeUUX0WNX0NV"
   },
   "outputs": [
    {
     "data": {
      "text/html": [
       "<div>\n",
       "<style scoped>\n",
       "    .dataframe tbody tr th:only-of-type {\n",
       "        vertical-align: middle;\n",
       "    }\n",
       "\n",
       "    .dataframe tbody tr th {\n",
       "        vertical-align: top;\n",
       "    }\n",
       "\n",
       "    .dataframe thead th {\n",
       "        text-align: right;\n",
       "    }\n",
       "</style>\n",
       "<table border=\"1\" class=\"dataframe\">\n",
       "  <thead>\n",
       "    <tr style=\"text-align: right;\">\n",
       "      <th></th>\n",
       "      <th>source</th>\n",
       "      <th>target</th>\n",
       "      <th>source_len</th>\n",
       "      <th>target_len</th>\n",
       "    </tr>\n",
       "  </thead>\n",
       "  <tbody>\n",
       "    <tr>\n",
       "      <th>0</th>\n",
       "      <td>I have bought several of the Vitality canned dog food products and have found them all to be of good quality. The product looks more like a stew than a processed meat and it smells better. My Labrador is finicky and she appreciates this product better than  most.</td>\n",
       "      <td>Good Quality Dog Food</td>\n",
       "      <td>48</td>\n",
       "      <td>3</td>\n",
       "    </tr>\n",
       "    <tr>\n",
       "      <th>1</th>\n",
       "      <td>Product arrived labeled as Jumbo Salted Peanuts...the peanuts were actually small sized unsalted. Not sure if this was an error or if the vendor intended to represent the product as \"Jumbo\".</td>\n",
       "      <td>Not as Advertised</td>\n",
       "      <td>30</td>\n",
       "      <td>2</td>\n",
       "    </tr>\n",
       "    <tr>\n",
       "      <th>2</th>\n",
       "      <td>This is a confection that has been around a few centuries.  It is a light, pillowy citrus gelatin with nuts - in this case Filberts. And it is cut into tiny squares and then liberally coated with powdered sugar.  And it is a tiny mouthful of heaven.  Not too chewy, and very flavorful.  I highly recommend this yummy treat.  If you are familiar with the story of C.S. Lewis' \"The Lion, The Witch, and The Wardrobe\" - this is the treat that seduces Edmund into selling out his Brother and Sisters to the Witch.</td>\n",
       "      <td>\"Delight\" says it all</td>\n",
       "      <td>98</td>\n",
       "      <td>3</td>\n",
       "    </tr>\n",
       "    <tr>\n",
       "      <th>3</th>\n",
       "      <td>If you are looking for the secret ingredient in Robitussin I believe I have found it.  I got this in addition to the Root Beer Extract I ordered (which was good) and made some cherry soda.  The flavor is very medicinal.</td>\n",
       "      <td>Cough Medicine</td>\n",
       "      <td>42</td>\n",
       "      <td>1</td>\n",
       "    </tr>\n",
       "    <tr>\n",
       "      <th>4</th>\n",
       "      <td>Great taffy at a great price.  There was a wide assortment of yummy taffy.  Delivery was very quick.  If your a taffy lover, this is a deal.</td>\n",
       "      <td>Great taffy</td>\n",
       "      <td>29</td>\n",
       "      <td>1</td>\n",
       "    </tr>\n",
       "  </tbody>\n",
       "</table>\n",
       "</div>"
      ],
      "text/plain": [
       "                                                                                                                                                                                                                                                                                                                                                                                                                                                                                                                          source  \\\n",
       "0  I have bought several of the Vitality canned dog food products and have found them all to be of good quality. The product looks more like a stew than a processed meat and it smells better. My Labrador is finicky and she appreciates this product better than  most.                                                                                                                                                                                                                                                         \n",
       "1  Product arrived labeled as Jumbo Salted Peanuts...the peanuts were actually small sized unsalted. Not sure if this was an error or if the vendor intended to represent the product as \"Jumbo\".                                                                                                                                                                                                                                                                                                                                  \n",
       "2  This is a confection that has been around a few centuries.  It is a light, pillowy citrus gelatin with nuts - in this case Filberts. And it is cut into tiny squares and then liberally coated with powdered sugar.  And it is a tiny mouthful of heaven.  Not too chewy, and very flavorful.  I highly recommend this yummy treat.  If you are familiar with the story of C.S. Lewis' \"The Lion, The Witch, and The Wardrobe\" - this is the treat that seduces Edmund into selling out his Brother and Sisters to the Witch.   \n",
       "3  If you are looking for the secret ingredient in Robitussin I believe I have found it.  I got this in addition to the Root Beer Extract I ordered (which was good) and made some cherry soda.  The flavor is very medicinal.                                                                                                                                                                                                                                                                                                     \n",
       "4  Great taffy at a great price.  There was a wide assortment of yummy taffy.  Delivery was very quick.  If your a taffy lover, this is a deal.                                                                                                                                                                                                                                                                                                                                                                                    \n",
       "\n",
       "                  target  source_len  target_len  \n",
       "0  Good Quality Dog Food  48          3           \n",
       "1  Not as Advertised      30          2           \n",
       "2  \"Delight\" says it all  98          3           \n",
       "3  Cough Medicine         42          1           \n",
       "4  Great taffy            29          1           "
      ]
     },
     "execution_count": 33,
     "metadata": {},
     "output_type": "execute_result"
    }
   ],
   "source": [
    "path = \"data/amazon-reviews-cleaned.csv\"\n",
    "# df2.to_csv(path, index=False)\n",
    "\n",
    "df = pd.read_csv(path)\n",
    "df.head()"
   ]
  },
  {
   "cell_type": "code",
   "execution_count": 34,
   "metadata": {},
   "outputs": [
    {
     "data": {
      "text/html": [
       "<div>\n",
       "<style scoped>\n",
       "    .dataframe tbody tr th:only-of-type {\n",
       "        vertical-align: middle;\n",
       "    }\n",
       "\n",
       "    .dataframe tbody tr th {\n",
       "        vertical-align: top;\n",
       "    }\n",
       "\n",
       "    .dataframe thead th {\n",
       "        text-align: right;\n",
       "    }\n",
       "</style>\n",
       "<table border=\"1\" class=\"dataframe\">\n",
       "  <thead>\n",
       "    <tr style=\"text-align: right;\">\n",
       "      <th></th>\n",
       "      <th>source</th>\n",
       "      <th>target</th>\n",
       "      <th>source_len</th>\n",
       "      <th>target_len</th>\n",
       "    </tr>\n",
       "  </thead>\n",
       "  <tbody>\n",
       "    <tr>\n",
       "      <th>0</th>\n",
       "      <td>I have bought several of the Vitality canned dog food products and have found them all to be of good quality. The product looks more like a stew than a processed meat and it smells better. My Labrador is finicky and she appreciates this product better than  most.</td>\n",
       "      <td>Good Quality Dog Food</td>\n",
       "      <td>48</td>\n",
       "      <td>3</td>\n",
       "    </tr>\n",
       "    <tr>\n",
       "      <th>1</th>\n",
       "      <td>Product arrived labeled as Jumbo Salted Peanuts...the peanuts were actually small sized unsalted. Not sure if this was an error or if the vendor intended to represent the product as \"Jumbo\".</td>\n",
       "      <td>Not as Advertised</td>\n",
       "      <td>30</td>\n",
       "      <td>2</td>\n",
       "    </tr>\n",
       "    <tr>\n",
       "      <th>3</th>\n",
       "      <td>If you are looking for the secret ingredient in Robitussin I believe I have found it.  I got this in addition to the Root Beer Extract I ordered (which was good) and made some cherry soda.  The flavor is very medicinal.</td>\n",
       "      <td>Cough Medicine</td>\n",
       "      <td>42</td>\n",
       "      <td>1</td>\n",
       "    </tr>\n",
       "    <tr>\n",
       "      <th>4</th>\n",
       "      <td>Great taffy at a great price.  There was a wide assortment of yummy taffy.  Delivery was very quick.  If your a taffy lover, this is a deal.</td>\n",
       "      <td>Great taffy</td>\n",
       "      <td>29</td>\n",
       "      <td>1</td>\n",
       "    </tr>\n",
       "    <tr>\n",
       "      <th>7</th>\n",
       "      <td>This taffy is so good.  It is very soft and chewy.  The flavors are amazing.  I would definitely recommend you buying it.  Very satisfying!!</td>\n",
       "      <td>Wonderful, tasty taffy</td>\n",
       "      <td>27</td>\n",
       "      <td>2</td>\n",
       "    </tr>\n",
       "  </tbody>\n",
       "</table>\n",
       "</div>"
      ],
      "text/plain": [
       "                                                                                                                                                                                                                                                                    source  \\\n",
       "0  I have bought several of the Vitality canned dog food products and have found them all to be of good quality. The product looks more like a stew than a processed meat and it smells better. My Labrador is finicky and she appreciates this product better than  most.   \n",
       "1  Product arrived labeled as Jumbo Salted Peanuts...the peanuts were actually small sized unsalted. Not sure if this was an error or if the vendor intended to represent the product as \"Jumbo\".                                                                            \n",
       "3  If you are looking for the secret ingredient in Robitussin I believe I have found it.  I got this in addition to the Root Beer Extract I ordered (which was good) and made some cherry soda.  The flavor is very medicinal.                                               \n",
       "4  Great taffy at a great price.  There was a wide assortment of yummy taffy.  Delivery was very quick.  If your a taffy lover, this is a deal.                                                                                                                              \n",
       "7  This taffy is so good.  It is very soft and chewy.  The flavors are amazing.  I would definitely recommend you buying it.  Very satisfying!!                                                                                                                              \n",
       "\n",
       "                   target  source_len  target_len  \n",
       "0  Good Quality Dog Food   48          3           \n",
       "1  Not as Advertised       30          2           \n",
       "3  Cough Medicine          42          1           \n",
       "4  Great taffy             29          1           \n",
       "7  Wonderful, tasty taffy  27          2           "
      ]
     },
     "execution_count": 34,
     "metadata": {},
     "output_type": "execute_result"
    }
   ],
   "source": [
    "df = df.query(\"source_len < 50\")\n",
    "df.head()"
   ]
  },
  {
   "cell_type": "code",
   "execution_count": 35,
   "metadata": {
    "colab": {
     "base_uri": "https://localhost:8080/",
     "height": 597
    },
    "executionInfo": {
     "elapsed": 749,
     "status": "ok",
     "timestamp": 1608036213149,
     "user": {
      "displayName": "Eric Lief",
      "photoUrl": "",
      "userId": "17478769201558197374"
     },
     "user_tz": -60
    },
    "id": "B1lOZ0fXbHzr",
    "outputId": "0f60dc1d-f8ef-4518-e43e-514c70265d86"
   },
   "outputs": [
    {
     "data": {
      "text/html": [
       "<div>\n",
       "<style scoped>\n",
       "    .dataframe tbody tr th:only-of-type {\n",
       "        vertical-align: middle;\n",
       "    }\n",
       "\n",
       "    .dataframe tbody tr th {\n",
       "        vertical-align: top;\n",
       "    }\n",
       "\n",
       "    .dataframe thead th {\n",
       "        text-align: right;\n",
       "    }\n",
       "</style>\n",
       "<table border=\"1\" class=\"dataframe\">\n",
       "  <thead>\n",
       "    <tr style=\"text-align: right;\">\n",
       "      <th></th>\n",
       "      <th>source</th>\n",
       "      <th>target</th>\n",
       "    </tr>\n",
       "  </thead>\n",
       "  <tbody>\n",
       "    <tr>\n",
       "      <th>0</th>\n",
       "      <td>I have bought several of the Vitality canned dog food products and have found them all to be of good quality. The product looks more like a stew than a processed meat and it smells better. My Labrador is finicky and she appreciates this product better than  most.</td>\n",
       "      <td>Good Quality Dog Food</td>\n",
       "    </tr>\n",
       "    <tr>\n",
       "      <th>1</th>\n",
       "      <td>Product arrived labeled as Jumbo Salted Peanuts...the peanuts were actually small sized unsalted. Not sure if this was an error or if the vendor intended to represent the product as \"Jumbo\".</td>\n",
       "      <td>Not as Advertised</td>\n",
       "    </tr>\n",
       "    <tr>\n",
       "      <th>3</th>\n",
       "      <td>If you are looking for the secret ingredient in Robitussin I believe I have found it.  I got this in addition to the Root Beer Extract I ordered (which was good) and made some cherry soda.  The flavor is very medicinal.</td>\n",
       "      <td>Cough Medicine</td>\n",
       "    </tr>\n",
       "    <tr>\n",
       "      <th>4</th>\n",
       "      <td>Great taffy at a great price.  There was a wide assortment of yummy taffy.  Delivery was very quick.  If your a taffy lover, this is a deal.</td>\n",
       "      <td>Great taffy</td>\n",
       "    </tr>\n",
       "    <tr>\n",
       "      <th>7</th>\n",
       "      <td>This taffy is so good.  It is very soft and chewy.  The flavors are amazing.  I would definitely recommend you buying it.  Very satisfying!!</td>\n",
       "      <td>Wonderful, tasty taffy</td>\n",
       "    </tr>\n",
       "  </tbody>\n",
       "</table>\n",
       "</div>"
      ],
      "text/plain": [
       "                                                                                                                                                                                                                                                                    source  \\\n",
       "0  I have bought several of the Vitality canned dog food products and have found them all to be of good quality. The product looks more like a stew than a processed meat and it smells better. My Labrador is finicky and she appreciates this product better than  most.   \n",
       "1  Product arrived labeled as Jumbo Salted Peanuts...the peanuts were actually small sized unsalted. Not sure if this was an error or if the vendor intended to represent the product as \"Jumbo\".                                                                            \n",
       "3  If you are looking for the secret ingredient in Robitussin I believe I have found it.  I got this in addition to the Root Beer Extract I ordered (which was good) and made some cherry soda.  The flavor is very medicinal.                                               \n",
       "4  Great taffy at a great price.  There was a wide assortment of yummy taffy.  Delivery was very quick.  If your a taffy lover, this is a deal.                                                                                                                              \n",
       "7  This taffy is so good.  It is very soft and chewy.  The flavors are amazing.  I would definitely recommend you buying it.  Very satisfying!!                                                                                                                              \n",
       "\n",
       "                   target  \n",
       "0  Good Quality Dog Food   \n",
       "1  Not as Advertised       \n",
       "3  Cough Medicine          \n",
       "4  Great taffy             \n",
       "7  Wonderful, tasty taffy  "
      ]
     },
     "execution_count": 35,
     "metadata": {},
     "output_type": "execute_result"
    }
   ],
   "source": [
    "df = df.drop(labels=[\"source_len\", \"target_len\"], axis=1)\n",
    "df.head()"
   ]
  },
  {
   "cell_type": "code",
   "execution_count": 36,
   "metadata": {
    "colab": {
     "base_uri": "https://localhost:8080/",
     "height": 597
    },
    "executionInfo": {
     "elapsed": 751,
     "status": "ok",
     "timestamp": 1608036421092,
     "user": {
      "displayName": "Eric Lief",
      "photoUrl": "",
      "userId": "17478769201558197374"
     },
     "user_tz": -60
    },
    "id": "-CGO-wulX0Bu",
    "outputId": "b5684069-dc81-438b-d3e7-176c2fae12e3"
   },
   "outputs": [
    {
     "data": {
      "text/html": [
       "<div>\n",
       "<style scoped>\n",
       "    .dataframe tbody tr th:only-of-type {\n",
       "        vertical-align: middle;\n",
       "    }\n",
       "\n",
       "    .dataframe tbody tr th {\n",
       "        vertical-align: top;\n",
       "    }\n",
       "\n",
       "    .dataframe thead th {\n",
       "        text-align: right;\n",
       "    }\n",
       "</style>\n",
       "<table border=\"1\" class=\"dataframe\">\n",
       "  <thead>\n",
       "    <tr style=\"text-align: right;\">\n",
       "      <th></th>\n",
       "      <th>source</th>\n",
       "      <th>target</th>\n",
       "    </tr>\n",
       "  </thead>\n",
       "  <tbody>\n",
       "    <tr>\n",
       "      <th>315107</th>\n",
       "      <td>Since putting our dog on the Wellness dog food, we don't have any more diarrhea or upset tummy issues.</td>\n",
       "      <td>So happy with Wellness</td>\n",
       "    </tr>\n",
       "    <tr>\n",
       "      <th>131566</th>\n",
       "      <td>I was not a huge granola fan until a friend turned me onto Dr FLynn's creation. It's not only healthier than the rest, but it tastes so much better! The best of both worlds.  Can't get enough especially since it's organic! Thank you Dr Flynn!!!</td>\n",
       "      <td>Best Granola on the Planet!!!</td>\n",
       "    </tr>\n",
       "    <tr>\n",
       "      <th>425526</th>\n",
       "      <td>OMG I cannot even begin to descibe how delicious these bars are! It is like an almond joy without the chocolate! YUM!!!</td>\n",
       "      <td>YUM!</td>\n",
       "    </tr>\n",
       "    <tr>\n",
       "      <th>366322</th>\n",
       "      <td>The flavor of the salt is very nice ! Purchased it upon reading about it's many health benefits. The price is very reasonable as well. In local health food store it costs twice as much.</td>\n",
       "      <td>Very Happy With This Product</td>\n",
       "    </tr>\n",
       "    <tr>\n",
       "      <th>213016</th>\n",
       "      <td>Originally found these in a candy store in Tarrytown,NY,&lt;br /&gt;then was delighted to find them  on Amazon.&lt;br /&gt;They are gluten free and soothe my often-irritated throat.&lt;br /&gt;I love them and love purchasing them at Amazon with the Special Savings Prog.</td>\n",
       "      <td>Honey Candies</td>\n",
       "    </tr>\n",
       "    <tr>\n",
       "      <th>...</th>\n",
       "      <td>...</td>\n",
       "      <td>...</td>\n",
       "    </tr>\n",
       "    <tr>\n",
       "      <th>563243</th>\n",
       "      <td>Quaker Soft Baked Oatmeal Raisin cookies taste closest to homebaked cookies than any others I have tried. My kids loved them, too. They are moist and flavorful. We like them as a snack, or even as a breakfast on the go!</td>\n",
       "      <td>Will buy more</td>\n",
       "    </tr>\n",
       "    <tr>\n",
       "      <th>123301</th>\n",
       "      <td>I'm letting my dog review this one-\"woof woof!! Crunch crunch!! Grrrrrrrr get away cat! Woof! Crunch crunch!\"&lt;br /&gt;&lt;br /&gt;Soooooo.......I am going to interpet that to mean the bone is yummy and her favorite treat!</td>\n",
       "      <td>Woof woof!</td>\n",
       "    </tr>\n",
       "    <tr>\n",
       "      <th>136494</th>\n",
       "      <td>I recently tried this coffee after winning a sampler pack from their facebook page. Breakfast blend was the 1st that I tried and it was by far my favorite! Would definately recommend them to anyone and I love the company itself as well. They are a great customer based company!</td>\n",
       "      <td>Loved the breakfast blend</td>\n",
       "    </tr>\n",
       "    <tr>\n",
       "      <th>186204</th>\n",
       "      <td>On the good side it helps me with nighttime leg cramps.&lt;br /&gt;On the bad side it gives me diarrhea.&lt;br /&gt;Trying to change the amount to see if I can lessen the bad results...</td>\n",
       "      <td>Both good and bad results</td>\n",
       "    </tr>\n",
       "    <tr>\n",
       "      <th>549363</th>\n",
       "      <td>AFter a little confusion regarding cat vs dog food, the company and I have settled our differences.  The order has been corrected and all is well.&lt;br /&gt;&lt;br /&gt;This is an excellent  mroduct!</td>\n",
       "      <td>Retraction of previous feedback</td>\n",
       "    </tr>\n",
       "  </tbody>\n",
       "</table>\n",
       "<p>123631 rows × 2 columns</p>\n",
       "</div>"
      ],
      "text/plain": [
       "                                                                                                                                                                                                                                                                                       source  \\\n",
       "315107  Since putting our dog on the Wellness dog food, we don't have any more diarrhea or upset tummy issues.                                                                                                                                                                                  \n",
       "131566  I was not a huge granola fan until a friend turned me onto Dr FLynn's creation. It's not only healthier than the rest, but it tastes so much better! The best of both worlds.  Can't get enough especially since it's organic! Thank you Dr Flynn!!!                                    \n",
       "425526  OMG I cannot even begin to descibe how delicious these bars are! It is like an almond joy without the chocolate! YUM!!!                                                                                                                                                                 \n",
       "366322  The flavor of the salt is very nice ! Purchased it upon reading about it's many health benefits. The price is very reasonable as well. In local health food store it costs twice as much.                                                                                               \n",
       "213016  Originally found these in a candy store in Tarrytown,NY,<br />then was delighted to find them  on Amazon.<br />They are gluten free and soothe my often-irritated throat.<br />I love them and love purchasing them at Amazon with the Special Savings Prog.                            \n",
       "...                                                                                                                                                                                                                                                              ...                            \n",
       "563243  Quaker Soft Baked Oatmeal Raisin cookies taste closest to homebaked cookies than any others I have tried. My kids loved them, too. They are moist and flavorful. We like them as a snack, or even as a breakfast on the go!                                                             \n",
       "123301  I'm letting my dog review this one-\"woof woof!! Crunch crunch!! Grrrrrrrr get away cat! Woof! Crunch crunch!\"<br /><br />Soooooo.......I am going to interpet that to mean the bone is yummy and her favorite treat!                                                                    \n",
       "136494  I recently tried this coffee after winning a sampler pack from their facebook page. Breakfast blend was the 1st that I tried and it was by far my favorite! Would definately recommend them to anyone and I love the company itself as well. They are a great customer based company!   \n",
       "186204  On the good side it helps me with nighttime leg cramps.<br />On the bad side it gives me diarrhea.<br />Trying to change the amount to see if I can lessen the bad results...                                                                                                           \n",
       "549363  AFter a little confusion regarding cat vs dog food, the company and I have settled our differences.  The order has been corrected and all is well.<br /><br />This is an excellent  mroduct!                                                                                            \n",
       "\n",
       "                                 target  \n",
       "315107  So happy with Wellness           \n",
       "131566  Best Granola on the Planet!!!    \n",
       "425526  YUM!                             \n",
       "366322  Very Happy With This Product     \n",
       "213016  Honey Candies                    \n",
       "...               ...                    \n",
       "563243  Will buy more                    \n",
       "123301  Woof woof!                       \n",
       "136494  Loved the breakfast blend        \n",
       "186204  Both good and bad results        \n",
       "549363  Retraction of previous feedback  \n",
       "\n",
       "[123631 rows x 2 columns]"
      ]
     },
     "execution_count": 36,
     "metadata": {},
     "output_type": "execute_result"
    }
   ],
   "source": [
    "df = df.sample(frac=.5, replace=False)\n",
    "df"
   ]
  },
  {
   "cell_type": "code",
   "execution_count": 37,
   "metadata": {},
   "outputs": [
    {
     "data": {
      "text/html": [
       "<div>\n",
       "<style scoped>\n",
       "    .dataframe tbody tr th:only-of-type {\n",
       "        vertical-align: middle;\n",
       "    }\n",
       "\n",
       "    .dataframe tbody tr th {\n",
       "        vertical-align: top;\n",
       "    }\n",
       "\n",
       "    .dataframe thead th {\n",
       "        text-align: right;\n",
       "    }\n",
       "</style>\n",
       "<table border=\"1\" class=\"dataframe\">\n",
       "  <thead>\n",
       "    <tr style=\"text-align: right;\">\n",
       "      <th></th>\n",
       "      <th>source</th>\n",
       "      <th>target</th>\n",
       "      <th>TextLength</th>\n",
       "    </tr>\n",
       "  </thead>\n",
       "  <tbody>\n",
       "    <tr>\n",
       "      <th>315107</th>\n",
       "      <td>Since putting our dog on the Wellness dog food, we don't have any more diarrhea or upset tummy issues.</td>\n",
       "      <td>So happy with Wellness</td>\n",
       "      <td>19</td>\n",
       "    </tr>\n",
       "    <tr>\n",
       "      <th>131566</th>\n",
       "      <td>I was not a huge granola fan until a friend turned me onto Dr FLynn's creation. It's not only healthier than the rest, but it tastes so much better! The best of both worlds.  Can't get enough especially since it's organic! Thank you Dr Flynn!!!</td>\n",
       "      <td>Best Granola on the Planet!!!</td>\n",
       "      <td>46</td>\n",
       "    </tr>\n",
       "    <tr>\n",
       "      <th>425526</th>\n",
       "      <td>OMG I cannot even begin to descibe how delicious these bars are! It is like an almond joy without the chocolate! YUM!!!</td>\n",
       "      <td>YUM!</td>\n",
       "      <td>22</td>\n",
       "    </tr>\n",
       "    <tr>\n",
       "      <th>366322</th>\n",
       "      <td>The flavor of the salt is very nice ! Purchased it upon reading about it's many health benefits. The price is very reasonable as well. In local health food store it costs twice as much.</td>\n",
       "      <td>Very Happy With This Product</td>\n",
       "      <td>35</td>\n",
       "    </tr>\n",
       "    <tr>\n",
       "      <th>213016</th>\n",
       "      <td>Originally found these in a candy store in Tarrytown,NY,&lt;br /&gt;then was delighted to find them  on Amazon.&lt;br /&gt;They are gluten free and soothe my often-irritated throat.&lt;br /&gt;I love them and love purchasing them at Amazon with the Special Savings Prog.</td>\n",
       "      <td>Honey Candies</td>\n",
       "      <td>41</td>\n",
       "    </tr>\n",
       "  </tbody>\n",
       "</table>\n",
       "</div>"
      ],
      "text/plain": [
       "                                                                                                                                                                                                                                                              source  \\\n",
       "315107  Since putting our dog on the Wellness dog food, we don't have any more diarrhea or upset tummy issues.                                                                                                                                                         \n",
       "131566  I was not a huge granola fan until a friend turned me onto Dr FLynn's creation. It's not only healthier than the rest, but it tastes so much better! The best of both worlds.  Can't get enough especially since it's organic! Thank you Dr Flynn!!!           \n",
       "425526  OMG I cannot even begin to descibe how delicious these bars are! It is like an almond joy without the chocolate! YUM!!!                                                                                                                                        \n",
       "366322  The flavor of the salt is very nice ! Purchased it upon reading about it's many health benefits. The price is very reasonable as well. In local health food store it costs twice as much.                                                                      \n",
       "213016  Originally found these in a candy store in Tarrytown,NY,<br />then was delighted to find them  on Amazon.<br />They are gluten free and soothe my often-irritated throat.<br />I love them and love purchasing them at Amazon with the Special Savings Prog.   \n",
       "\n",
       "                               target  TextLength  \n",
       "315107  So happy with Wellness         19          \n",
       "131566  Best Granola on the Planet!!!  46          \n",
       "425526  YUM!                           22          \n",
       "366322  Very Happy With This Product   35          \n",
       "213016  Honey Candies                  41          "
      ]
     },
     "execution_count": 37,
     "metadata": {},
     "output_type": "execute_result"
    }
   ],
   "source": [
    "df[\"TextLength\"] = df[\"source\"].str.split(\" \").str.len()\n",
    "df.head()"
   ]
  },
  {
   "cell_type": "code",
   "execution_count": 38,
   "metadata": {},
   "outputs": [
    {
     "data": {
      "text/html": [
       "<div>\n",
       "<style scoped>\n",
       "    .dataframe tbody tr th:only-of-type {\n",
       "        vertical-align: middle;\n",
       "    }\n",
       "\n",
       "    .dataframe tbody tr th {\n",
       "        vertical-align: top;\n",
       "    }\n",
       "\n",
       "    .dataframe thead th {\n",
       "        text-align: right;\n",
       "    }\n",
       "</style>\n",
       "<table border=\"1\" class=\"dataframe\">\n",
       "  <thead>\n",
       "    <tr style=\"text-align: right;\">\n",
       "      <th></th>\n",
       "      <th>source</th>\n",
       "      <th>target</th>\n",
       "    </tr>\n",
       "  </thead>\n",
       "  <tbody>\n",
       "    <tr>\n",
       "      <th>315107</th>\n",
       "      <td>Since putting our dog on the Wellness dog food, we don't have any more diarrhea or upset tummy issues.</td>\n",
       "      <td>So happy with Wellness</td>\n",
       "    </tr>\n",
       "    <tr>\n",
       "      <th>131566</th>\n",
       "      <td>I was not a huge granola fan until a friend turned me onto Dr FLynn's creation. It's not only healthier than the rest, but it tastes so much better! The best of both worlds.  Can't get enough especially since it's organic! Thank you Dr Flynn!!!</td>\n",
       "      <td>Best Granola on the Planet!!!</td>\n",
       "    </tr>\n",
       "    <tr>\n",
       "      <th>425526</th>\n",
       "      <td>OMG I cannot even begin to descibe how delicious these bars are! It is like an almond joy without the chocolate! YUM!!!</td>\n",
       "      <td>YUM!</td>\n",
       "    </tr>\n",
       "    <tr>\n",
       "      <th>366322</th>\n",
       "      <td>The flavor of the salt is very nice ! Purchased it upon reading about it's many health benefits. The price is very reasonable as well. In local health food store it costs twice as much.</td>\n",
       "      <td>Very Happy With This Product</td>\n",
       "    </tr>\n",
       "    <tr>\n",
       "      <th>213016</th>\n",
       "      <td>Originally found these in a candy store in Tarrytown,NY,&lt;br /&gt;then was delighted to find them  on Amazon.&lt;br /&gt;They are gluten free and soothe my often-irritated throat.&lt;br /&gt;I love them and love purchasing them at Amazon with the Special Savings Prog.</td>\n",
       "      <td>Honey Candies</td>\n",
       "    </tr>\n",
       "    <tr>\n",
       "      <th>...</th>\n",
       "      <td>...</td>\n",
       "      <td>...</td>\n",
       "    </tr>\n",
       "    <tr>\n",
       "      <th>563243</th>\n",
       "      <td>Quaker Soft Baked Oatmeal Raisin cookies taste closest to homebaked cookies than any others I have tried. My kids loved them, too. They are moist and flavorful. We like them as a snack, or even as a breakfast on the go!</td>\n",
       "      <td>Will buy more</td>\n",
       "    </tr>\n",
       "    <tr>\n",
       "      <th>123301</th>\n",
       "      <td>I'm letting my dog review this one-\"woof woof!! Crunch crunch!! Grrrrrrrr get away cat! Woof! Crunch crunch!\"&lt;br /&gt;&lt;br /&gt;Soooooo.......I am going to interpet that to mean the bone is yummy and her favorite treat!</td>\n",
       "      <td>Woof woof!</td>\n",
       "    </tr>\n",
       "    <tr>\n",
       "      <th>136494</th>\n",
       "      <td>I recently tried this coffee after winning a sampler pack from their facebook page. Breakfast blend was the 1st that I tried and it was by far my favorite! Would definately recommend them to anyone and I love the company itself as well. They are a great customer based company!</td>\n",
       "      <td>Loved the breakfast blend</td>\n",
       "    </tr>\n",
       "    <tr>\n",
       "      <th>186204</th>\n",
       "      <td>On the good side it helps me with nighttime leg cramps.&lt;br /&gt;On the bad side it gives me diarrhea.&lt;br /&gt;Trying to change the amount to see if I can lessen the bad results...</td>\n",
       "      <td>Both good and bad results</td>\n",
       "    </tr>\n",
       "    <tr>\n",
       "      <th>549363</th>\n",
       "      <td>AFter a little confusion regarding cat vs dog food, the company and I have settled our differences.  The order has been corrected and all is well.&lt;br /&gt;&lt;br /&gt;This is an excellent  mroduct!</td>\n",
       "      <td>Retraction of previous feedback</td>\n",
       "    </tr>\n",
       "  </tbody>\n",
       "</table>\n",
       "<p>123631 rows × 2 columns</p>\n",
       "</div>"
      ],
      "text/plain": [
       "                                                                                                                                                                                                                                                                                       source  \\\n",
       "315107  Since putting our dog on the Wellness dog food, we don't have any more diarrhea or upset tummy issues.                                                                                                                                                                                  \n",
       "131566  I was not a huge granola fan until a friend turned me onto Dr FLynn's creation. It's not only healthier than the rest, but it tastes so much better! The best of both worlds.  Can't get enough especially since it's organic! Thank you Dr Flynn!!!                                    \n",
       "425526  OMG I cannot even begin to descibe how delicious these bars are! It is like an almond joy without the chocolate! YUM!!!                                                                                                                                                                 \n",
       "366322  The flavor of the salt is very nice ! Purchased it upon reading about it's many health benefits. The price is very reasonable as well. In local health food store it costs twice as much.                                                                                               \n",
       "213016  Originally found these in a candy store in Tarrytown,NY,<br />then was delighted to find them  on Amazon.<br />They are gluten free and soothe my often-irritated throat.<br />I love them and love purchasing them at Amazon with the Special Savings Prog.                            \n",
       "...                                                                                                                                                                                                                                                              ...                            \n",
       "563243  Quaker Soft Baked Oatmeal Raisin cookies taste closest to homebaked cookies than any others I have tried. My kids loved them, too. They are moist and flavorful. We like them as a snack, or even as a breakfast on the go!                                                             \n",
       "123301  I'm letting my dog review this one-\"woof woof!! Crunch crunch!! Grrrrrrrr get away cat! Woof! Crunch crunch!\"<br /><br />Soooooo.......I am going to interpet that to mean the bone is yummy and her favorite treat!                                                                    \n",
       "136494  I recently tried this coffee after winning a sampler pack from their facebook page. Breakfast blend was the 1st that I tried and it was by far my favorite! Would definately recommend them to anyone and I love the company itself as well. They are a great customer based company!   \n",
       "186204  On the good side it helps me with nighttime leg cramps.<br />On the bad side it gives me diarrhea.<br />Trying to change the amount to see if I can lessen the bad results...                                                                                                           \n",
       "549363  AFter a little confusion regarding cat vs dog food, the company and I have settled our differences.  The order has been corrected and all is well.<br /><br />This is an excellent  mroduct!                                                                                            \n",
       "\n",
       "                                 target  \n",
       "315107  So happy with Wellness           \n",
       "131566  Best Granola on the Planet!!!    \n",
       "425526  YUM!                             \n",
       "366322  Very Happy With This Product     \n",
       "213016  Honey Candies                    \n",
       "...               ...                    \n",
       "563243  Will buy more                    \n",
       "123301  Woof woof!                       \n",
       "136494  Loved the breakfast blend        \n",
       "186204  Both good and bad results        \n",
       "549363  Retraction of previous feedback  \n",
       "\n",
       "[123631 rows x 2 columns]"
      ]
     },
     "execution_count": 38,
     "metadata": {},
     "output_type": "execute_result"
    }
   ],
   "source": [
    "df.TextLength.mean()\n",
    "df = df.drop(labels=[\"TextLength\"], axis=1)\n",
    "df"
   ]
  },
  {
   "cell_type": "code",
   "execution_count": 39,
   "metadata": {
    "id": "Vojuzy2sXxgy"
   },
   "outputs": [],
   "source": [
    "path = \"data/amazon-reviews-max50_half.csv\"\n",
    "df.to_csv(path, index=False)\n"
   ]
  }
 ],
 "metadata": {
  "colab": {
   "collapsed_sections": [],
   "name": "text_summarization-preproc.ipynb",
   "provenance": [
    {
     "file_id": "1v5WAH22ZG8RoC3WXSbCxpLpqeriMF6_Z",
     "timestamp": 1607968046416
    }
   ]
  },
  "kernelspec": {
   "display_name": "Python (seq2seq)",
   "language": "python",
   "name": "seq2seq"
  },
  "language_info": {
   "codemirror_mode": {
    "name": "ipython",
    "version": 3
   },
   "file_extension": ".py",
   "mimetype": "text/x-python",
   "name": "python",
   "nbconvert_exporter": "python",
   "pygments_lexer": "ipython3",
   "version": "3.8.5"
  }
 },
 "nbformat": 4,
 "nbformat_minor": 4
}
